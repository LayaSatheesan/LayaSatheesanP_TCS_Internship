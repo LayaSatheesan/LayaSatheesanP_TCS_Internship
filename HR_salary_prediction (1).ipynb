{
 "cells": [
  {
   "cell_type": "code",
   "execution_count": 1,
   "id": "12ba246e",
   "metadata": {},
   "outputs": [],
   "source": [
    "#import libraries*\n",
    "import pandas as pd\n",
    "import numpy as np\n",
    "import seaborn as sns\n",
    "import matplotlib.pyplot as plt"
   ]
  },
  {
   "cell_type": "code",
   "execution_count": 2,
   "id": "6d67019e",
   "metadata": {},
   "outputs": [],
   "source": [
    "#read dataset to python environment\n",
    "data=pd.read_csv(r\"C:\\Users\\Dell\\Downloads\\salarydata.csv\")"
   ]
  },
  {
   "cell_type": "code",
   "execution_count": 3,
   "id": "4578f24c",
   "metadata": {},
   "outputs": [
    {
     "data": {
      "text/html": [
       "<div>\n",
       "<style scoped>\n",
       "    .dataframe tbody tr th:only-of-type {\n",
       "        vertical-align: middle;\n",
       "    }\n",
       "\n",
       "    .dataframe tbody tr th {\n",
       "        vertical-align: top;\n",
       "    }\n",
       "\n",
       "    .dataframe thead th {\n",
       "        text-align: right;\n",
       "    }\n",
       "</style>\n",
       "<table border=\"1\" class=\"dataframe\">\n",
       "  <thead>\n",
       "    <tr style=\"text-align: right;\">\n",
       "      <th></th>\n",
       "      <th>age</th>\n",
       "      <th>workclass</th>\n",
       "      <th>education</th>\n",
       "      <th>education-num</th>\n",
       "      <th>marital-status</th>\n",
       "      <th>occupation</th>\n",
       "      <th>relationship</th>\n",
       "      <th>race</th>\n",
       "      <th>sex</th>\n",
       "      <th>capital-gain</th>\n",
       "      <th>capital-loss</th>\n",
       "      <th>hours-per-week</th>\n",
       "      <th>native-country</th>\n",
       "      <th>salary</th>\n",
       "    </tr>\n",
       "  </thead>\n",
       "  <tbody>\n",
       "    <tr>\n",
       "      <th>0</th>\n",
       "      <td>39</td>\n",
       "      <td>State-gov</td>\n",
       "      <td>Bachelors</td>\n",
       "      <td>13</td>\n",
       "      <td>Never-married</td>\n",
       "      <td>Adm-clerical</td>\n",
       "      <td>Not-in-family</td>\n",
       "      <td>White</td>\n",
       "      <td>Male</td>\n",
       "      <td>2174</td>\n",
       "      <td>0</td>\n",
       "      <td>40</td>\n",
       "      <td>United-States</td>\n",
       "      <td>&lt;=50K</td>\n",
       "    </tr>\n",
       "    <tr>\n",
       "      <th>1</th>\n",
       "      <td>50</td>\n",
       "      <td>Self-emp-not-inc</td>\n",
       "      <td>Bachelors</td>\n",
       "      <td>13</td>\n",
       "      <td>Married-civ-spouse</td>\n",
       "      <td>Exec-managerial</td>\n",
       "      <td>Husband</td>\n",
       "      <td>White</td>\n",
       "      <td>Male</td>\n",
       "      <td>0</td>\n",
       "      <td>0</td>\n",
       "      <td>13</td>\n",
       "      <td>United-States</td>\n",
       "      <td>&lt;=50K</td>\n",
       "    </tr>\n",
       "    <tr>\n",
       "      <th>2</th>\n",
       "      <td>38</td>\n",
       "      <td>Private</td>\n",
       "      <td>HS-grad</td>\n",
       "      <td>9</td>\n",
       "      <td>Divorced</td>\n",
       "      <td>Handlers-cleaners</td>\n",
       "      <td>Not-in-family</td>\n",
       "      <td>White</td>\n",
       "      <td>Male</td>\n",
       "      <td>0</td>\n",
       "      <td>0</td>\n",
       "      <td>40</td>\n",
       "      <td>United-States</td>\n",
       "      <td>&lt;=50K</td>\n",
       "    </tr>\n",
       "    <tr>\n",
       "      <th>3</th>\n",
       "      <td>53</td>\n",
       "      <td>Private</td>\n",
       "      <td>11th</td>\n",
       "      <td>7</td>\n",
       "      <td>Married-civ-spouse</td>\n",
       "      <td>Handlers-cleaners</td>\n",
       "      <td>Husband</td>\n",
       "      <td>Black</td>\n",
       "      <td>Male</td>\n",
       "      <td>0</td>\n",
       "      <td>0</td>\n",
       "      <td>40</td>\n",
       "      <td>United-States</td>\n",
       "      <td>&lt;=50K</td>\n",
       "    </tr>\n",
       "    <tr>\n",
       "      <th>4</th>\n",
       "      <td>28</td>\n",
       "      <td>Private</td>\n",
       "      <td>Bachelors</td>\n",
       "      <td>13</td>\n",
       "      <td>Married-civ-spouse</td>\n",
       "      <td>Prof-specialty</td>\n",
       "      <td>Wife</td>\n",
       "      <td>Black</td>\n",
       "      <td>Female</td>\n",
       "      <td>0</td>\n",
       "      <td>0</td>\n",
       "      <td>40</td>\n",
       "      <td>Cuba</td>\n",
       "      <td>&lt;=50K</td>\n",
       "    </tr>\n",
       "  </tbody>\n",
       "</table>\n",
       "</div>"
      ],
      "text/plain": [
       "   age         workclass  education  education-num      marital-status  \\\n",
       "0   39         State-gov  Bachelors             13       Never-married   \n",
       "1   50  Self-emp-not-inc  Bachelors             13  Married-civ-spouse   \n",
       "2   38           Private    HS-grad              9            Divorced   \n",
       "3   53           Private       11th              7  Married-civ-spouse   \n",
       "4   28           Private  Bachelors             13  Married-civ-spouse   \n",
       "\n",
       "          occupation   relationship   race     sex  capital-gain  \\\n",
       "0       Adm-clerical  Not-in-family  White    Male          2174   \n",
       "1    Exec-managerial        Husband  White    Male             0   \n",
       "2  Handlers-cleaners  Not-in-family  White    Male             0   \n",
       "3  Handlers-cleaners        Husband  Black    Male             0   \n",
       "4     Prof-specialty           Wife  Black  Female             0   \n",
       "\n",
       "   capital-loss  hours-per-week native-country salary  \n",
       "0             0              40  United-States  <=50K  \n",
       "1             0              13  United-States  <=50K  \n",
       "2             0              40  United-States  <=50K  \n",
       "3             0              40  United-States  <=50K  \n",
       "4             0              40           Cuba  <=50K  "
      ]
     },
     "execution_count": 3,
     "metadata": {},
     "output_type": "execute_result"
    }
   ],
   "source": [
    "#display default 5 rows of data frame\n",
    "data.head()"
   ]
  },
  {
   "cell_type": "markdown",
   "id": "2ca33b5b",
   "metadata": {},
   "source": [
    "# Understanding about dataset"
   ]
  },
  {
   "cell_type": "code",
   "execution_count": 4,
   "id": "561c8bbb",
   "metadata": {},
   "outputs": [
    {
     "data": {
      "text/plain": [
       "(32561, 14)"
      ]
     },
     "execution_count": 4,
     "metadata": {},
     "output_type": "execute_result"
    }
   ],
   "source": [
    "#Check diamension of dataset\n",
    "data.shape"
   ]
  },
  {
   "cell_type": "code",
   "execution_count": 5,
   "id": "b38d2216",
   "metadata": {},
   "outputs": [
    {
     "data": {
      "text/plain": [
       "Index(['age', 'workclass', 'education', 'education-num', 'marital-status',\n",
       "       'occupation', 'relationship', 'race', 'sex', 'capital-gain',\n",
       "       'capital-loss', 'hours-per-week', 'native-country', 'salary'],\n",
       "      dtype='object')"
      ]
     },
     "execution_count": 5,
     "metadata": {},
     "output_type": "execute_result"
    }
   ],
   "source": [
    "#display the columns\n",
    "data.columns"
   ]
  },
  {
   "cell_type": "code",
   "execution_count": 6,
   "id": "03193493",
   "metadata": {},
   "outputs": [
    {
     "data": {
      "text/html": [
       "<div>\n",
       "<style scoped>\n",
       "    .dataframe tbody tr th:only-of-type {\n",
       "        vertical-align: middle;\n",
       "    }\n",
       "\n",
       "    .dataframe tbody tr th {\n",
       "        vertical-align: top;\n",
       "    }\n",
       "\n",
       "    .dataframe thead th {\n",
       "        text-align: right;\n",
       "    }\n",
       "</style>\n",
       "<table border=\"1\" class=\"dataframe\">\n",
       "  <thead>\n",
       "    <tr style=\"text-align: right;\">\n",
       "      <th></th>\n",
       "      <th>age</th>\n",
       "      <th>education-num</th>\n",
       "      <th>capital-gain</th>\n",
       "      <th>capital-loss</th>\n",
       "      <th>hours-per-week</th>\n",
       "    </tr>\n",
       "  </thead>\n",
       "  <tbody>\n",
       "    <tr>\n",
       "      <th>count</th>\n",
       "      <td>32561.000000</td>\n",
       "      <td>32561.000000</td>\n",
       "      <td>32561.000000</td>\n",
       "      <td>32561.000000</td>\n",
       "      <td>32561.000000</td>\n",
       "    </tr>\n",
       "    <tr>\n",
       "      <th>mean</th>\n",
       "      <td>38.581647</td>\n",
       "      <td>10.080679</td>\n",
       "      <td>1077.648844</td>\n",
       "      <td>87.303830</td>\n",
       "      <td>40.437456</td>\n",
       "    </tr>\n",
       "    <tr>\n",
       "      <th>std</th>\n",
       "      <td>13.640433</td>\n",
       "      <td>2.572720</td>\n",
       "      <td>7385.292085</td>\n",
       "      <td>402.960219</td>\n",
       "      <td>12.347429</td>\n",
       "    </tr>\n",
       "    <tr>\n",
       "      <th>min</th>\n",
       "      <td>17.000000</td>\n",
       "      <td>1.000000</td>\n",
       "      <td>0.000000</td>\n",
       "      <td>0.000000</td>\n",
       "      <td>1.000000</td>\n",
       "    </tr>\n",
       "    <tr>\n",
       "      <th>25%</th>\n",
       "      <td>28.000000</td>\n",
       "      <td>9.000000</td>\n",
       "      <td>0.000000</td>\n",
       "      <td>0.000000</td>\n",
       "      <td>40.000000</td>\n",
       "    </tr>\n",
       "    <tr>\n",
       "      <th>50%</th>\n",
       "      <td>37.000000</td>\n",
       "      <td>10.000000</td>\n",
       "      <td>0.000000</td>\n",
       "      <td>0.000000</td>\n",
       "      <td>40.000000</td>\n",
       "    </tr>\n",
       "    <tr>\n",
       "      <th>75%</th>\n",
       "      <td>48.000000</td>\n",
       "      <td>12.000000</td>\n",
       "      <td>0.000000</td>\n",
       "      <td>0.000000</td>\n",
       "      <td>45.000000</td>\n",
       "    </tr>\n",
       "    <tr>\n",
       "      <th>max</th>\n",
       "      <td>90.000000</td>\n",
       "      <td>16.000000</td>\n",
       "      <td>99999.000000</td>\n",
       "      <td>4356.000000</td>\n",
       "      <td>99.000000</td>\n",
       "    </tr>\n",
       "  </tbody>\n",
       "</table>\n",
       "</div>"
      ],
      "text/plain": [
       "                age  education-num  capital-gain  capital-loss  hours-per-week\n",
       "count  32561.000000   32561.000000  32561.000000  32561.000000    32561.000000\n",
       "mean      38.581647      10.080679   1077.648844     87.303830       40.437456\n",
       "std       13.640433       2.572720   7385.292085    402.960219       12.347429\n",
       "min       17.000000       1.000000      0.000000      0.000000        1.000000\n",
       "25%       28.000000       9.000000      0.000000      0.000000       40.000000\n",
       "50%       37.000000      10.000000      0.000000      0.000000       40.000000\n",
       "75%       48.000000      12.000000      0.000000      0.000000       45.000000\n",
       "max       90.000000      16.000000  99999.000000   4356.000000       99.000000"
      ]
     },
     "execution_count": 6,
     "metadata": {},
     "output_type": "execute_result"
    }
   ],
   "source": [
    "#Statistical summary\n",
    "data.describe()"
   ]
  },
  {
   "cell_type": "code",
   "execution_count": 7,
   "id": "1bb0cf3d",
   "metadata": {},
   "outputs": [
    {
     "name": "stdout",
     "output_type": "stream",
     "text": [
      "<class 'pandas.core.frame.DataFrame'>\n",
      "RangeIndex: 32561 entries, 0 to 32560\n",
      "Data columns (total 14 columns):\n",
      " #   Column          Non-Null Count  Dtype \n",
      "---  ------          --------------  ----- \n",
      " 0   age             32561 non-null  int64 \n",
      " 1   workclass       32561 non-null  object\n",
      " 2   education       32561 non-null  object\n",
      " 3   education-num   32561 non-null  int64 \n",
      " 4   marital-status  32561 non-null  object\n",
      " 5   occupation      32561 non-null  object\n",
      " 6   relationship    32561 non-null  object\n",
      " 7   race            32561 non-null  object\n",
      " 8   sex             32561 non-null  object\n",
      " 9   capital-gain    32561 non-null  int64 \n",
      " 10  capital-loss    32561 non-null  int64 \n",
      " 11  hours-per-week  32561 non-null  int64 \n",
      " 12  native-country  32561 non-null  object\n",
      " 13  salary          32561 non-null  object\n",
      "dtypes: int64(5), object(9)\n",
      "memory usage: 3.5+ MB\n"
     ]
    }
   ],
   "source": [
    "#basic information about dataset\n",
    "data.info()"
   ]
  },
  {
   "cell_type": "code",
   "execution_count": 8,
   "id": "ed6ceff5",
   "metadata": {},
   "outputs": [
    {
     "data": {
      "text/plain": [
       "Index(['age', 'workclass', 'education', 'education-num', 'marital-status',\n",
       "       'occupation', 'relationship', 'race', 'sex', 'capital-gain',\n",
       "       'capital-loss', 'hours-per-week', 'native-country', 'salary'],\n",
       "      dtype='object')"
      ]
     },
     "execution_count": 8,
     "metadata": {},
     "output_type": "execute_result"
    }
   ],
   "source": [
    "#creating a Dataframe from the given dataset\n",
    "data1 = pd.DataFrame(data)\n",
    "data1.columns"
   ]
  },
  {
   "cell_type": "markdown",
   "id": "d0aeff52",
   "metadata": {},
   "source": [
    "# EDA"
   ]
  },
  {
   "cell_type": "code",
   "execution_count": 9,
   "id": "9e150b50",
   "metadata": {},
   "outputs": [
    {
     "data": {
      "image/png": "[encoded data removed]",
      "text/plain": [
       "<Figure size 432x288 with 1 Axes>"
      ]
     },
     "metadata": {
      "needs_background": "light"
     },
     "output_type": "display_data"
    }
   ],
   "source": [
    "sns.countplot(x=data1[\"salary\"])\n",
    "plt.title(\"Countplot of salary\")\n",
    "plt.xlabel(\"salary\")\n",
    "plt.ylabel(\"Count\")\n",
    "plt.show()"
   ]
  },
  {
   "cell_type": "markdown",
   "id": "1971fc65",
   "metadata": {},
   "source": [
    "Most of the people got salary less than or equal to 50k"
   ]
  },
  {
   "cell_type": "code",
   "execution_count": 10,
   "id": "0a32379a",
   "metadata": {},
   "outputs": [
    {
     "data": {
      "image/png": "[encoded data removed]",
      "text/plain": [
       "<Figure size 432x288 with 1 Axes>"
      ]
     },
     "metadata": {
      "needs_background": "light"
     },
     "output_type": "display_data"
    }
   ],
   "source": [
    "sns.countplot(x=data1[\"sex\"])\n",
    "plt.title(\"Countplot of sex\")\n",
    "plt.xlabel(\"sex\")\n",
    "plt.ylabel(\"Count\")\n",
    "plt.show()"
   ]
  },
  {
   "cell_type": "code",
   "execution_count": 11,
   "id": "9ec30b71",
   "metadata": {},
   "outputs": [
    {
     "data": {
      "text/plain": [
       "Male      0.669205\n",
       "Female    0.330795\n",
       "Name: sex, dtype: float64"
      ]
     },
     "execution_count": 11,
     "metadata": {},
     "output_type": "execute_result"
    }
   ],
   "source": [
    "data1[\"sex\"].value_counts(normalize=True)"
   ]
  },
  {
   "cell_type": "markdown",
   "id": "6410ace0",
   "metadata": {},
   "source": [
    "In this dataset male count is more than female. Arount 67% are males.Others are females."
   ]
  },
  {
   "cell_type": "code",
   "execution_count": 12,
   "id": "3fd3d699",
   "metadata": {},
   "outputs": [
    {
     "data": {
      "image/png": "[encoded data removed]",
      "text/plain": [
       "<Figure size 432x288 with 1 Axes>"
      ]
     },
     "metadata": {},
     "output_type": "display_data"
    }
   ],
   "source": [
    "#Checking race\n",
    "\n",
    "data1['race'].value_counts().plot(kind = 'pie')\n",
    "plt.legend()\n",
    "plt.rcParams['figure.figsize'] = (10,10)\n",
    "plt.show()"
   ]
  },
  {
   "cell_type": "markdown",
   "id": "80e40667",
   "metadata": {},
   "source": [
    "Most of the are from white race. "
   ]
  },
  {
   "cell_type": "code",
   "execution_count": 13,
   "id": "050195e8",
   "metadata": {},
   "outputs": [
    {
     "data": {
      "image/png": "[encoded data removed]",
      "text/plain": [
       "<Figure size 720x720 with 1 Axes>"
      ]
     },
     "metadata": {
      "needs_background": "light"
     },
     "output_type": "display_data"
    }
   ],
   "source": [
    "sns.countplot(x=data1[\"relationship\"])\n",
    "plt.title(\"Countplot of relationship\")\n",
    "plt.xlabel(\"Relationship\")\n",
    "plt.ylabel(\"Count\")\n",
    "plt.xticks(rotation=90)\n",
    "plt.show()"
   ]
  },
  {
   "cell_type": "markdown",
   "id": "563a4d0f",
   "metadata": {},
   "source": [
    "Above 12k people in this dataset having a relationship as husband.More than 8k people under the category of not-in-family."
   ]
  },
  {
   "cell_type": "code",
   "execution_count": 14,
   "id": "ea0f2572",
   "metadata": {},
   "outputs": [
    {
     "data": {
      "image/png": "[encoded data removed]",
      "text/plain": [
       "<Figure size 720x720 with 1 Axes>"
      ]
     },
     "metadata": {},
     "output_type": "display_data"
    }
   ],
   "source": [
    "#Checking race\n",
    "\n",
    "data1['occupation'].value_counts().plot(kind = 'pie')\n",
    "plt.legend()\n",
    "plt.rcParams['figure.figsize'] = (15,10)\n",
    "plt.show()"
   ]
  },
  {
   "cell_type": "code",
   "execution_count": 15,
   "id": "d94cfb85",
   "metadata": {
    "scrolled": true
   },
   "outputs": [
    {
     "data": {
      "image/png": "[encoded data removed]",
      "text/plain": [
       "<Figure size 1080x720 with 1 Axes>"
      ]
     },
     "metadata": {
      "needs_background": "light"
     },
     "output_type": "display_data"
    }
   ],
   "source": [
    "sns.countplot(x=data1[\"marital-status\"])\n",
    "plt.title(\"Countplot of marital-status\")\n",
    "plt.xlabel(\"Marital-status\")\n",
    "plt.ylabel(\"Count\")\n",
    "plt.xticks(rotation=90)\n",
    "plt.show()"
   ]
  },
  {
   "cell_type": "code",
   "execution_count": 16,
   "id": "6b59e605",
   "metadata": {},
   "outputs": [
    {
     "data": {
      "image/png": "[encoded data removed]",
      "text/plain": [
       "<Figure size 1080x720 with 1 Axes>"
      ]
     },
     "metadata": {
      "needs_background": "light"
     },
     "output_type": "display_data"
    }
   ],
   "source": [
    "sns.countplot(x=data1[\"education\"])\n",
    "plt.title(\"Countplot of education\")\n",
    "plt.xlabel(\"Education\")\n",
    "plt.ylabel(\"Count\")\n",
    "plt.xticks(rotation=90)\n",
    "plt.show()"
   ]
  },
  {
   "cell_type": "code",
   "execution_count": 17,
   "id": "e0a25c2f",
   "metadata": {},
   "outputs": [
    {
     "data": {
      "image/png": "[encoded data removed]",
      "text/plain": [
       "<Figure size 1080x720 with 1 Axes>"
      ]
     },
     "metadata": {
      "needs_background": "light"
     },
     "output_type": "display_data"
    }
   ],
   "source": [
    "sns.countplot(x=data1[\"workclass\"])\n",
    "plt.title(\"Countplot of workclass\")\n",
    "plt.xlabel(\"Workclass\")\n",
    "plt.ylabel(\"Count\")\n",
    "plt.xticks(rotation=90)\n",
    "plt.show()"
   ]
  },
  {
   "cell_type": "code",
   "execution_count": 18,
   "id": "2582cb27",
   "metadata": {},
   "outputs": [
    {
     "data": {
      "image/png": "[encoded data removed]",
      "text/plain": [
       "<Figure size 1080x720 with 1 Axes>"
      ]
     },
     "metadata": {
      "needs_background": "light"
     },
     "output_type": "display_data"
    }
   ],
   "source": [
    "sns.lineplot(x=data1['salary'],y=data1['age'],marker='o')\n",
    "plt.title('Lineplot of salary Vs age')\n",
    "plt.show()"
   ]
  },
  {
   "cell_type": "code",
   "execution_count": 19,
   "id": "302ded38",
   "metadata": {},
   "outputs": [
    {
     "data": {
      "image/png": "[encoded data removed]",
      "text/plain": [
       "<Figure size 576x432 with 1 Axes>"
      ]
     },
     "metadata": {
      "needs_background": "light"
     },
     "output_type": "display_data"
    }
   ],
   "source": [
    "plt.figure(figsize=(8,6))\n",
    "sns.histplot(data1[\"age\"],binwidth=5)\n",
    "plt.title(\"Distribution of age\")\n",
    "plt.show()"
   ]
  },
  {
   "cell_type": "code",
   "execution_count": 20,
   "id": "94f1ae25",
   "metadata": {},
   "outputs": [
    {
     "data": {
      "image/png": "[encoded data removed]",
      "text/plain": [
       "<Figure size 576x432 with 1 Axes>"
      ]
     },
     "metadata": {
      "needs_background": "light"
     },
     "output_type": "display_data"
    }
   ],
   "source": [
    "plt.figure(figsize=(8,6))\n",
    "sns.histplot(data1[\"education-num\"],binwidth=5)\n",
    "plt.title(\"Distribution of education-num\")\n",
    "plt.show()"
   ]
  },
  {
   "cell_type": "code",
   "execution_count": 21,
   "id": "a29c79c7",
   "metadata": {},
   "outputs": [
    {
     "data": {
      "image/png": "[encoded data removed]",
      "text/plain": [
       "<Figure size 576x432 with 1 Axes>"
      ]
     },
     "metadata": {
      "needs_background": "light"
     },
     "output_type": "display_data"
    }
   ],
   "source": [
    "plt.figure(figsize=(8,6))\n",
    "sns.histplot(data1[\"capital-gain\"])\n",
    "plt.title(\"Distribution of capital-gain\")\n",
    "plt.show()"
   ]
  },
  {
   "cell_type": "code",
   "execution_count": 22,
   "id": "380185e2",
   "metadata": {},
   "outputs": [
    {
     "data": {
      "image/png": "[encoded data removed]",
      "text/plain": [
       "<Figure size 576x432 with 1 Axes>"
      ]
     },
     "metadata": {
      "needs_background": "light"
     },
     "output_type": "display_data"
    }
   ],
   "source": [
    "plt.figure(figsize=(8,6))\n",
    "sns.histplot(data1[\"capital-loss\"])\n",
    "plt.title(\"Distribution of capital-loss\")\n",
    "plt.show()"
   ]
  },
  {
   "cell_type": "code",
   "execution_count": 23,
   "id": "fb3c15e3",
   "metadata": {},
   "outputs": [
    {
     "data": {
      "image/png": "[encoded data removed]",
      "text/plain": [
       "<Figure size 576x432 with 1 Axes>"
      ]
     },
     "metadata": {
      "needs_background": "light"
     },
     "output_type": "display_data"
    }
   ],
   "source": [
    "plt.figure(figsize=(8,6))\n",
    "sns.histplot(data1[\"hours-per-week\"],binwidth=5)\n",
    "plt.title(\"Distribution of hours-per-week\")\n",
    "plt.show()"
   ]
  },
  {
   "cell_type": "code",
   "execution_count": 24,
   "id": "191ba239",
   "metadata": {},
   "outputs": [
    {
     "data": {
      "image/png": "[encoded data removed]",
      "text/plain": [
       "<Figure size 360x360 with 1 Axes>"
      ]
     },
     "metadata": {
      "needs_background": "light"
     },
     "output_type": "display_data"
    }
   ],
   "source": [
    "#Plotting Salary vs age\n",
    "sns.catplot(x=\"salary\", y= \"age\", kind=\"box\", data=data1)\n",
    "plt.show()"
   ]
  },
  {
   "cell_type": "code",
   "execution_count": 25,
   "id": "51137b2e",
   "metadata": {},
   "outputs": [
    {
     "data": {
      "text/plain": [
       "<seaborn.axisgrid.FacetGrid at 0x1c85abb82e0>"
      ]
     },
     "execution_count": 25,
     "metadata": {},
     "output_type": "execute_result"
    },
    {
     "data": {
      "image/png": "[encoded data removed]",
      "text/plain": [
       "<Figure size 360x360 with 1 Axes>"
      ]
     },
     "metadata": {
      "needs_background": "light"
     },
     "output_type": "display_data"
    }
   ],
   "source": [
    "# Plotting Salary vs fnlwgt\n",
    "sns.catplot(x=\"age\", y= \"race\", kind=\"box\", data=data1)"
   ]
  },
  {
   "cell_type": "code",
   "execution_count": 26,
   "id": "8970edf5",
   "metadata": {},
   "outputs": [
    {
     "data": {
      "text/plain": [
       "<seaborn.axisgrid.FacetGrid at 0x1c85aea7280>"
      ]
     },
     "execution_count": 26,
     "metadata": {},
     "output_type": "execute_result"
    },
    {
     "data": {
      "image/png": "[encoded data removed]",
      "text/plain": [
       "<Figure size 360x360 with 1 Axes>"
      ]
     },
     "metadata": {
      "needs_background": "light"
     },
     "output_type": "display_data"
    }
   ],
   "source": [
    "# Plotting Salary vs hours_per_week\n",
    "sns.catplot(x=\"sex\", y= \"hours-per-week\", kind=\"violin\", data=data1)"
   ]
  },
  {
   "cell_type": "code",
   "execution_count": 27,
   "id": "619a3923",
   "metadata": {},
   "outputs": [
    {
     "data": {
      "image/png": "[encoded data removed]",
      "text/plain": [
       "<Figure size 1440x1440 with 5 Axes>"
      ]
     },
     "metadata": {
      "needs_background": "light"
     },
     "output_type": "display_data"
    }
   ],
   "source": [
    "#setting the required plot style\n",
    "plt.style.use('bmh')\n",
    "#Defining a function graph()\n",
    "def graph(x):\n",
    "    sns.countplot(x = x,hue= 'salary', data = data1 )\n",
    "    #adding labels for x and y axis\n",
    "    plt.xlabel(x, fontsize = 15)\n",
    "    plt.ylabel('Count', fontsize = 15)\n",
    "    plt.xticks(fontsize=9)\n",
    "    plt.yticks(fontsize=9)\n",
    "plt.figure(figsize=(20,20))\n",
    "#plotting subplots using the function graph()\n",
    "plt.subplot(421)\n",
    "graph('age')\n",
    "plt.subplot(422)\n",
    "graph('education-num')\n",
    "plt.subplot(423)\n",
    "graph('capital-gain')\n",
    "plt.subplot(424)\n",
    "graph('capital-loss')\n",
    "plt.subplot(425)\n",
    "graph('hours-per-week')\n"
   ]
  },
  {
   "cell_type": "markdown",
   "id": "3370fbee",
   "metadata": {},
   "source": [
    "# Data Cleaning"
   ]
  },
  {
   "cell_type": "code",
   "execution_count": 28,
   "id": "b92f20c3",
   "metadata": {},
   "outputs": [
    {
     "data": {
      "text/plain": [
       "age               0\n",
       "workclass         0\n",
       "education         0\n",
       "education-num     0\n",
       "marital-status    0\n",
       "occupation        0\n",
       "relationship      0\n",
       "race              0\n",
       "sex               0\n",
       "capital-gain      0\n",
       "capital-loss      0\n",
       "hours-per-week    0\n",
       "native-country    0\n",
       "salary            0\n",
       "dtype: int64"
      ]
     },
     "execution_count": 28,
     "metadata": {},
     "output_type": "execute_result"
    }
   ],
   "source": [
    "#Checking for null values\n",
    "data1.isna().sum()"
   ]
  },
  {
   "cell_type": "code",
   "execution_count": 29,
   "id": "e5f147f2",
   "metadata": {},
   "outputs": [
    {
     "data": {
      "text/plain": [
       "age                  0\n",
       "workclass         1836\n",
       "education            0\n",
       "education-num        0\n",
       "marital-status       0\n",
       "occupation        1843\n",
       "relationship         0\n",
       "race                 0\n",
       "sex                  0\n",
       "capital-gain         0\n",
       "capital-loss         0\n",
       "hours-per-week       0\n",
       "native-country     583\n",
       "salary               0\n",
       "dtype: int64"
      ]
     },
     "execution_count": 29,
     "metadata": {},
     "output_type": "execute_result"
    }
   ],
   "source": [
    "#we can see that there are some special characters in the data like ‘?’.\n",
    "#Finding the special characters in the data frame\n",
    "data1.isin(['?']).sum(axis=0)"
   ]
  },
  {
   "cell_type": "code",
   "execution_count": 30,
   "id": "0c8495ef",
   "metadata": {},
   "outputs": [],
   "source": [
    "#Handling missing values\n",
    "# the code will replace the special character to nan  \n",
    "data1['native-country'] = data1['native-country'].replace('?',np.nan)\n",
    "data1['workclass'] = data1['workclass'].replace('?',np.nan)\n",
    "data1['occupation'] = data1['occupation'].replace('?',np.nan)"
   ]
  },
  {
   "cell_type": "code",
   "execution_count": 31,
   "id": "f9020cd1",
   "metadata": {},
   "outputs": [
    {
     "data": {
      "text/plain": [
       "age                  0\n",
       "workclass         1836\n",
       "education            0\n",
       "education-num        0\n",
       "marital-status       0\n",
       "occupation        1843\n",
       "relationship         0\n",
       "race                 0\n",
       "sex                  0\n",
       "capital-gain         0\n",
       "capital-loss         0\n",
       "hours-per-week       0\n",
       "native-country     583\n",
       "salary               0\n",
       "dtype: int64"
      ]
     },
     "execution_count": 31,
     "metadata": {},
     "output_type": "execute_result"
    }
   ],
   "source": [
    "data1.isnull().sum()"
   ]
  },
  {
   "cell_type": "code",
   "execution_count": 32,
   "id": "599f6e32",
   "metadata": {},
   "outputs": [],
   "source": [
    "#we will use the pandas DataFrame mode() method to fill the missing value.\n",
    "data1 = data1.fillna(data.mode().iloc[0])"
   ]
  },
  {
   "cell_type": "code",
   "execution_count": 33,
   "id": "98abe3ec",
   "metadata": {},
   "outputs": [
    {
     "data": {
      "text/plain": [
       "age               0\n",
       "workclass         0\n",
       "education         0\n",
       "education-num     0\n",
       "marital-status    0\n",
       "occupation        0\n",
       "relationship      0\n",
       "race              0\n",
       "sex               0\n",
       "capital-gain      0\n",
       "capital-loss      0\n",
       "hours-per-week    0\n",
       "native-country    0\n",
       "salary            0\n",
       "dtype: int64"
      ]
     },
     "execution_count": 33,
     "metadata": {},
     "output_type": "execute_result"
    }
   ],
   "source": [
    "data1.isnull().sum()"
   ]
  },
  {
   "cell_type": "code",
   "execution_count": 34,
   "id": "24024f13",
   "metadata": {},
   "outputs": [
    {
     "data": {
      "text/html": [
       "<div>\n",
       "<style scoped>\n",
       "    .dataframe tbody tr th:only-of-type {\n",
       "        vertical-align: middle;\n",
       "    }\n",
       "\n",
       "    .dataframe tbody tr th {\n",
       "        vertical-align: top;\n",
       "    }\n",
       "\n",
       "    .dataframe thead th {\n",
       "        text-align: right;\n",
       "    }\n",
       "</style>\n",
       "<table border=\"1\" class=\"dataframe\">\n",
       "  <thead>\n",
       "    <tr style=\"text-align: right;\">\n",
       "      <th></th>\n",
       "      <th>age</th>\n",
       "      <th>workclass</th>\n",
       "      <th>education</th>\n",
       "      <th>education-num</th>\n",
       "      <th>marital-status</th>\n",
       "      <th>occupation</th>\n",
       "      <th>relationship</th>\n",
       "      <th>race</th>\n",
       "      <th>sex</th>\n",
       "      <th>capital-gain</th>\n",
       "      <th>capital-loss</th>\n",
       "      <th>hours-per-week</th>\n",
       "      <th>native-country</th>\n",
       "      <th>salary</th>\n",
       "    </tr>\n",
       "  </thead>\n",
       "  <tbody>\n",
       "    <tr>\n",
       "      <th>352</th>\n",
       "      <td>33</td>\n",
       "      <td>Private</td>\n",
       "      <td>Bachelors</td>\n",
       "      <td>13</td>\n",
       "      <td>Married-civ-spouse</td>\n",
       "      <td>Exec-managerial</td>\n",
       "      <td>Husband</td>\n",
       "      <td>White</td>\n",
       "      <td>Male</td>\n",
       "      <td>0</td>\n",
       "      <td>0</td>\n",
       "      <td>40</td>\n",
       "      <td>United-States</td>\n",
       "      <td>&gt;50K</td>\n",
       "    </tr>\n",
       "    <tr>\n",
       "      <th>391</th>\n",
       "      <td>27</td>\n",
       "      <td>Private</td>\n",
       "      <td>Bachelors</td>\n",
       "      <td>13</td>\n",
       "      <td>Never-married</td>\n",
       "      <td>Craft-repair</td>\n",
       "      <td>Not-in-family</td>\n",
       "      <td>White</td>\n",
       "      <td>Male</td>\n",
       "      <td>0</td>\n",
       "      <td>0</td>\n",
       "      <td>50</td>\n",
       "      <td>United-States</td>\n",
       "      <td>&lt;=50K</td>\n",
       "    </tr>\n",
       "    <tr>\n",
       "      <th>563</th>\n",
       "      <td>24</td>\n",
       "      <td>Private</td>\n",
       "      <td>HS-grad</td>\n",
       "      <td>9</td>\n",
       "      <td>Never-married</td>\n",
       "      <td>Handlers-cleaners</td>\n",
       "      <td>Unmarried</td>\n",
       "      <td>Black</td>\n",
       "      <td>Female</td>\n",
       "      <td>0</td>\n",
       "      <td>0</td>\n",
       "      <td>40</td>\n",
       "      <td>United-States</td>\n",
       "      <td>&lt;=50K</td>\n",
       "    </tr>\n",
       "    <tr>\n",
       "      <th>570</th>\n",
       "      <td>24</td>\n",
       "      <td>Private</td>\n",
       "      <td>HS-grad</td>\n",
       "      <td>9</td>\n",
       "      <td>Never-married</td>\n",
       "      <td>Craft-repair</td>\n",
       "      <td>Own-child</td>\n",
       "      <td>White</td>\n",
       "      <td>Male</td>\n",
       "      <td>0</td>\n",
       "      <td>0</td>\n",
       "      <td>40</td>\n",
       "      <td>United-States</td>\n",
       "      <td>&lt;=50K</td>\n",
       "    </tr>\n",
       "    <tr>\n",
       "      <th>673</th>\n",
       "      <td>33</td>\n",
       "      <td>Private</td>\n",
       "      <td>Bachelors</td>\n",
       "      <td>13</td>\n",
       "      <td>Married-civ-spouse</td>\n",
       "      <td>Exec-managerial</td>\n",
       "      <td>Husband</td>\n",
       "      <td>White</td>\n",
       "      <td>Male</td>\n",
       "      <td>0</td>\n",
       "      <td>0</td>\n",
       "      <td>40</td>\n",
       "      <td>United-States</td>\n",
       "      <td>&gt;50K</td>\n",
       "    </tr>\n",
       "    <tr>\n",
       "      <th>...</th>\n",
       "      <td>...</td>\n",
       "      <td>...</td>\n",
       "      <td>...</td>\n",
       "      <td>...</td>\n",
       "      <td>...</td>\n",
       "      <td>...</td>\n",
       "      <td>...</td>\n",
       "      <td>...</td>\n",
       "      <td>...</td>\n",
       "      <td>...</td>\n",
       "      <td>...</td>\n",
       "      <td>...</td>\n",
       "      <td>...</td>\n",
       "      <td>...</td>\n",
       "    </tr>\n",
       "    <tr>\n",
       "      <th>32503</th>\n",
       "      <td>47</td>\n",
       "      <td>Private</td>\n",
       "      <td>HS-grad</td>\n",
       "      <td>9</td>\n",
       "      <td>Married-civ-spouse</td>\n",
       "      <td>Craft-repair</td>\n",
       "      <td>Husband</td>\n",
       "      <td>White</td>\n",
       "      <td>Male</td>\n",
       "      <td>0</td>\n",
       "      <td>0</td>\n",
       "      <td>40</td>\n",
       "      <td>United-States</td>\n",
       "      <td>&lt;=50K</td>\n",
       "    </tr>\n",
       "    <tr>\n",
       "      <th>32512</th>\n",
       "      <td>20</td>\n",
       "      <td>Private</td>\n",
       "      <td>HS-grad</td>\n",
       "      <td>9</td>\n",
       "      <td>Never-married</td>\n",
       "      <td>Machine-op-inspct</td>\n",
       "      <td>Own-child</td>\n",
       "      <td>White</td>\n",
       "      <td>Male</td>\n",
       "      <td>0</td>\n",
       "      <td>0</td>\n",
       "      <td>40</td>\n",
       "      <td>United-States</td>\n",
       "      <td>&lt;=50K</td>\n",
       "    </tr>\n",
       "    <tr>\n",
       "      <th>32527</th>\n",
       "      <td>22</td>\n",
       "      <td>Private</td>\n",
       "      <td>Some-college</td>\n",
       "      <td>10</td>\n",
       "      <td>Never-married</td>\n",
       "      <td>Adm-clerical</td>\n",
       "      <td>Own-child</td>\n",
       "      <td>White</td>\n",
       "      <td>Male</td>\n",
       "      <td>0</td>\n",
       "      <td>0</td>\n",
       "      <td>40</td>\n",
       "      <td>United-States</td>\n",
       "      <td>&lt;=50K</td>\n",
       "    </tr>\n",
       "    <tr>\n",
       "      <th>32557</th>\n",
       "      <td>40</td>\n",
       "      <td>Private</td>\n",
       "      <td>HS-grad</td>\n",
       "      <td>9</td>\n",
       "      <td>Married-civ-spouse</td>\n",
       "      <td>Machine-op-inspct</td>\n",
       "      <td>Husband</td>\n",
       "      <td>White</td>\n",
       "      <td>Male</td>\n",
       "      <td>0</td>\n",
       "      <td>0</td>\n",
       "      <td>40</td>\n",
       "      <td>United-States</td>\n",
       "      <td>&gt;50K</td>\n",
       "    </tr>\n",
       "    <tr>\n",
       "      <th>32559</th>\n",
       "      <td>22</td>\n",
       "      <td>Private</td>\n",
       "      <td>HS-grad</td>\n",
       "      <td>9</td>\n",
       "      <td>Never-married</td>\n",
       "      <td>Adm-clerical</td>\n",
       "      <td>Own-child</td>\n",
       "      <td>White</td>\n",
       "      <td>Male</td>\n",
       "      <td>0</td>\n",
       "      <td>0</td>\n",
       "      <td>20</td>\n",
       "      <td>United-States</td>\n",
       "      <td>&lt;=50K</td>\n",
       "    </tr>\n",
       "  </tbody>\n",
       "</table>\n",
       "<p>3591 rows × 14 columns</p>\n",
       "</div>"
      ],
      "text/plain": [
       "       age workclass     education  education-num      marital-status  \\\n",
       "352     33   Private     Bachelors             13  Married-civ-spouse   \n",
       "391     27   Private     Bachelors             13       Never-married   \n",
       "563     24   Private       HS-grad              9       Never-married   \n",
       "570     24   Private       HS-grad              9       Never-married   \n",
       "673     33   Private     Bachelors             13  Married-civ-spouse   \n",
       "...    ...       ...           ...            ...                 ...   \n",
       "32503   47   Private       HS-grad              9  Married-civ-spouse   \n",
       "32512   20   Private       HS-grad              9       Never-married   \n",
       "32527   22   Private  Some-college             10       Never-married   \n",
       "32557   40   Private       HS-grad              9  Married-civ-spouse   \n",
       "32559   22   Private       HS-grad              9       Never-married   \n",
       "\n",
       "              occupation   relationship   race     sex  capital-gain  \\\n",
       "352      Exec-managerial        Husband  White    Male             0   \n",
       "391         Craft-repair  Not-in-family  White    Male             0   \n",
       "563    Handlers-cleaners      Unmarried  Black  Female             0   \n",
       "570         Craft-repair      Own-child  White    Male             0   \n",
       "673      Exec-managerial        Husband  White    Male             0   \n",
       "...                  ...            ...    ...     ...           ...   \n",
       "32503       Craft-repair        Husband  White    Male             0   \n",
       "32512  Machine-op-inspct      Own-child  White    Male             0   \n",
       "32527       Adm-clerical      Own-child  White    Male             0   \n",
       "32557  Machine-op-inspct        Husband  White    Male             0   \n",
       "32559       Adm-clerical      Own-child  White    Male             0   \n",
       "\n",
       "       capital-loss  hours-per-week native-country salary  \n",
       "352               0              40  United-States   >50K  \n",
       "391               0              50  United-States  <=50K  \n",
       "563               0              40  United-States  <=50K  \n",
       "570               0              40  United-States  <=50K  \n",
       "673               0              40  United-States   >50K  \n",
       "...             ...             ...            ...    ...  \n",
       "32503             0              40  United-States  <=50K  \n",
       "32512             0              40  United-States  <=50K  \n",
       "32527             0              40  United-States  <=50K  \n",
       "32557             0              40  United-States   >50K  \n",
       "32559             0              20  United-States  <=50K  \n",
       "\n",
       "[3591 rows x 14 columns]"
      ]
     },
     "execution_count": 34,
     "metadata": {},
     "output_type": "execute_result"
    }
   ],
   "source": [
    "#check for duplicate entries\n",
    "data1[data1.duplicated()]"
   ]
  },
  {
   "cell_type": "code",
   "execution_count": 35,
   "id": "f428caae",
   "metadata": {},
   "outputs": [
    {
     "data": {
      "text/plain": [
       "3465"
      ]
     },
     "execution_count": 35,
     "metadata": {},
     "output_type": "execute_result"
    }
   ],
   "source": [
    "#Delete the duplicates and check that it worked\n",
    "data1 = data1.drop_duplicates(data.columns, keep='last')\n",
    "sum(data.duplicated(data.columns))"
   ]
  },
  {
   "cell_type": "code",
   "execution_count": 36,
   "id": "6a5cc9e0",
   "metadata": {},
   "outputs": [
    {
     "data": {
      "text/plain": [
       "(28970, 14)"
      ]
     },
     "execution_count": 36,
     "metadata": {},
     "output_type": "execute_result"
    }
   ],
   "source": [
    "data1.shape"
   ]
  },
  {
   "cell_type": "markdown",
   "id": "6e1efef8",
   "metadata": {},
   "source": [
    "# Outlier detection and handling"
   ]
  },
  {
   "cell_type": "code",
   "execution_count": 37,
   "id": "da542036",
   "metadata": {},
   "outputs": [
    {
     "data": {
      "image/png": "[encoded data removed]",
      "text/plain": [
       "<Figure size 1080x720 with 1 Axes>"
      ]
     },
     "metadata": {
      "needs_background": "light"
     },
     "output_type": "display_data"
    },
    {
     "data": {
      "image/png": "[encoded data removed]",
      "text/plain": [
       "<Figure size 1080x720 with 1 Axes>"
      ]
     },
     "metadata": {
      "needs_background": "light"
     },
     "output_type": "display_data"
    },
    {
     "data": {
      "image/png": "[encoded data removed]",
      "text/plain": [
       "<Figure size 1080x720 with 1 Axes>"
      ]
     },
     "metadata": {
      "needs_background": "light"
     },
     "output_type": "display_data"
    },
    {
     "data": {
      "image/png": "[encoded data removed]",
      "text/plain": [
       "<Figure size 1080x720 with 1 Axes>"
      ]
     },
     "metadata": {
      "needs_background": "light"
     },
     "output_type": "display_data"
    }
   ],
   "source": [
    "## checking outliers\n",
    "for i in ['age',\n",
    "       'capital-gain','capital-loss','hours-per-week'] :\n",
    "    plt.title(i)\n",
    "    sns.boxplot(data=data1[i])\n",
    "    plt.show()  \n"
   ]
  },
  {
   "cell_type": "code",
   "execution_count": 38,
   "id": "9efa67f9",
   "metadata": {},
   "outputs": [],
   "source": [
    "q1 = np.percentile(data1['age'],25,interpolation='midpoint')\n",
    "q3 = np.percentile(data1['age'],75,interpolation='midpoint')\n",
    "\n",
    "IQR = q3-q1\n",
    "low_limit=q1-1.5*IQR\n",
    "high_limit=q3+1.5*IQR\n",
    "\n",
    "index=data1['age'][(data1['age']<low_limit)|(data1['age']>high_limit)].index\n",
    "data1.drop(index,inplace=True)"
   ]
  },
  {
   "cell_type": "code",
   "execution_count": 39,
   "id": "5c1dba49",
   "metadata": {},
   "outputs": [
    {
     "data": {
      "text/plain": [
       "Text(0.5, 1.0, 'Box plot of age after removal of outlier')"
      ]
     },
     "execution_count": 39,
     "metadata": {},
     "output_type": "execute_result"
    },
    {
     "data": {
      "image/png": "[encoded data removed]",
      "text/plain": [
       "<Figure size 1080x720 with 1 Axes>"
      ]
     },
     "metadata": {
      "needs_background": "light"
     },
     "output_type": "display_data"
    }
   ],
   "source": [
    "plt.boxplot(data1['age'])\n",
    "plt.title('Box plot of age after removal of outlier')"
   ]
  },
  {
   "cell_type": "code",
   "execution_count": 40,
   "id": "9da9331a",
   "metadata": {},
   "outputs": [],
   "source": [
    "q1 = np.percentile(data1['hours-per-week'],25,interpolation='midpoint')\n",
    "q3 = np.percentile(data1['hours-per-week'],75,interpolation='midpoint')\n",
    "\n",
    "IQR = q3-q1\n",
    "low_limit=q1-1.5*IQR\n",
    "high_limit=q3+1.5*IQR\n",
    "\n",
    "index=data1['hours-per-week'][(data1['hours-per-week']<low_limit)|(data1['hours-per-week']>high_limit)].index\n",
    "data1.drop(index,inplace=True)"
   ]
  },
  {
   "cell_type": "code",
   "execution_count": 41,
   "id": "44b6a455",
   "metadata": {},
   "outputs": [
    {
     "data": {
      "image/png": "[encoded data removed]",
      "text/plain": [
       "<Figure size 1080x720 with 1 Axes>"
      ]
     },
     "metadata": {
      "needs_background": "light"
     },
     "output_type": "display_data"
    }
   ],
   "source": [
    "plt.boxplot(data1['hours-per-week'])\n",
    "plt.title('Box plot of hours-per-week after removal of outlier')\n",
    "plt.show()"
   ]
  },
  {
   "cell_type": "markdown",
   "id": "74a5c871",
   "metadata": {},
   "source": [
    "# Feature reduction"
   ]
  },
  {
   "cell_type": "code",
   "execution_count": 42,
   "id": "3786391e",
   "metadata": {},
   "outputs": [
    {
     "data": {
      "text/html": [
       "<div>\n",
       "<style scoped>\n",
       "    .dataframe tbody tr th:only-of-type {\n",
       "        vertical-align: middle;\n",
       "    }\n",
       "\n",
       "    .dataframe tbody tr th {\n",
       "        vertical-align: top;\n",
       "    }\n",
       "\n",
       "    .dataframe thead th {\n",
       "        text-align: right;\n",
       "    }\n",
       "</style>\n",
       "<table border=\"1\" class=\"dataframe\">\n",
       "  <thead>\n",
       "    <tr style=\"text-align: right;\">\n",
       "      <th></th>\n",
       "      <th>age</th>\n",
       "      <th>education-num</th>\n",
       "      <th>capital-gain</th>\n",
       "      <th>capital-loss</th>\n",
       "      <th>hours-per-week</th>\n",
       "    </tr>\n",
       "  </thead>\n",
       "  <tbody>\n",
       "    <tr>\n",
       "      <th>count</th>\n",
       "      <td>20468.000000</td>\n",
       "      <td>20468.000000</td>\n",
       "      <td>20468.000000</td>\n",
       "      <td>20468.000000</td>\n",
       "      <td>20468.000000</td>\n",
       "    </tr>\n",
       "    <tr>\n",
       "      <th>mean</th>\n",
       "      <td>39.333838</td>\n",
       "      <td>10.119797</td>\n",
       "      <td>1127.431845</td>\n",
       "      <td>100.393443</td>\n",
       "      <td>41.673441</td>\n",
       "    </tr>\n",
       "    <tr>\n",
       "      <th>std</th>\n",
       "      <td>12.211260</td>\n",
       "      <td>2.627231</td>\n",
       "      <td>7149.224082</td>\n",
       "      <td>428.671634</td>\n",
       "      <td>4.145915</td>\n",
       "    </tr>\n",
       "    <tr>\n",
       "      <th>min</th>\n",
       "      <td>17.000000</td>\n",
       "      <td>1.000000</td>\n",
       "      <td>0.000000</td>\n",
       "      <td>0.000000</td>\n",
       "      <td>33.000000</td>\n",
       "    </tr>\n",
       "    <tr>\n",
       "      <th>25%</th>\n",
       "      <td>30.000000</td>\n",
       "      <td>9.000000</td>\n",
       "      <td>0.000000</td>\n",
       "      <td>0.000000</td>\n",
       "      <td>40.000000</td>\n",
       "    </tr>\n",
       "    <tr>\n",
       "      <th>50%</th>\n",
       "      <td>38.000000</td>\n",
       "      <td>10.000000</td>\n",
       "      <td>0.000000</td>\n",
       "      <td>0.000000</td>\n",
       "      <td>40.000000</td>\n",
       "    </tr>\n",
       "    <tr>\n",
       "      <th>75%</th>\n",
       "      <td>48.000000</td>\n",
       "      <td>13.000000</td>\n",
       "      <td>0.000000</td>\n",
       "      <td>0.000000</td>\n",
       "      <td>44.000000</td>\n",
       "    </tr>\n",
       "    <tr>\n",
       "      <th>max</th>\n",
       "      <td>78.000000</td>\n",
       "      <td>16.000000</td>\n",
       "      <td>99999.000000</td>\n",
       "      <td>4356.000000</td>\n",
       "      <td>52.000000</td>\n",
       "    </tr>\n",
       "  </tbody>\n",
       "</table>\n",
       "</div>"
      ],
      "text/plain": [
       "                age  education-num  capital-gain  capital-loss  hours-per-week\n",
       "count  20468.000000   20468.000000  20468.000000  20468.000000    20468.000000\n",
       "mean      39.333838      10.119797   1127.431845    100.393443       41.673441\n",
       "std       12.211260       2.627231   7149.224082    428.671634        4.145915\n",
       "min       17.000000       1.000000      0.000000      0.000000       33.000000\n",
       "25%       30.000000       9.000000      0.000000      0.000000       40.000000\n",
       "50%       38.000000      10.000000      0.000000      0.000000       40.000000\n",
       "75%       48.000000      13.000000      0.000000      0.000000       44.000000\n",
       "max       78.000000      16.000000  99999.000000   4356.000000       52.000000"
      ]
     },
     "execution_count": 42,
     "metadata": {},
     "output_type": "execute_result"
    }
   ],
   "source": [
    "data1.describe()"
   ]
  },
  {
   "cell_type": "code",
   "execution_count": 43,
   "id": "ed2cb798",
   "metadata": {},
   "outputs": [
    {
     "data": {
      "text/html": [
       "<div>\n",
       "<style scoped>\n",
       "    .dataframe tbody tr th:only-of-type {\n",
       "        vertical-align: middle;\n",
       "    }\n",
       "\n",
       "    .dataframe tbody tr th {\n",
       "        vertical-align: top;\n",
       "    }\n",
       "\n",
       "    .dataframe thead th {\n",
       "        text-align: right;\n",
       "    }\n",
       "</style>\n",
       "<table border=\"1\" class=\"dataframe\">\n",
       "  <thead>\n",
       "    <tr style=\"text-align: right;\">\n",
       "      <th></th>\n",
       "      <th>workclass</th>\n",
       "      <th>education</th>\n",
       "      <th>marital-status</th>\n",
       "      <th>occupation</th>\n",
       "      <th>relationship</th>\n",
       "      <th>race</th>\n",
       "      <th>sex</th>\n",
       "      <th>native-country</th>\n",
       "      <th>salary</th>\n",
       "    </tr>\n",
       "  </thead>\n",
       "  <tbody>\n",
       "    <tr>\n",
       "      <th>count</th>\n",
       "      <td>20468</td>\n",
       "      <td>20468</td>\n",
       "      <td>20468</td>\n",
       "      <td>20468</td>\n",
       "      <td>20468</td>\n",
       "      <td>20468</td>\n",
       "      <td>20468</td>\n",
       "      <td>20468</td>\n",
       "      <td>20468</td>\n",
       "    </tr>\n",
       "    <tr>\n",
       "      <th>unique</th>\n",
       "      <td>8</td>\n",
       "      <td>16</td>\n",
       "      <td>7</td>\n",
       "      <td>14</td>\n",
       "      <td>6</td>\n",
       "      <td>5</td>\n",
       "      <td>2</td>\n",
       "      <td>41</td>\n",
       "      <td>2</td>\n",
       "    </tr>\n",
       "    <tr>\n",
       "      <th>top</th>\n",
       "      <td>Private</td>\n",
       "      <td>HS-grad</td>\n",
       "      <td>Married-civ-spouse</td>\n",
       "      <td>Prof-specialty</td>\n",
       "      <td>Husband</td>\n",
       "      <td>White</td>\n",
       "      <td>Male</td>\n",
       "      <td>United-States</td>\n",
       "      <td>&lt;=50K</td>\n",
       "    </tr>\n",
       "    <tr>\n",
       "      <th>freq</th>\n",
       "      <td>15047</td>\n",
       "      <td>6447</td>\n",
       "      <td>9623</td>\n",
       "      <td>3529</td>\n",
       "      <td>8397</td>\n",
       "      <td>16960</td>\n",
       "      <td>13792</td>\n",
       "      <td>18372</td>\n",
       "      <td>15092</td>\n",
       "    </tr>\n",
       "  </tbody>\n",
       "</table>\n",
       "</div>"
      ],
      "text/plain": [
       "       workclass education      marital-status      occupation relationship  \\\n",
       "count      20468     20468               20468           20468        20468   \n",
       "unique         8        16                   7              14            6   \n",
       "top      Private   HS-grad  Married-civ-spouse  Prof-specialty      Husband   \n",
       "freq       15047      6447                9623            3529         8397   \n",
       "\n",
       "         race    sex native-country salary  \n",
       "count   20468  20468          20468  20468  \n",
       "unique      5      2             41      2  \n",
       "top     White   Male  United-States  <=50K  \n",
       "freq    16960  13792          18372  15092  "
      ]
     },
     "execution_count": 43,
     "metadata": {},
     "output_type": "execute_result"
    }
   ],
   "source": [
    "data1.describe(exclude='number')"
   ]
  },
  {
   "cell_type": "markdown",
   "id": "b699a470",
   "metadata": {},
   "source": [
    "'capital-gain'and 'capital-loss' both columns have 75% data as 0.00,we can drop 'capital-gain'& 'capital-loss'.\n",
    "column'education-num' is the numerical version of the column education, so we also drop it."
   ]
  },
  {
   "cell_type": "code",
   "execution_count": 44,
   "id": "c734bd5d",
   "metadata": {},
   "outputs": [
    {
     "data": {
      "text/html": [
       "<div>\n",
       "<style scoped>\n",
       "    .dataframe tbody tr th:only-of-type {\n",
       "        vertical-align: middle;\n",
       "    }\n",
       "\n",
       "    .dataframe tbody tr th {\n",
       "        vertical-align: top;\n",
       "    }\n",
       "\n",
       "    .dataframe thead th {\n",
       "        text-align: right;\n",
       "    }\n",
       "</style>\n",
       "<table border=\"1\" class=\"dataframe\">\n",
       "  <thead>\n",
       "    <tr style=\"text-align: right;\">\n",
       "      <th></th>\n",
       "      <th>age</th>\n",
       "      <th>workclass</th>\n",
       "      <th>education</th>\n",
       "      <th>marital-status</th>\n",
       "      <th>occupation</th>\n",
       "      <th>relationship</th>\n",
       "      <th>race</th>\n",
       "      <th>sex</th>\n",
       "      <th>hours-per-week</th>\n",
       "      <th>native-country</th>\n",
       "      <th>salary</th>\n",
       "    </tr>\n",
       "  </thead>\n",
       "  <tbody>\n",
       "    <tr>\n",
       "      <th>0</th>\n",
       "      <td>39</td>\n",
       "      <td>State-gov</td>\n",
       "      <td>Bachelors</td>\n",
       "      <td>Never-married</td>\n",
       "      <td>Adm-clerical</td>\n",
       "      <td>Not-in-family</td>\n",
       "      <td>White</td>\n",
       "      <td>Male</td>\n",
       "      <td>40</td>\n",
       "      <td>United-States</td>\n",
       "      <td>&lt;=50K</td>\n",
       "    </tr>\n",
       "    <tr>\n",
       "      <th>2</th>\n",
       "      <td>38</td>\n",
       "      <td>Private</td>\n",
       "      <td>HS-grad</td>\n",
       "      <td>Divorced</td>\n",
       "      <td>Handlers-cleaners</td>\n",
       "      <td>Not-in-family</td>\n",
       "      <td>White</td>\n",
       "      <td>Male</td>\n",
       "      <td>40</td>\n",
       "      <td>United-States</td>\n",
       "      <td>&lt;=50K</td>\n",
       "    </tr>\n",
       "    <tr>\n",
       "      <th>3</th>\n",
       "      <td>53</td>\n",
       "      <td>Private</td>\n",
       "      <td>11th</td>\n",
       "      <td>Married-civ-spouse</td>\n",
       "      <td>Handlers-cleaners</td>\n",
       "      <td>Husband</td>\n",
       "      <td>Black</td>\n",
       "      <td>Male</td>\n",
       "      <td>40</td>\n",
       "      <td>United-States</td>\n",
       "      <td>&lt;=50K</td>\n",
       "    </tr>\n",
       "    <tr>\n",
       "      <th>4</th>\n",
       "      <td>28</td>\n",
       "      <td>Private</td>\n",
       "      <td>Bachelors</td>\n",
       "      <td>Married-civ-spouse</td>\n",
       "      <td>Prof-specialty</td>\n",
       "      <td>Wife</td>\n",
       "      <td>Black</td>\n",
       "      <td>Female</td>\n",
       "      <td>40</td>\n",
       "      <td>Cuba</td>\n",
       "      <td>&lt;=50K</td>\n",
       "    </tr>\n",
       "    <tr>\n",
       "      <th>5</th>\n",
       "      <td>37</td>\n",
       "      <td>Private</td>\n",
       "      <td>Masters</td>\n",
       "      <td>Married-civ-spouse</td>\n",
       "      <td>Exec-managerial</td>\n",
       "      <td>Wife</td>\n",
       "      <td>White</td>\n",
       "      <td>Female</td>\n",
       "      <td>40</td>\n",
       "      <td>United-States</td>\n",
       "      <td>&lt;=50K</td>\n",
       "    </tr>\n",
       "  </tbody>\n",
       "</table>\n",
       "</div>"
      ],
      "text/plain": [
       "   age  workclass  education      marital-status         occupation  \\\n",
       "0   39  State-gov  Bachelors       Never-married       Adm-clerical   \n",
       "2   38    Private    HS-grad            Divorced  Handlers-cleaners   \n",
       "3   53    Private       11th  Married-civ-spouse  Handlers-cleaners   \n",
       "4   28    Private  Bachelors  Married-civ-spouse     Prof-specialty   \n",
       "5   37    Private    Masters  Married-civ-spouse    Exec-managerial   \n",
       "\n",
       "    relationship   race     sex  hours-per-week native-country salary  \n",
       "0  Not-in-family  White    Male              40  United-States  <=50K  \n",
       "2  Not-in-family  White    Male              40  United-States  <=50K  \n",
       "3        Husband  Black    Male              40  United-States  <=50K  \n",
       "4           Wife  Black  Female              40           Cuba  <=50K  \n",
       "5           Wife  White  Female              40  United-States  <=50K  "
      ]
     },
     "execution_count": 44,
     "metadata": {},
     "output_type": "execute_result"
    }
   ],
   "source": [
    "data1.drop(['capital-gain','capital-loss','education-num'], axis = 1,inplace = True)\n",
    "data1.head()"
   ]
  },
  {
   "cell_type": "markdown",
   "id": "78d54df0",
   "metadata": {},
   "source": [
    "# Feature Engineering"
   ]
  },
  {
   "cell_type": "code",
   "execution_count": 45,
   "id": "d4173730",
   "metadata": {},
   "outputs": [],
   "source": [
    "data1.replace(['Divorced', 'Married-AF-spouse', 'Married-civ-spouse', 'Married-spouse-absent','Never-married','Separated','Widowed'],\n",
    "             ['divorced','married','married','married','not married','not married','not married'], inplace = True)"
   ]
  },
  {
   "cell_type": "markdown",
   "id": "2a74bbfb",
   "metadata": {},
   "source": [
    "We can replace the 7 unique values to married or not married or divorced."
   ]
  },
  {
   "cell_type": "code",
   "execution_count": 46,
   "id": "c8167fc8",
   "metadata": {},
   "outputs": [],
   "source": [
    "# education Category\n",
    "data1.education= data.education.replace(['Preschool', '1st-4th', '5th-6th', '7th-8th', '9th','10th', '11th', '12th'], 'school')"
   ]
  },
  {
   "cell_type": "code",
   "execution_count": 47,
   "id": "6d567586",
   "metadata": {},
   "outputs": [
    {
     "name": "stdout",
     "output_type": "stream",
     "text": [
      "<class 'pandas.core.frame.DataFrame'>\n",
      "Int64Index: 20468 entries, 0 to 32560\n",
      "Data columns (total 11 columns):\n",
      " #   Column          Non-Null Count  Dtype \n",
      "---  ------          --------------  ----- \n",
      " 0   age             20468 non-null  int64 \n",
      " 1   workclass       20468 non-null  object\n",
      " 2   education       20468 non-null  object\n",
      " 3   marital-status  20468 non-null  object\n",
      " 4   occupation      20468 non-null  object\n",
      " 5   relationship    20468 non-null  object\n",
      " 6   race            20468 non-null  object\n",
      " 7   sex             20468 non-null  object\n",
      " 8   hours-per-week  20468 non-null  int64 \n",
      " 9   native-country  20468 non-null  object\n",
      " 10  salary          20468 non-null  object\n",
      "dtypes: int64(2), object(9)\n",
      "memory usage: 1.9+ MB\n"
     ]
    }
   ],
   "source": [
    "data1.info()"
   ]
  },
  {
   "cell_type": "code",
   "execution_count": 48,
   "id": "d62fe0b2",
   "metadata": {},
   "outputs": [],
   "source": [
    "#Covert workclass Columns Datatype To Category Datatype\n",
    "data1['workclass'] = data1['workclass'].astype('category')"
   ]
  },
  {
   "cell_type": "markdown",
   "id": "57e33340",
   "metadata": {},
   "source": [
    " I chose not to use the 'Fnlwgt' attribute that is used by the census, as the inverse of sampling fraction adjusted for non-response and over or under sampling of particular groups. This attribute does not convey individual related meaning."
   ]
  },
  {
   "cell_type": "code",
   "execution_count": 49,
   "id": "f9e16002",
   "metadata": {},
   "outputs": [
    {
     "name": "stdout",
     "output_type": "stream",
     "text": [
      "Numeric Features: \n",
      "   age  hours-per-week\n",
      "0   39              40\n",
      "2   38              40\n",
      "3   53              40\n",
      "4   28              40\n",
      "5   37              40\n",
      "--------------------------------------------------------------------------------\n"
     ]
    }
   ],
   "source": [
    "# NUMERIC FEATURES:\n",
    "\n",
    "numeric_data = data1.select_dtypes(include=np.number) # select_dtypes selects data with numeric features\n",
    "numeric_col = numeric_data.columns \n",
    "\n",
    "print('Numeric Features: ')\n",
    "print(numeric_data.head(5))\n",
    "print('----'*20)"
   ]
  },
  {
   "cell_type": "code",
   "execution_count": 50,
   "id": "783cfd12",
   "metadata": {},
   "outputs": [
    {
     "name": "stdout",
     "output_type": "stream",
     "text": [
      "Categorical Features: \n",
      "   workclass  education marital-status         occupation   relationship  \\\n",
      "0  State-gov  Bachelors    not married       Adm-clerical  Not-in-family   \n",
      "2    Private    HS-grad       divorced  Handlers-cleaners  Not-in-family   \n",
      "3    Private     school        married  Handlers-cleaners        Husband   \n",
      "4    Private  Bachelors        married     Prof-specialty           Wife   \n",
      "5    Private    Masters        married    Exec-managerial           Wife   \n",
      "\n",
      "    race     sex native-country salary  \n",
      "0  White    Male  United-States  <=50K  \n",
      "2  White    Male  United-States  <=50K  \n",
      "3  Black    Male  United-States  <=50K  \n",
      "4  Black  Female           Cuba  <=50K  \n",
      "5  White  Female  United-States  <=50K  \n",
      "--------------------------------------------------------------------------------\n"
     ]
    }
   ],
   "source": [
    "\n",
    "# CATEGORICAL FEATURES:\n",
    "\n",
    "categorical_data = data1.select_dtypes(exclude=np.number) # we will exclude data with numeric features\n",
    "categorical_col = categorical_data.columns\n",
    "\n",
    "print('Categorical Features: ')\n",
    "print(categorical_data.head(5))\n",
    "print('----'*20)"
   ]
  },
  {
   "cell_type": "markdown",
   "id": "32d54764",
   "metadata": {},
   "source": [
    "# Label Encoding"
   ]
  },
  {
   "cell_type": "code",
   "execution_count": 52,
   "id": "25b292a2",
   "metadata": {},
   "outputs": [
    {
     "data": {
      "text/html": [
       "<div>\n",
       "<style scoped>\n",
       "    .dataframe tbody tr th:only-of-type {\n",
       "        vertical-align: middle;\n",
       "    }\n",
       "\n",
       "    .dataframe tbody tr th {\n",
       "        vertical-align: top;\n",
       "    }\n",
       "\n",
       "    .dataframe thead th {\n",
       "        text-align: right;\n",
       "    }\n",
       "</style>\n",
       "<table border=\"1\" class=\"dataframe\">\n",
       "  <thead>\n",
       "    <tr style=\"text-align: right;\">\n",
       "      <th></th>\n",
       "      <th>age</th>\n",
       "      <th>workclass</th>\n",
       "      <th>education</th>\n",
       "      <th>marital-status</th>\n",
       "      <th>occupation</th>\n",
       "      <th>relationship</th>\n",
       "      <th>race</th>\n",
       "      <th>sex</th>\n",
       "      <th>hours-per-week</th>\n",
       "      <th>native-country</th>\n",
       "      <th>salary</th>\n",
       "    </tr>\n",
       "  </thead>\n",
       "  <tbody>\n",
       "    <tr>\n",
       "      <th>0</th>\n",
       "      <td>39</td>\n",
       "      <td>6</td>\n",
       "      <td>2</td>\n",
       "      <td>2</td>\n",
       "      <td>0</td>\n",
       "      <td>1</td>\n",
       "      <td>4</td>\n",
       "      <td>1</td>\n",
       "      <td>40</td>\n",
       "      <td>38</td>\n",
       "      <td>0</td>\n",
       "    </tr>\n",
       "    <tr>\n",
       "      <th>2</th>\n",
       "      <td>38</td>\n",
       "      <td>3</td>\n",
       "      <td>4</td>\n",
       "      <td>0</td>\n",
       "      <td>5</td>\n",
       "      <td>1</td>\n",
       "      <td>4</td>\n",
       "      <td>1</td>\n",
       "      <td>40</td>\n",
       "      <td>38</td>\n",
       "      <td>0</td>\n",
       "    </tr>\n",
       "    <tr>\n",
       "      <th>3</th>\n",
       "      <td>53</td>\n",
       "      <td>3</td>\n",
       "      <td>8</td>\n",
       "      <td>1</td>\n",
       "      <td>5</td>\n",
       "      <td>0</td>\n",
       "      <td>2</td>\n",
       "      <td>1</td>\n",
       "      <td>40</td>\n",
       "      <td>38</td>\n",
       "      <td>0</td>\n",
       "    </tr>\n",
       "    <tr>\n",
       "      <th>4</th>\n",
       "      <td>28</td>\n",
       "      <td>3</td>\n",
       "      <td>2</td>\n",
       "      <td>1</td>\n",
       "      <td>9</td>\n",
       "      <td>5</td>\n",
       "      <td>2</td>\n",
       "      <td>0</td>\n",
       "      <td>40</td>\n",
       "      <td>4</td>\n",
       "      <td>0</td>\n",
       "    </tr>\n",
       "    <tr>\n",
       "      <th>5</th>\n",
       "      <td>37</td>\n",
       "      <td>3</td>\n",
       "      <td>5</td>\n",
       "      <td>1</td>\n",
       "      <td>3</td>\n",
       "      <td>5</td>\n",
       "      <td>4</td>\n",
       "      <td>0</td>\n",
       "      <td>40</td>\n",
       "      <td>38</td>\n",
       "      <td>0</td>\n",
       "    </tr>\n",
       "  </tbody>\n",
       "</table>\n",
       "</div>"
      ],
      "text/plain": [
       "   age  workclass  education  marital-status  occupation  relationship  race  \\\n",
       "0   39          6          2               2           0             1     4   \n",
       "2   38          3          4               0           5             1     4   \n",
       "3   53          3          8               1           5             0     2   \n",
       "4   28          3          2               1           9             5     2   \n",
       "5   37          3          5               1           3             5     4   \n",
       "\n",
       "   sex  hours-per-week  native-country  salary  \n",
       "0    1              40              38       0  \n",
       "2    1              40              38       0  \n",
       "3    1              40              38       0  \n",
       "4    0              40               4       0  \n",
       "5    0              40              38       0  "
      ]
     },
     "execution_count": 52,
     "metadata": {},
     "output_type": "execute_result"
    }
   ],
   "source": [
    "#apply label encoding\n",
    "from sklearn.preprocessing import LabelEncoder\n",
    "columns =[\"workclass\",\"education\",\"marital-status\",\"occupation\",\"relationship\",\"race\",\"sex\",\"native-country\",\"salary\"]\n",
    "label_encoder = LabelEncoder()\n",
    "for i in columns:\n",
    "    data1[i]=label_encoder.fit_transform(data1[i])\n",
    "data1.head()"
   ]
  },
  {
   "cell_type": "code",
   "execution_count": 51,
   "id": "e7dd173a",
   "metadata": {},
   "outputs": [
    {
     "data": {
      "image/png": "[encoded data removed]",
      "text/plain": [
       "<Figure size 1440x576 with 2 Axes>"
      ]
     },
     "metadata": {
      "needs_background": "light"
     },
     "output_type": "display_data"
    }
   ],
   "source": [
    "#plot correlation matrix\n",
    "corrmatrix = data.corr()\n",
    "plt.subplots(figsize=(20,8))\n",
    "sns.heatmap(corrmatrix,annot=True,cmap='YlGnBu');"
   ]
  },
  {
   "cell_type": "code",
   "execution_count": 53,
   "id": "540c080d",
   "metadata": {},
   "outputs": [
    {
     "data": {
      "text/html": [
       "<div>\n",
       "<style scoped>\n",
       "    .dataframe tbody tr th:only-of-type {\n",
       "        vertical-align: middle;\n",
       "    }\n",
       "\n",
       "    .dataframe tbody tr th {\n",
       "        vertical-align: top;\n",
       "    }\n",
       "\n",
       "    .dataframe thead th {\n",
       "        text-align: right;\n",
       "    }\n",
       "</style>\n",
       "<table border=\"1\" class=\"dataframe\">\n",
       "  <thead>\n",
       "    <tr style=\"text-align: right;\">\n",
       "      <th></th>\n",
       "      <th>age</th>\n",
       "      <th>workclass</th>\n",
       "      <th>education</th>\n",
       "      <th>marital-status</th>\n",
       "      <th>occupation</th>\n",
       "      <th>relationship</th>\n",
       "      <th>race</th>\n",
       "      <th>sex</th>\n",
       "      <th>hours-per-week</th>\n",
       "      <th>native-country</th>\n",
       "    </tr>\n",
       "  </thead>\n",
       "  <tbody>\n",
       "    <tr>\n",
       "      <th>0</th>\n",
       "      <td>39</td>\n",
       "      <td>6</td>\n",
       "      <td>2</td>\n",
       "      <td>2</td>\n",
       "      <td>0</td>\n",
       "      <td>1</td>\n",
       "      <td>4</td>\n",
       "      <td>1</td>\n",
       "      <td>40</td>\n",
       "      <td>38</td>\n",
       "    </tr>\n",
       "    <tr>\n",
       "      <th>2</th>\n",
       "      <td>38</td>\n",
       "      <td>3</td>\n",
       "      <td>4</td>\n",
       "      <td>0</td>\n",
       "      <td>5</td>\n",
       "      <td>1</td>\n",
       "      <td>4</td>\n",
       "      <td>1</td>\n",
       "      <td>40</td>\n",
       "      <td>38</td>\n",
       "    </tr>\n",
       "    <tr>\n",
       "      <th>3</th>\n",
       "      <td>53</td>\n",
       "      <td>3</td>\n",
       "      <td>8</td>\n",
       "      <td>1</td>\n",
       "      <td>5</td>\n",
       "      <td>0</td>\n",
       "      <td>2</td>\n",
       "      <td>1</td>\n",
       "      <td>40</td>\n",
       "      <td>38</td>\n",
       "    </tr>\n",
       "    <tr>\n",
       "      <th>4</th>\n",
       "      <td>28</td>\n",
       "      <td>3</td>\n",
       "      <td>2</td>\n",
       "      <td>1</td>\n",
       "      <td>9</td>\n",
       "      <td>5</td>\n",
       "      <td>2</td>\n",
       "      <td>0</td>\n",
       "      <td>40</td>\n",
       "      <td>4</td>\n",
       "    </tr>\n",
       "    <tr>\n",
       "      <th>5</th>\n",
       "      <td>37</td>\n",
       "      <td>3</td>\n",
       "      <td>5</td>\n",
       "      <td>1</td>\n",
       "      <td>3</td>\n",
       "      <td>5</td>\n",
       "      <td>4</td>\n",
       "      <td>0</td>\n",
       "      <td>40</td>\n",
       "      <td>38</td>\n",
       "    </tr>\n",
       "  </tbody>\n",
       "</table>\n",
       "</div>"
      ],
      "text/plain": [
       "   age  workclass  education  marital-status  occupation  relationship  race  \\\n",
       "0   39          6          2               2           0             1     4   \n",
       "2   38          3          4               0           5             1     4   \n",
       "3   53          3          8               1           5             0     2   \n",
       "4   28          3          2               1           9             5     2   \n",
       "5   37          3          5               1           3             5     4   \n",
       "\n",
       "   sex  hours-per-week  native-country  \n",
       "0    1              40              38  \n",
       "2    1              40              38  \n",
       "3    1              40              38  \n",
       "4    0              40               4  \n",
       "5    0              40              38  "
      ]
     },
     "execution_count": 53,
     "metadata": {},
     "output_type": "execute_result"
    }
   ],
   "source": [
    "#Moved the salary column to another variable\n",
    "target_salary = data1.pop('salary')\n",
    "data1.head()"
   ]
  },
  {
   "cell_type": "code",
   "execution_count": 54,
   "id": "c711e1de",
   "metadata": {},
   "outputs": [],
   "source": [
    "from sklearn.model_selection import train_test_split\n",
    "from sklearn.metrics import classification_report\n",
    "from sklearn.linear_model import LogisticRegression\n",
    "from sklearn.preprocessing import StandardScaler"
   ]
  },
  {
   "cell_type": "code",
   "execution_count": 55,
   "id": "975878f0",
   "metadata": {},
   "outputs": [],
   "source": [
    "#since this is a binary classification we will use logistic regression\n",
    "\n",
    "#standardising data\n",
    "scaler = StandardScaler()\n",
    "data2 = scaler.fit_transform(data1.values)"
   ]
  },
  {
   "cell_type": "code",
   "execution_count": 57,
   "id": "736224a9",
   "metadata": {},
   "outputs": [
    {
     "data": {
      "text/plain": [
       "LogisticRegression()"
      ]
     },
     "execution_count": 57,
     "metadata": {},
     "output_type": "execute_result"
    }
   ],
   "source": [
    "x_train, x_test, y_train, y_test = train_test_split(data2, target_salary,test_size=0.2, random_state=42)\n",
    "\n",
    "clf = LogisticRegression().fit(x_train,y_train)\n",
    "clf"
   ]
  },
  {
   "cell_type": "code",
   "execution_count": 58,
   "id": "44fc1ca8",
   "metadata": {},
   "outputs": [
    {
     "data": {
      "text/plain": [
       "0.7576941866145579"
      ]
     },
     "execution_count": 58,
     "metadata": {},
     "output_type": "execute_result"
    }
   ],
   "source": [
    "clf.score(x_test,y_test)"
   ]
  },
  {
   "cell_type": "code",
   "execution_count": 59,
   "id": "8e8d5792",
   "metadata": {},
   "outputs": [
    {
     "name": "stdout",
     "output_type": "stream",
     "text": [
      "              precision    recall  f1-score   support\n",
      "\n",
      "           0       0.78      0.93      0.85      3021\n",
      "           1       0.58      0.26      0.36      1073\n",
      "\n",
      "    accuracy                           0.76      4094\n",
      "   macro avg       0.68      0.60      0.61      4094\n",
      "weighted avg       0.73      0.76      0.72      4094\n",
      "\n"
     ]
    }
   ],
   "source": [
    "print(classification_report(y_test, clf.predict(x_test)))"
   ]
  },
  {
   "cell_type": "code",
   "execution_count": 60,
   "id": "c944c167",
   "metadata": {},
   "outputs": [
    {
     "name": "stdout",
     "output_type": "stream",
     "text": [
      "Accuracy for Logistic Regression is 0.7577\n",
      "Precision for Logistic Regression is 0.6826\n",
      "Recall for Logistic Regression is 0.5975\n",
      "F1-Score for Logistic Regression is 0.6057\n"
     ]
    }
   ],
   "source": [
    "from sklearn.metrics import confusion_matrix,accuracy_score,precision_score,recall_score,f1_score\n",
    "print(\"Accuracy for Logistic Regression is\",round(accuracy_score(y_test,clf.predict(x_test)),4))\n",
    "print(\"Precision for Logistic Regression is\",round(precision_score(y_test,clf.predict(x_test),average='macro'),4))\n",
    "print(\"Recall for Logistic Regression is\",round(recall_score(y_test,clf.predict(x_test),average='macro'),4))\n",
    "print(\"F1-Score for Logistic Regression is\",round(f1_score(y_test,clf.predict(x_test),average='macro'),4))"
   ]
  },
  {
   "cell_type": "code",
   "execution_count": 61,
   "id": "b5bee829",
   "metadata": {},
   "outputs": [],
   "source": [
    "y_pred1 = clf.predict(x_test)"
   ]
  },
  {
   "cell_type": "code",
   "execution_count": 62,
   "id": "212aead2",
   "metadata": {
    "scrolled": true
   },
   "outputs": [
    {
     "data": {
      "text/plain": [
       "Text(117.5, 0.5, 'Actual Labels')"
      ]
     },
     "execution_count": 62,
     "metadata": {},
     "output_type": "execute_result"
    },
    {
     "data": {
      "image/png": "[encoded data removed]",
      "text/plain": [
       "<Figure size 1080x720 with 2 Axes>"
      ]
     },
     "metadata": {
      "needs_background": "light"
     },
     "output_type": "display_data"
    }
   ],
   "source": [
    "from sklearn.metrics import confusion_matrix\n",
    "\n",
    "sns.heatmap(confusion_matrix(y_test,y_pred1),annot=True,fmt='g')\n",
    "plt.xlabel('Predicted Labels')\n",
    "plt.ylabel('Actual Labels')"
   ]
  },
  {
   "cell_type": "code",
   "execution_count": null,
   "id": "f8b7071c",
   "metadata": {},
   "outputs": [],
   "source": [
    "SVM"
   ]
  },
  {
   "cell_type": "code",
   "execution_count": 52,
   "id": "1dcc4859",
   "metadata": {},
   "outputs": [
    {
     "name": "stdout",
     "output_type": "stream",
     "text": [
      "Requirement already satisfied: imblearn in c:\\users\\dell\\anaconda3\\lib\\site-packages (0.0)Note: you may need to restart the kernel to use updated packages.\n",
      "\n",
      "Requirement already satisfied: imbalanced-learn in c:\\users\\dell\\anaconda3\\lib\\site-packages (from imblearn) (0.10.1)\n",
      "Requirement already satisfied: scikit-learn>=1.0.2 in c:\\users\\dell\\anaconda3\\lib\\site-packages (from imbalanced-learn->imblearn) (1.0.2)\n",
      "Requirement already satisfied: joblib>=1.1.1 in c:\\users\\dell\\anaconda3\\lib\\site-packages (from imbalanced-learn->imblearn) (1.2.0)\n",
      "Requirement already satisfied: numpy>=1.17.3 in c:\\users\\dell\\anaconda3\\lib\\site-packages (from imbalanced-learn->imblearn) (1.21.5)\n",
      "Requirement already satisfied: threadpoolctl>=2.0.0 in c:\\users\\dell\\anaconda3\\lib\\site-packages (from imbalanced-learn->imblearn) (2.2.0)\n",
      "Requirement already satisfied: scipy>=1.3.2 in c:\\users\\dell\\anaconda3\\lib\\site-packages (from imbalanced-learn->imblearn) (1.7.3)\n"
     ]
    }
   ],
   "source": [
    "pip install imblearn"
   ]
  },
  {
   "cell_type": "code",
   "execution_count": null,
   "id": "f073c0cf",
   "metadata": {},
   "outputs": [],
   "source": []
  },
  {
   "cell_type": "code",
   "execution_count": 53,
   "id": "646b5134",
   "metadata": {},
   "outputs": [],
   "source": [
    "from imblearn.over_sampling import SMOTE"
   ]
  },
  {
   "cell_type": "code",
   "execution_count": 56,
   "id": "03cbed13",
   "metadata": {},
   "outputs": [
    {
     "ename": "NameError",
     "evalue": "name 'salary' is not defined",
     "output_type": "error",
     "traceback": [
      "\u001b[1;31m---------------------------------------------------------------------------\u001b[0m",
      "\u001b[1;31mNameError\u001b[0m                                 Traceback (most recent call last)",
      "Input \u001b[1;32mIn [56]\u001b[0m, in \u001b[0;36m<cell line: 2>\u001b[1;34m()\u001b[0m\n\u001b[0;32m      1\u001b[0m oversample\u001b[38;5;241m=\u001b[39mSMOTE()\n\u001b[1;32m----> 2\u001b[0m x,y\u001b[38;5;241m=\u001b[39moversample\u001b[38;5;241m.\u001b[39mfit_resample(data,\u001b[43msalary\u001b[49m)\n\u001b[0;32m      3\u001b[0m counter\u001b[38;5;241m=\u001b[39mCounter(y)\n\u001b[0;32m      4\u001b[0m \u001b[38;5;28mprint\u001b[39m(counter)\n",
      "\u001b[1;31mNameError\u001b[0m: name 'salary' is not defined"
     ]
    }
   ],
   "source": [
    "oversample=SMOTE()\n",
    "x,y=oversample.fit_resample(data,salary)\n",
    "counter=Counter(y)\n",
    "print(counter)"
   ]
  },
  {
   "cell_type": "code",
   "execution_count": null,
   "id": "2db5e817",
   "metadata": {},
   "outputs": [],
   "source": []
  },
  {
   "cell_type": "code",
   "execution_count": null,
   "id": "441f29d5",
   "metadata": {},
   "outputs": [],
   "source": [
    "X=data.drop(['salary'],axis=1)\n",
    "Y=data['salary']"
   ]
  },
  {
   "cell_type": "code",
   "execution_count": null,
   "id": "0e3ca2b1",
   "metadata": {},
   "outputs": [],
   "source": [
    "X_train,X_test,Y_train,Y_test=train_test_split(X,Y,test_size=0.2,random_state=42)"
   ]
  },
  {
   "cell_type": "code",
   "execution_count": null,
   "id": "00e39048",
   "metadata": {},
   "outputs": [],
   "source": []
  },
  {
   "cell_type": "markdown",
   "id": "21d26c6a",
   "metadata": {},
   "source": [
    "# Logistic Regression"
   ]
  },
  {
   "cell_type": "code",
   "execution_count": null,
   "id": "f62dc065",
   "metadata": {},
   "outputs": [],
   "source": [
    "LR1=LogisticRegression()\n",
    "LR_model1=LR1.fit(X_train,Y_train)\n",
    "prediction1=LR_model1.predict(X_test)"
   ]
  },
  {
   "cell_type": "code",
   "execution_count": null,
   "id": "be46c8f2",
   "metadata": {},
   "outputs": [],
   "source": [
    "prediction1"
   ]
  },
  {
   "cell_type": "code",
   "execution_count": null,
   "id": "a8597b3e",
   "metadata": {},
   "outputs": [],
   "source": [
    "confusion_matrix(Y_test,prediction1)"
   ]
  },
  {
   "cell_type": "code",
   "execution_count": null,
   "id": "f3bdc24b",
   "metadata": {},
   "outputs": [],
   "source": [
    "print(\"The precision score is\\t :\",precision_score(Y_test,prediction1))\n",
    "print(\"The accuracy score is\\t :\",accuracy_score(Y_test,prediction1))\n",
    "print(\"The recall score is\\t :\",recall_score(Y_test,prediction1))"
   ]
  },
  {
   "cell_type": "markdown",
   "id": "03ceda06",
   "metadata": {},
   "source": [
    "# kNN"
   ]
  },
  {
   "cell_type": "code",
   "execution_count": null,
   "id": "47c96685",
   "metadata": {},
   "outputs": [],
   "source": [
    "#set number for k in the range 3 to 14.Finding the accuracy score for different values for k\n",
    "metric_k=[]\n",
    "neighbors=range(3,14)\n",
    "\n",
    "for k in neighbors:\n",
    "    classifier=KNeighborsClassifier(n_neighbors=k)\n",
    "    classifier=classifier.fit(X_train,Y_train)\n",
    "    y_pred_kNN=classifier.predict(X_test)\n",
    "    acc=accuracy_score(Y_test,y_pred_kNN)\n",
    "    metric_k.append(acc)"
   ]
  },
  {
   "cell_type": "code",
   "execution_count": null,
   "id": "edca73d4",
   "metadata": {},
   "outputs": [],
   "source": [
    "#print the list\n",
    "metric_k"
   ]
  },
  {
   "cell_type": "code",
   "execution_count": null,
   "id": "e0ed57c8",
   "metadata": {},
   "outputs": [],
   "source": [
    "#Another method to find the accurate values.Plot graph\n",
    "plt.plot(neighbors,metric_k,'o-')\n",
    "plt.xlabel('k values')\n",
    "plt.ylabel('Accuracies')\n",
    "plt.grid()\n",
    "plt.show()"
   ]
  },
  {
   "cell_type": "code",
   "execution_count": null,
   "id": "299b6419",
   "metadata": {},
   "outputs": [],
   "source": [
    "#Same steps above with k=11\n",
    "classifier=KNeighborsClassifier(n_neighbors=10)\n",
    "classifier=classifier.fit(X_train,Y_train)\n",
    "y_pred_kNN=classifier.predict(X_test)"
   ]
  },
  {
   "cell_type": "code",
   "execution_count": null,
   "id": "d6738c99",
   "metadata": {},
   "outputs": [],
   "source": [
    "confusion_matrix(Y_test,y_pred_kNN)"
   ]
  },
  {
   "cell_type": "code",
   "execution_count": null,
   "id": "a71ad9bc",
   "metadata": {},
   "outputs": [],
   "source": [
    "print(\"The precision score is\\t :\",precision_score(Y_test,y_pred_kNN))\n",
    "print(\"The accuracy score is\\t :\",accuracy_score(Y_test,y_pred_kNN))\n",
    "print(\"The recall score is\\t :\",recall_score(Y_test,y_pred_kNN))"
   ]
  },
  {
   "cell_type": "markdown",
   "id": "ede92083",
   "metadata": {},
   "source": [
    "# SVM"
   ]
  },
  {
   "cell_type": "code",
   "execution_count": null,
   "id": "6a956468",
   "metadata": {},
   "outputs": [],
   "source": [
    "#with linear keranal\n",
    "svm_clf=SVC(kernel=\"linear\")\n",
    "svm_clf=svm_clf.fit(X_train,Y_train)\n",
    "y_pred_svm=svm_clf.predict(X_test)"
   ]
  },
  {
   "cell_type": "code",
   "execution_count": null,
   "id": "79cc398f",
   "metadata": {},
   "outputs": [],
   "source": [
    "confusion_matrix(Y_test,y_pred_svm)"
   ]
  },
  {
   "cell_type": "code",
   "execution_count": null,
   "id": "6bece4d1",
   "metadata": {},
   "outputs": [],
   "source": [
    "print(\"The precision score is\\t :\",precision_score(Y_test,y_pred_svm,average='weighted'))\n",
    "print(\"The accuracy score is\\t :\",accuracy_score(Y_test,y_pred_svm))\n",
    "print(\"The recall score is\\t :\",recall_score(Y_test,y_pred_svm,average='weighted'))"
   ]
  },
  {
   "cell_type": "code",
   "execution_count": null,
   "id": "0e59da06",
   "metadata": {},
   "outputs": [],
   "source": [
    "#with Radial Basis Function (RBF)\n",
    "svm_clf2=SVC(kernel=\"rbf\")\n",
    "svm_clf2=svm_clf2.fit(X_train,Y_train)\n",
    "y_pred_svm2=svm_clf2.predict(X_test)"
   ]
  },
  {
   "cell_type": "code",
   "execution_count": null,
   "id": "bc40a93e",
   "metadata": {},
   "outputs": [],
   "source": [
    "confusion_matrix(Y_test,y_pred_svm2)"
   ]
  },
  {
   "cell_type": "code",
   "execution_count": null,
   "id": "46f9af7a",
   "metadata": {},
   "outputs": [],
   "source": [
    "print(\"The precision score is\\t :\",precision_score(Y_test,y_pred_svm2,average='weighted'))\n",
    "print(\"The accuracy score is\\t :\",accuracy_score(Y_test,y_pred_svm2))\n",
    "print(\"The recall score is\\t :\",recall_score(Y_test,y_pred_svm2,average='weighted'))"
   ]
  },
  {
   "cell_type": "markdown",
   "id": "b57f0c98",
   "metadata": {},
   "source": [
    "# Decision Tree model"
   ]
  },
  {
   "cell_type": "code",
   "execution_count": null,
   "id": "a7a7694a",
   "metadata": {},
   "outputs": [],
   "source": [
    "dt_clf=DecisionTreeClassifier()\n",
    "dt_clf=dt_clf.fit(X_train,Y_train)\n",
    "y_pred_dt=dt_clf.predict(X_test)"
   ]
  },
  {
   "cell_type": "code",
   "execution_count": null,
   "id": "35555667",
   "metadata": {},
   "outputs": [],
   "source": [
    "confusion_matrix(Y_test,y_pred_dt)"
   ]
  },
  {
   "cell_type": "code",
   "execution_count": null,
   "id": "b159c9b2",
   "metadata": {},
   "outputs": [],
   "source": [
    "print(\"The precision score is\\t :\",precision_score(Y_test,y_pred_dt))\n",
    "print(\"The accuracy score is\\t :\",accuracy_score(Y_test,y_pred_dt))\n",
    "print(\"The recall score is\\t :\",recall_score(Y_test,y_pred_dt))"
   ]
  },
  {
   "cell_type": "markdown",
   "id": "f53e03fb",
   "metadata": {},
   "source": [
    "# Random Forest"
   ]
  },
  {
   "cell_type": "code",
   "execution_count": null,
   "id": "45f7ae16",
   "metadata": {},
   "outputs": [],
   "source": [
    "rf_clf=RandomForestClassifier()\n",
    "rf_clf=rf_clf.fit(X_train,Y_train)\n",
    "y_pred_rf=rf_clf.predict(X_test)"
   ]
  },
  {
   "cell_type": "code",
   "execution_count": null,
   "id": "f9ad4cf8",
   "metadata": {},
   "outputs": [],
   "source": [
    "confusion_matrix(Y_test,y_pred_rf)"
   ]
  },
  {
   "cell_type": "code",
   "execution_count": null,
   "id": "fa097f32",
   "metadata": {},
   "outputs": [],
   "source": [
    "print(\"The precision score is\\t :\",precision_score(Y_test,y_pred_rf))\n",
    "print(\"The accuracy score is\\t :\",accuracy_score(Y_test,y_pred_rf))\n",
    "print(\"The recall score is\\t :\",recall_score(Y_test,y_pred_rf))"
   ]
  },
  {
   "cell_type": "markdown",
   "id": "1c68fe25",
   "metadata": {},
   "source": [
    "# Naive Bayes"
   ]
  },
  {
   "cell_type": "code",
   "execution_count": null,
   "id": "5516b4f9",
   "metadata": {},
   "outputs": [],
   "source": [
    "from sklearn.naive_bayes import GaussianNB \n",
    "nb = GaussianNB() \n",
    "nb_m=nb.fit(X_train, Y_train)\n",
    "y_pred_nb = nb_m.predict(X_test)"
   ]
  },
  {
   "cell_type": "code",
   "execution_count": null,
   "id": "338f07a3",
   "metadata": {},
   "outputs": [],
   "source": [
    "confusion_matrix(Y_test,y_pred_rf)"
   ]
  },
  {
   "cell_type": "code",
   "execution_count": null,
   "id": "532ee389",
   "metadata": {},
   "outputs": [],
   "source": [
    "print(\"The precision score is\\t :\",precision_score(Y_test,y_pred_nb))\n",
    "print(\"The accuracy score is\\t :\",accuracy_score(Y_test,y_pred_nb))\n",
    "print(\"The recall score is\\t :\",recall_score(Y_test,y_pred_nb))"
   ]
  },
  {
   "cell_type": "markdown",
   "id": "839c5631",
   "metadata": {},
   "source": [
    "# Standardisation"
   ]
  },
  {
   "cell_type": "code",
   "execution_count": null,
   "id": "efd8f121",
   "metadata": {},
   "outputs": [],
   "source": [
    "data.describe()"
   ]
  },
  {
   "cell_type": "code",
   "execution_count": null,
   "id": "82f7aeef",
   "metadata": {},
   "outputs": [],
   "source": [
    "numerical_features.columns"
   ]
  },
  {
   "cell_type": "code",
   "execution_count": null,
   "id": "4c4a4f00",
   "metadata": {},
   "outputs": [],
   "source": [
    "data_num_std_sc=numerical_features"
   ]
  },
  {
   "cell_type": "code",
   "execution_count": null,
   "id": "76ddcd26",
   "metadata": {},
   "outputs": [],
   "source": [
    "data_num_std_sc"
   ]
  },
  {
   "cell_type": "code",
   "execution_count": null,
   "id": "3df2173f",
   "metadata": {},
   "outputs": [],
   "source": [
    "std_sclr=StandardScaler()"
   ]
  },
  {
   "cell_type": "code",
   "execution_count": null,
   "id": "e5417b53",
   "metadata": {},
   "outputs": [],
   "source": [
    "data_num_std=std_sclr.fit_transform(data_num_std_sc)"
   ]
  },
  {
   "cell_type": "code",
   "execution_count": null,
   "id": "f3a729ce",
   "metadata": {},
   "outputs": [],
   "source": [
    "data_num_std"
   ]
  },
  {
   "cell_type": "code",
   "execution_count": null,
   "id": "9ea078eb",
   "metadata": {},
   "outputs": [],
   "source": [
    "data_num_std=pd.DataFrame(data_num_std)"
   ]
  },
  {
   "cell_type": "code",
   "execution_count": null,
   "id": "b10b1eb5",
   "metadata": {},
   "outputs": [],
   "source": [
    "data_num_std.columns=['age','hours-per-week']\n",
    "data_num_std.describe().T"
   ]
  },
  {
   "cell_type": "code",
   "execution_count": null,
   "id": "0c0bd04a",
   "metadata": {},
   "outputs": [],
   "source": [
    "#concat numerical and categorical columns\n",
    "data1 = pd.concat([data_num_std,categorical_features],axis=1)\n",
    "data1.head()"
   ]
  },
  {
   "cell_type": "markdown",
   "id": "329f8a68",
   "metadata": {},
   "source": [
    "# Logistic Regression "
   ]
  },
  {
   "cell_type": "code",
   "execution_count": null,
   "id": "87943d9d",
   "metadata": {},
   "outputs": [],
   "source": [
    "X=data1.drop(['salary'],axis=1)\n",
    "Y=data1['salary']"
   ]
  },
  {
   "cell_type": "code",
   "execution_count": null,
   "id": "8f510912",
   "metadata": {},
   "outputs": [],
   "source": [
    "LR3=LogisticRegression()\n",
    "LR_model3=LR3.fit(X_train,Y_train)\n",
    "prediction3=LR_model3.predict(X_test)"
   ]
  },
  {
   "cell_type": "code",
   "execution_count": null,
   "id": "f91ca61c",
   "metadata": {},
   "outputs": [],
   "source": [
    "prediction3"
   ]
  },
  {
   "cell_type": "code",
   "execution_count": null,
   "id": "79d5297d",
   "metadata": {},
   "outputs": [],
   "source": [
    "Log_reg_score=LR_model3.score(X_test,Y_test)"
   ]
  },
  {
   "cell_type": "code",
   "execution_count": null,
   "id": "8c120631",
   "metadata": {},
   "outputs": [],
   "source": [
    "Log_reg_score"
   ]
  },
  {
   "cell_type": "code",
   "execution_count": null,
   "id": "9d62eac9",
   "metadata": {},
   "outputs": [],
   "source": [
    "confusion_matrix(Y_test,prediction3)"
   ]
  },
  {
   "cell_type": "code",
   "execution_count": null,
   "id": "e292a32b",
   "metadata": {},
   "outputs": [],
   "source": [
    "print(\"The precision score is\\t :\",precision_score(Y_test,prediction3))\n",
    "print(\"The accuracy score is\\t :\",accuracy_score(Y_test,prediction3))\n",
    "print(\"The recall score is\\t :\",recall_score(Y_test,prediction3))"
   ]
  },
  {
   "cell_type": "markdown",
   "id": "5743d046",
   "metadata": {},
   "source": [
    "# kNN"
   ]
  },
  {
   "cell_type": "code",
   "execution_count": null,
   "id": "29be544b",
   "metadata": {},
   "outputs": [],
   "source": [
    "#set number for k in the range 3 to 14.Finding the accuracy score for different values for k\n",
    "metric_k=[]\n",
    "neighbors=range(3,15)\n",
    "\n",
    "for k in neighbors:\n",
    "    classifier=KNeighborsClassifier(n_neighbors=k)\n",
    "    classifier=classifier.fit(X_train,Y_train)\n",
    "    y_pred_kNN=classifier.predict(X_test)\n",
    "    acc=accuracy_score(Y_test,y_pred_kNN)\n",
    "    metric_k.append(acc)"
   ]
  },
  {
   "cell_type": "code",
   "execution_count": null,
   "id": "f28ce657",
   "metadata": {},
   "outputs": [],
   "source": [
    "#print the list\n",
    "metric_k"
   ]
  },
  {
   "cell_type": "code",
   "execution_count": null,
   "id": "5e03620e",
   "metadata": {},
   "outputs": [],
   "source": [
    "#Another method to find the accurate values.Plot graph\n",
    "plt.plot(neighbors,metric_k,'o-')\n",
    "plt.xlabel('k values')\n",
    "plt.ylabel('Accuracies')\n",
    "plt.grid()\n",
    "plt.show()"
   ]
  },
  {
   "cell_type": "code",
   "execution_count": null,
   "id": "b5b69d48",
   "metadata": {},
   "outputs": [],
   "source": [
    "#Same steps above with k=14\n",
    "classifier=KNeighborsClassifier(n_neighbors=14)\n",
    "classifier=classifier.fit(X_train,Y_train)\n",
    "y_pred_kNN=classifier.predict(X_test)"
   ]
  },
  {
   "cell_type": "code",
   "execution_count": null,
   "id": "12aa1912",
   "metadata": {},
   "outputs": [],
   "source": [
    "KNN_score=classifier.score(X_test,Y_test)"
   ]
  },
  {
   "cell_type": "code",
   "execution_count": null,
   "id": "dc8eac9b",
   "metadata": {},
   "outputs": [],
   "source": [
    "confusion_matrix(Y_test,y_pred_kNN)"
   ]
  },
  {
   "cell_type": "code",
   "execution_count": null,
   "id": "42bc32e7",
   "metadata": {},
   "outputs": [],
   "source": [
    "KNN_score"
   ]
  },
  {
   "cell_type": "code",
   "execution_count": null,
   "id": "e057af9c",
   "metadata": {},
   "outputs": [],
   "source": [
    "print(\"The precision score is\\t :\",precision_score(Y_test,y_pred_kNN))\n",
    "print(\"The accuracy score is\\t :\",accuracy_score(Y_test,y_pred_kNN))\n",
    "print(\"The recall score is\\t :\",recall_score(Y_test,y_pred_kNN))"
   ]
  },
  {
   "cell_type": "markdown",
   "id": "58d6698f",
   "metadata": {},
   "source": [
    "# SVM"
   ]
  },
  {
   "cell_type": "code",
   "execution_count": null,
   "id": "a0ffc70f",
   "metadata": {},
   "outputs": [],
   "source": [
    "#with linear keranal\n",
    "svm_clf=SVC(kernel=\"linear\")\n",
    "svm_clf=svm_clf.fit(X_train,Y_train)\n",
    "y_pred_svm=svm_clf.predict(X_test)"
   ]
  },
  {
   "cell_type": "code",
   "execution_count": null,
   "id": "fb2f5ec9",
   "metadata": {},
   "outputs": [],
   "source": [
    "confusion_matrix(Y_test,y_pred_svm)"
   ]
  },
  {
   "cell_type": "code",
   "execution_count": null,
   "id": "1a2b1945",
   "metadata": {},
   "outputs": [],
   "source": [
    "print(\"The precision score is\\t :\",precision_score(Y_test,y_pred_svm))\n",
    "print(\"The accuracy score is\\t :\",accuracy_score(Y_test,y_pred_svm))\n",
    "print(\"The recall score is\\t :\",recall_score(Y_test,y_pred_svm))"
   ]
  },
  {
   "cell_type": "code",
   "execution_count": null,
   "id": "41d05f38",
   "metadata": {},
   "outputs": [],
   "source": [
    "#with Radial Basis Function (RBF)\n",
    "svm_clf2=SVC(kernel=\"rbf\")\n",
    "svm_clf2=svm_clf2.fit(X_train,Y_train)\n",
    "y_pred_svm2=svm_clf2.predict(X_test)"
   ]
  },
  {
   "cell_type": "code",
   "execution_count": null,
   "id": "5f5dcf63",
   "metadata": {},
   "outputs": [],
   "source": [
    "#print confusion matrix\n",
    "confusion_matrix(Y_test,y_pred_svm2)"
   ]
  },
  {
   "cell_type": "code",
   "execution_count": null,
   "id": "0640b25c",
   "metadata": {},
   "outputs": [],
   "source": [
    "print(\"The precision score is\\t :\",precision_score(Y_test,y_pred_svm2,average='weighted'))\n",
    "print(\"The accuracy score is\\t :\",accuracy_score(Y_test,y_pred_svm2))\n",
    "print(\"The recall score is\\t :\",recall_score(Y_test,y_pred_svm2,average='weighted'))"
   ]
  },
  {
   "cell_type": "markdown",
   "id": "97f00cb1",
   "metadata": {},
   "source": [
    "# Decision Tree "
   ]
  },
  {
   "cell_type": "code",
   "execution_count": null,
   "id": "2faef3c5",
   "metadata": {},
   "outputs": [],
   "source": [
    "dt_clf=DecisionTreeClassifier()\n",
    "dt_clf=dt_clf.fit(X_train,Y_train)\n",
    "y_pred_dt=dt_clf.predict(X_test)"
   ]
  },
  {
   "cell_type": "code",
   "execution_count": null,
   "id": "caf46846",
   "metadata": {},
   "outputs": [],
   "source": [
    "Dec_score=dt_clf.score(X_test,Y_test)"
   ]
  },
  {
   "cell_type": "code",
   "execution_count": null,
   "id": "589fe609",
   "metadata": {},
   "outputs": [],
   "source": [
    "Dec_score"
   ]
  },
  {
   "cell_type": "code",
   "execution_count": null,
   "id": "3d394aa5",
   "metadata": {},
   "outputs": [],
   "source": [
    "confusion_matrix(Y_test,y_pred_dt)"
   ]
  },
  {
   "cell_type": "code",
   "execution_count": null,
   "id": "e512e1f2",
   "metadata": {},
   "outputs": [],
   "source": [
    "print(\"The precision score is\\t :\",precision_score(Y_test,y_pred_dt))\n",
    "print(\"The accuracy score is\\t :\",accuracy_score(Y_test,y_pred_dt))\n",
    "print(\"The recall score is\\t :\",recall_score(Y_test,y_pred_dt))"
   ]
  },
  {
   "cell_type": "markdown",
   "id": "2bdf6047",
   "metadata": {},
   "source": [
    "# Random forest"
   ]
  },
  {
   "cell_type": "code",
   "execution_count": null,
   "id": "b0882d14",
   "metadata": {},
   "outputs": [],
   "source": [
    "rf_clf=RandomForestClassifier()\n",
    "rf_clf=rf_clf.fit(X_train,Y_train)\n",
    "y_pred_rf=rf_clf.predict(X_test)"
   ]
  },
  {
   "cell_type": "code",
   "execution_count": null,
   "id": "047d7840",
   "metadata": {},
   "outputs": [],
   "source": [
    "Rf_score=rf_clf.score(X_test,Y_test)"
   ]
  },
  {
   "cell_type": "code",
   "execution_count": null,
   "id": "ad22c71d",
   "metadata": {},
   "outputs": [],
   "source": [
    "Rf_score"
   ]
  },
  {
   "cell_type": "code",
   "execution_count": null,
   "id": "44e0cb09",
   "metadata": {},
   "outputs": [],
   "source": [
    "confusion_matrix(Y_test,y_pred_rf)"
   ]
  },
  {
   "cell_type": "code",
   "execution_count": null,
   "id": "b2c77761",
   "metadata": {},
   "outputs": [],
   "source": [
    "print(\"The precision score is\\t :\",precision_score(Y_test,y_pred_rf))\n",
    "print(\"The accuracy score is\\t :\",accuracy_score(Y_test,y_pred_rf))\n",
    "print(\"The recall score is\\t :\",recall_score(Y_test,y_pred_rf))"
   ]
  },
  {
   "cell_type": "markdown",
   "id": "59306b0b",
   "metadata": {},
   "source": [
    "# Naive baise"
   ]
  },
  {
   "cell_type": "code",
   "execution_count": null,
   "id": "1888ece6",
   "metadata": {},
   "outputs": [],
   "source": [
    "from sklearn.naive_bayes import GaussianNB \n",
    "nb = GaussianNB() \n",
    "nb_m=nb.fit(X_train, Y_train)\n",
    "y_pred_nb = nb_m.predict(X_test)"
   ]
  },
  {
   "cell_type": "code",
   "execution_count": null,
   "id": "d4fc2b5d",
   "metadata": {},
   "outputs": [],
   "source": [
    "NB_score=nb_m.score(X_test,Y_test)\n",
    "NB_score"
   ]
  },
  {
   "cell_type": "code",
   "execution_count": null,
   "id": "3a90c1f6",
   "metadata": {},
   "outputs": [],
   "source": [
    "confusion_matrix(Y_test,y_pred_nb)"
   ]
  },
  {
   "cell_type": "code",
   "execution_count": null,
   "id": "c6fdb869",
   "metadata": {},
   "outputs": [],
   "source": [
    "print(\"The precision score is\\t :\",precision_score(Y_test,y_pred_nb))\n",
    "print(\"The accuracy score is\\t :\",accuracy_score(Y_test,y_pred_nb))\n",
    "print(\"The recall score is\\t :\",recall_score(Y_test,y_pred_nb))"
   ]
  },
  {
   "cell_type": "code",
   "execution_count": null,
   "id": "55b22097",
   "metadata": {},
   "outputs": [],
   "source": [
    "models = [ 'Logistic Regression','KNN','Decision Tree','Random Forest','Naive Bayes']\n",
    "data = [ Log_reg_score*100,KNN_score*100,Dec_score*100,Rf_score*100,NB_score*100]\n",
    "cols = ['Accuracy Score']\n",
    "pd.DataFrame(data=data , index= models , columns= cols).sort_values(by=['Accuracy Score'], ascending= False)"
   ]
  },
  {
   "cell_type": "markdown",
   "id": "b7abf828",
   "metadata": {},
   "source": [
    "This dataset is imbalanced.Models do not fit well when there is a class imbalance. There are some methods like oversampling, undersampling and mixture. I will do class oversampling using SMOTE(Synthetic Minority Oversampling Technique). It creates new samples along the lines of the existing samples."
   ]
  },
  {
   "cell_type": "code",
   "execution_count": null,
   "id": "ff1085a0",
   "metadata": {},
   "outputs": [],
   "source": []
  },
  {
   "cell_type": "code",
   "execution_count": null,
   "id": "f2ef230d",
   "metadata": {},
   "outputs": [],
   "source": []
  },
  {
   "cell_type": "code",
   "execution_count": null,
   "id": "fe983869",
   "metadata": {},
   "outputs": [],
   "source": []
  },
  {
   "cell_type": "code",
   "execution_count": null,
   "id": "c24b2630",
   "metadata": {},
   "outputs": [],
   "source": []
  },
  {
   "cell_type": "code",
   "execution_count": null,
   "id": "cf906e3d",
   "metadata": {},
   "outputs": [],
   "source": [
    "plt.bar(counter.keys(),counter.values())"
   ]
  },
  {
   "cell_type": "code",
   "execution_count": null,
   "id": "1351a84e",
   "metadata": {},
   "outputs": [],
   "source": [
    "#Standardisation\n",
    "scale=StandardScaler()\n",
    "X=scale.fit_transform(x)"
   ]
  },
  {
   "cell_type": "code",
   "execution_count": null,
   "id": "ab00d766",
   "metadata": {},
   "outputs": [],
   "source": [
    "X_train, X_test, Y_train, Y_test = train_test_split(X, y, test_size=0.2, random_state=24) # 80% training and 20% test"
   ]
  },
  {
   "cell_type": "markdown",
   "id": "d40e3db1",
   "metadata": {},
   "source": [
    "# Logistic Regression"
   ]
  },
  {
   "cell_type": "markdown",
   "id": "0c3b8c2c",
   "metadata": {},
   "source": []
  },
  {
   "cell_type": "code",
   "execution_count": null,
   "id": "9fd67aac",
   "metadata": {},
   "outputs": [],
   "source": []
  }
 ],
 "metadata": {
  "kernelspec": {
   "display_name": "Python 3 (ipykernel)",
   "language": "python",
   "name": "python3"
  },
  "language_info": {
   "codemirror_mode": {
    "name": "ipython",
    "version": 3
   },
   "file_extension": ".py",
   "mimetype": "text/x-python",
   "name": "python",
   "nbconvert_exporter": "python",
   "pygments_lexer": "ipython3",
   "version": "3.9.12"
  }
 },
 "nbformat": 4,
 "nbformat_minor": 5
}
