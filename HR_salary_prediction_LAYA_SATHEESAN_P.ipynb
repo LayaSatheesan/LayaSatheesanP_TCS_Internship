{
 "cells": [
  {
   "cell_type": "code",
   "execution_count": 85,
   "metadata": {
    "id": "UXdHjWONjGcY"
   },
   "outputs": [],
   "source": [
    "#import libraries\n",
    "import pandas as pd\n",
    "import numpy as np\n",
    "import seaborn as sns\n",
    "import matplotlib.pyplot as plt\n",
    "from collections import Counter\n",
    "from sklearn.model_selection import train_test_split\n",
    "from sklearn.linear_model import LogisticRegression\n",
    "from sklearn.metrics import classification_report\n",
    "from sklearn.metrics import precision_score,recall_score,accuracy_score,confusion_matrix,f1_score\n",
    "from sklearn.preprocessing import StandardScaler\n",
    "from sklearn import preprocessing\n",
    "from sklearn.neighbors import KNeighborsClassifier\n",
    "from sklearn.svm import SVC\n",
    "from sklearn.tree import DecisionTreeClassifier\n",
    "from sklearn.ensemble import RandomForestClassifier\n",
    "# Import sys and warnings to ignore warning messages \n",
    "import sys\n",
    "import warnings\n",
    "%matplotlib inline\n",
    "\n",
    "if not sys.warnoptions:\n",
    "    warnings.simplefilter(\"ignore\")"
   ]
  },
  {
   "cell_type": "code",
   "execution_count": 2,
   "metadata": {
    "id": "HwUhBOBVkUMg"
   },
   "outputs": [],
   "source": [
    "data=pd.read_csv(r'C:\\Users\\Dell\\Downloads\\salarydata.csv')"
   ]
  },
  {
   "cell_type": "code",
   "execution_count": 3,
   "metadata": {
    "colab": {
     "base_uri": "https://localhost:8080/",
     "height": 354
    },
    "id": "WVBceiVrrx6-",
    "outputId": "81bc859f-17d3-45cb-eba3-d4d89397c1ef"
   },
   "outputs": [
    {
     "data": {
      "text/html": [
       "<div>\n",
       "<style scoped>\n",
       "    .dataframe tbody tr th:only-of-type {\n",
       "        vertical-align: middle;\n",
       "    }\n",
       "\n",
       "    .dataframe tbody tr th {\n",
       "        vertical-align: top;\n",
       "    }\n",
       "\n",
       "    .dataframe thead th {\n",
       "        text-align: right;\n",
       "    }\n",
       "</style>\n",
       "<table border=\"1\" class=\"dataframe\">\n",
       "  <thead>\n",
       "    <tr style=\"text-align: right;\">\n",
       "      <th></th>\n",
       "      <th>age</th>\n",
       "      <th>workclass</th>\n",
       "      <th>education</th>\n",
       "      <th>education-num</th>\n",
       "      <th>marital-status</th>\n",
       "      <th>occupation</th>\n",
       "      <th>relationship</th>\n",
       "      <th>race</th>\n",
       "      <th>sex</th>\n",
       "      <th>capital-gain</th>\n",
       "      <th>capital-loss</th>\n",
       "      <th>hours-per-week</th>\n",
       "      <th>native-country</th>\n",
       "      <th>salary</th>\n",
       "    </tr>\n",
       "  </thead>\n",
       "  <tbody>\n",
       "    <tr>\n",
       "      <th>0</th>\n",
       "      <td>39</td>\n",
       "      <td>State-gov</td>\n",
       "      <td>Bachelors</td>\n",
       "      <td>13</td>\n",
       "      <td>Never-married</td>\n",
       "      <td>Adm-clerical</td>\n",
       "      <td>Not-in-family</td>\n",
       "      <td>White</td>\n",
       "      <td>Male</td>\n",
       "      <td>2174</td>\n",
       "      <td>0</td>\n",
       "      <td>40</td>\n",
       "      <td>United-States</td>\n",
       "      <td>&lt;=50K</td>\n",
       "    </tr>\n",
       "    <tr>\n",
       "      <th>1</th>\n",
       "      <td>50</td>\n",
       "      <td>Self-emp-not-inc</td>\n",
       "      <td>Bachelors</td>\n",
       "      <td>13</td>\n",
       "      <td>Married-civ-spouse</td>\n",
       "      <td>Exec-managerial</td>\n",
       "      <td>Husband</td>\n",
       "      <td>White</td>\n",
       "      <td>Male</td>\n",
       "      <td>0</td>\n",
       "      <td>0</td>\n",
       "      <td>13</td>\n",
       "      <td>United-States</td>\n",
       "      <td>&lt;=50K</td>\n",
       "    </tr>\n",
       "    <tr>\n",
       "      <th>2</th>\n",
       "      <td>38</td>\n",
       "      <td>Private</td>\n",
       "      <td>HS-grad</td>\n",
       "      <td>9</td>\n",
       "      <td>Divorced</td>\n",
       "      <td>Handlers-cleaners</td>\n",
       "      <td>Not-in-family</td>\n",
       "      <td>White</td>\n",
       "      <td>Male</td>\n",
       "      <td>0</td>\n",
       "      <td>0</td>\n",
       "      <td>40</td>\n",
       "      <td>United-States</td>\n",
       "      <td>&lt;=50K</td>\n",
       "    </tr>\n",
       "    <tr>\n",
       "      <th>3</th>\n",
       "      <td>53</td>\n",
       "      <td>Private</td>\n",
       "      <td>11th</td>\n",
       "      <td>7</td>\n",
       "      <td>Married-civ-spouse</td>\n",
       "      <td>Handlers-cleaners</td>\n",
       "      <td>Husband</td>\n",
       "      <td>Black</td>\n",
       "      <td>Male</td>\n",
       "      <td>0</td>\n",
       "      <td>0</td>\n",
       "      <td>40</td>\n",
       "      <td>United-States</td>\n",
       "      <td>&lt;=50K</td>\n",
       "    </tr>\n",
       "    <tr>\n",
       "      <th>4</th>\n",
       "      <td>28</td>\n",
       "      <td>Private</td>\n",
       "      <td>Bachelors</td>\n",
       "      <td>13</td>\n",
       "      <td>Married-civ-spouse</td>\n",
       "      <td>Prof-specialty</td>\n",
       "      <td>Wife</td>\n",
       "      <td>Black</td>\n",
       "      <td>Female</td>\n",
       "      <td>0</td>\n",
       "      <td>0</td>\n",
       "      <td>40</td>\n",
       "      <td>Cuba</td>\n",
       "      <td>&lt;=50K</td>\n",
       "    </tr>\n",
       "  </tbody>\n",
       "</table>\n",
       "</div>"
      ],
      "text/plain": [
       "   age         workclass  education  education-num      marital-status  \\\n",
       "0   39         State-gov  Bachelors             13       Never-married   \n",
       "1   50  Self-emp-not-inc  Bachelors             13  Married-civ-spouse   \n",
       "2   38           Private    HS-grad              9            Divorced   \n",
       "3   53           Private       11th              7  Married-civ-spouse   \n",
       "4   28           Private  Bachelors             13  Married-civ-spouse   \n",
       "\n",
       "          occupation   relationship   race     sex  capital-gain  \\\n",
       "0       Adm-clerical  Not-in-family  White    Male          2174   \n",
       "1    Exec-managerial        Husband  White    Male             0   \n",
       "2  Handlers-cleaners  Not-in-family  White    Male             0   \n",
       "3  Handlers-cleaners        Husband  Black    Male             0   \n",
       "4     Prof-specialty           Wife  Black  Female             0   \n",
       "\n",
       "   capital-loss  hours-per-week native-country salary  \n",
       "0             0              40  United-States  <=50K  \n",
       "1             0              13  United-States  <=50K  \n",
       "2             0              40  United-States  <=50K  \n",
       "3             0              40  United-States  <=50K  \n",
       "4             0              40           Cuba  <=50K  "
      ]
     },
     "execution_count": 3,
     "metadata": {},
     "output_type": "execute_result"
    }
   ],
   "source": [
    "data.head()"
   ]
  },
  {
   "cell_type": "code",
   "execution_count": 4,
   "metadata": {
    "colab": {
     "base_uri": "https://localhost:8080/",
     "height": 354
    },
    "id": "wF02xKmUtDmF",
    "outputId": "e375d140-95d5-4052-bd15-4c7e82c86f55"
   },
   "outputs": [
    {
     "data": {
      "text/html": [
       "<div>\n",
       "<style scoped>\n",
       "    .dataframe tbody tr th:only-of-type {\n",
       "        vertical-align: middle;\n",
       "    }\n",
       "\n",
       "    .dataframe tbody tr th {\n",
       "        vertical-align: top;\n",
       "    }\n",
       "\n",
       "    .dataframe thead th {\n",
       "        text-align: right;\n",
       "    }\n",
       "</style>\n",
       "<table border=\"1\" class=\"dataframe\">\n",
       "  <thead>\n",
       "    <tr style=\"text-align: right;\">\n",
       "      <th></th>\n",
       "      <th>age</th>\n",
       "      <th>workclass</th>\n",
       "      <th>education</th>\n",
       "      <th>education-num</th>\n",
       "      <th>marital-status</th>\n",
       "      <th>occupation</th>\n",
       "      <th>relationship</th>\n",
       "      <th>race</th>\n",
       "      <th>sex</th>\n",
       "      <th>capital-gain</th>\n",
       "      <th>capital-loss</th>\n",
       "      <th>hours-per-week</th>\n",
       "      <th>native-country</th>\n",
       "      <th>salary</th>\n",
       "    </tr>\n",
       "  </thead>\n",
       "  <tbody>\n",
       "    <tr>\n",
       "      <th>32556</th>\n",
       "      <td>27</td>\n",
       "      <td>Private</td>\n",
       "      <td>Assoc-acdm</td>\n",
       "      <td>12</td>\n",
       "      <td>Married-civ-spouse</td>\n",
       "      <td>Tech-support</td>\n",
       "      <td>Wife</td>\n",
       "      <td>White</td>\n",
       "      <td>Female</td>\n",
       "      <td>0</td>\n",
       "      <td>0</td>\n",
       "      <td>38</td>\n",
       "      <td>United-States</td>\n",
       "      <td>&lt;=50K</td>\n",
       "    </tr>\n",
       "    <tr>\n",
       "      <th>32557</th>\n",
       "      <td>40</td>\n",
       "      <td>Private</td>\n",
       "      <td>HS-grad</td>\n",
       "      <td>9</td>\n",
       "      <td>Married-civ-spouse</td>\n",
       "      <td>Machine-op-inspct</td>\n",
       "      <td>Husband</td>\n",
       "      <td>White</td>\n",
       "      <td>Male</td>\n",
       "      <td>0</td>\n",
       "      <td>0</td>\n",
       "      <td>40</td>\n",
       "      <td>United-States</td>\n",
       "      <td>&gt;50K</td>\n",
       "    </tr>\n",
       "    <tr>\n",
       "      <th>32558</th>\n",
       "      <td>58</td>\n",
       "      <td>Private</td>\n",
       "      <td>HS-grad</td>\n",
       "      <td>9</td>\n",
       "      <td>Widowed</td>\n",
       "      <td>Adm-clerical</td>\n",
       "      <td>Unmarried</td>\n",
       "      <td>White</td>\n",
       "      <td>Female</td>\n",
       "      <td>0</td>\n",
       "      <td>0</td>\n",
       "      <td>40</td>\n",
       "      <td>United-States</td>\n",
       "      <td>&lt;=50K</td>\n",
       "    </tr>\n",
       "    <tr>\n",
       "      <th>32559</th>\n",
       "      <td>22</td>\n",
       "      <td>Private</td>\n",
       "      <td>HS-grad</td>\n",
       "      <td>9</td>\n",
       "      <td>Never-married</td>\n",
       "      <td>Adm-clerical</td>\n",
       "      <td>Own-child</td>\n",
       "      <td>White</td>\n",
       "      <td>Male</td>\n",
       "      <td>0</td>\n",
       "      <td>0</td>\n",
       "      <td>20</td>\n",
       "      <td>United-States</td>\n",
       "      <td>&lt;=50K</td>\n",
       "    </tr>\n",
       "    <tr>\n",
       "      <th>32560</th>\n",
       "      <td>52</td>\n",
       "      <td>Self-emp-inc</td>\n",
       "      <td>HS-grad</td>\n",
       "      <td>9</td>\n",
       "      <td>Married-civ-spouse</td>\n",
       "      <td>Exec-managerial</td>\n",
       "      <td>Wife</td>\n",
       "      <td>White</td>\n",
       "      <td>Female</td>\n",
       "      <td>15024</td>\n",
       "      <td>0</td>\n",
       "      <td>40</td>\n",
       "      <td>United-States</td>\n",
       "      <td>&gt;50K</td>\n",
       "    </tr>\n",
       "  </tbody>\n",
       "</table>\n",
       "</div>"
      ],
      "text/plain": [
       "       age     workclass   education  education-num      marital-status  \\\n",
       "32556   27       Private  Assoc-acdm             12  Married-civ-spouse   \n",
       "32557   40       Private     HS-grad              9  Married-civ-spouse   \n",
       "32558   58       Private     HS-grad              9             Widowed   \n",
       "32559   22       Private     HS-grad              9       Never-married   \n",
       "32560   52  Self-emp-inc     HS-grad              9  Married-civ-spouse   \n",
       "\n",
       "              occupation relationship   race     sex  capital-gain  \\\n",
       "32556       Tech-support         Wife  White  Female             0   \n",
       "32557  Machine-op-inspct      Husband  White    Male             0   \n",
       "32558       Adm-clerical    Unmarried  White  Female             0   \n",
       "32559       Adm-clerical    Own-child  White    Male             0   \n",
       "32560    Exec-managerial         Wife  White  Female         15024   \n",
       "\n",
       "       capital-loss  hours-per-week native-country salary  \n",
       "32556             0              38  United-States  <=50K  \n",
       "32557             0              40  United-States   >50K  \n",
       "32558             0              40  United-States  <=50K  \n",
       "32559             0              20  United-States  <=50K  \n",
       "32560             0              40  United-States   >50K  "
      ]
     },
     "execution_count": 4,
     "metadata": {},
     "output_type": "execute_result"
    }
   ],
   "source": [
    "data.tail()"
   ]
  },
  {
   "cell_type": "markdown",
   "metadata": {
    "id": "YBdC73IhzEdB"
   },
   "source": [
    "### Understanding the dataset"
   ]
  },
  {
   "cell_type": "code",
   "execution_count": 5,
   "metadata": {
    "colab": {
     "base_uri": "https://localhost:8080/"
    },
    "id": "9VRoFGuBtGO_",
    "outputId": "f0bada63-9a88-4b97-c14c-f0a29fc545b8"
   },
   "outputs": [
    {
     "data": {
      "text/plain": [
       "(32561, 14)"
      ]
     },
     "execution_count": 5,
     "metadata": {},
     "output_type": "execute_result"
    }
   ],
   "source": [
    "data.shape"
   ]
  },
  {
   "cell_type": "code",
   "execution_count": 6,
   "metadata": {
    "colab": {
     "base_uri": "https://localhost:8080/"
    },
    "id": "AU-IFkrEzUV4",
    "outputId": "344fa2c2-7fcf-497f-9491-d88710b15738"
   },
   "outputs": [
    {
     "name": "stdout",
     "output_type": "stream",
     "text": [
      "<class 'pandas.core.frame.DataFrame'>\n",
      "RangeIndex: 32561 entries, 0 to 32560\n",
      "Data columns (total 14 columns):\n",
      " #   Column          Non-Null Count  Dtype \n",
      "---  ------          --------------  ----- \n",
      " 0   age             32561 non-null  int64 \n",
      " 1   workclass       32561 non-null  object\n",
      " 2   education       32561 non-null  object\n",
      " 3   education-num   32561 non-null  int64 \n",
      " 4   marital-status  32561 non-null  object\n",
      " 5   occupation      32561 non-null  object\n",
      " 6   relationship    32561 non-null  object\n",
      " 7   race            32561 non-null  object\n",
      " 8   sex             32561 non-null  object\n",
      " 9   capital-gain    32561 non-null  int64 \n",
      " 10  capital-loss    32561 non-null  int64 \n",
      " 11  hours-per-week  32561 non-null  int64 \n",
      " 12  native-country  32561 non-null  object\n",
      " 13  salary          32561 non-null  object\n",
      "dtypes: int64(5), object(9)\n",
      "memory usage: 3.5+ MB\n"
     ]
    }
   ],
   "source": [
    "data.info()"
   ]
  },
  {
   "cell_type": "markdown",
   "metadata": {
    "id": "n0D1suJm6_uS"
   },
   "source": [
    "### Data Cleaning"
   ]
  },
  {
   "cell_type": "markdown",
   "metadata": {
    "id": "1_kElLutJX5V"
   },
   "source": [
    "### 1. Missing Values"
   ]
  },
  {
   "cell_type": "code",
   "execution_count": 7,
   "metadata": {
    "colab": {
     "base_uri": "https://localhost:8080/"
    },
    "id": "Ru9Hf2zQ7EpQ",
    "outputId": "ecdccde4-a809-4436-8723-378ee585168f"
   },
   "outputs": [
    {
     "data": {
      "text/plain": [
       "age               0\n",
       "workclass         0\n",
       "education         0\n",
       "education-num     0\n",
       "marital-status    0\n",
       "occupation        0\n",
       "relationship      0\n",
       "race              0\n",
       "sex               0\n",
       "capital-gain      0\n",
       "capital-loss      0\n",
       "hours-per-week    0\n",
       "native-country    0\n",
       "salary            0\n",
       "dtype: int64"
      ]
     },
     "execution_count": 7,
     "metadata": {},
     "output_type": "execute_result"
    }
   ],
   "source": [
    " #check the missing value\n",
    "data.isnull().sum()"
   ]
  },
  {
   "cell_type": "markdown",
   "metadata": {
    "id": "qMXX4jxdN37I"
   },
   "source": [
    "**Above sum shows there are no null values in the dataset.**"
   ]
  },
  {
   "cell_type": "code",
   "execution_count": 8,
   "metadata": {
    "colab": {
     "base_uri": "https://localhost:8080/"
    },
    "id": "V7sDlg00JpPZ",
    "outputId": "e23063ae-616d-493f-dfe1-77dc6416f045"
   },
   "outputs": [
    {
     "data": {
      "text/plain": [
       "age                  0\n",
       "workclass         1836\n",
       "education            0\n",
       "education-num        0\n",
       "marital-status       0\n",
       "occupation        1843\n",
       "relationship         0\n",
       "race                 0\n",
       "sex                  0\n",
       "capital-gain         0\n",
       "capital-loss         0\n",
       "hours-per-week       0\n",
       "native-country     583\n",
       "salary               0\n",
       "dtype: int64"
      ]
     },
     "execution_count": 8,
     "metadata": {},
     "output_type": "execute_result"
    }
   ],
   "source": [
    "#we can see that there are some special characters in the data like ‘?’.\n",
    "#Finding the special characters in the data frame\n",
    "data.isin(['?']).sum(axis=0)"
   ]
  },
  {
   "cell_type": "code",
   "execution_count": 9,
   "metadata": {
    "id": "zMxpUAr_OdBi"
   },
   "outputs": [],
   "source": [
    "#Handling missing values\n",
    "# the code will replace the special character to nan  \n",
    "data['native-country'] = data['native-country'].replace('?',np.nan)\n",
    "data['workclass'] = data['workclass'].replace('?',np.nan)\n",
    "data['occupation'] = data['occupation'].replace('?',np.nan)"
   ]
  },
  {
   "cell_type": "code",
   "execution_count": 10,
   "metadata": {
    "colab": {
     "base_uri": "https://localhost:8080/"
    },
    "id": "YHSfyaD2sn9E",
    "outputId": "50bb6bb4-6c9c-4334-c69b-c0e01ce70ec9"
   },
   "outputs": [
    {
     "data": {
      "text/plain": [
       "age                  0\n",
       "workclass         1836\n",
       "education            0\n",
       "education-num        0\n",
       "marital-status       0\n",
       "occupation        1843\n",
       "relationship         0\n",
       "race                 0\n",
       "sex                  0\n",
       "capital-gain         0\n",
       "capital-loss         0\n",
       "hours-per-week       0\n",
       "native-country     583\n",
       "salary               0\n",
       "dtype: int64"
      ]
     },
     "execution_count": 10,
     "metadata": {},
     "output_type": "execute_result"
    }
   ],
   "source": [
    "data.isnull().sum()"
   ]
  },
  {
   "cell_type": "code",
   "execution_count": 11,
   "metadata": {
    "id": "IkLWBnPiPl-P"
   },
   "outputs": [],
   "source": [
    "#we will use the pandas DataFrame mode() method to fill the missing value.\n",
    "data = data.fillna(data.mode().iloc[0])"
   ]
  },
  {
   "cell_type": "code",
   "execution_count": 12,
   "metadata": {
    "colab": {
     "base_uri": "https://localhost:8080/"
    },
    "id": "XstODt29sn9F",
    "outputId": "b75ab508-2514-4a3e-dfd6-63e61f758327"
   },
   "outputs": [
    {
     "data": {
      "text/plain": [
       "age               0\n",
       "workclass         0\n",
       "education         0\n",
       "education-num     0\n",
       "marital-status    0\n",
       "occupation        0\n",
       "relationship      0\n",
       "race              0\n",
       "sex               0\n",
       "capital-gain      0\n",
       "capital-loss      0\n",
       "hours-per-week    0\n",
       "native-country    0\n",
       "salary            0\n",
       "dtype: int64"
      ]
     },
     "execution_count": 12,
     "metadata": {},
     "output_type": "execute_result"
    }
   ],
   "source": [
    "data.isnull().sum()"
   ]
  },
  {
   "cell_type": "markdown",
   "metadata": {
    "id": "_JBr7O5ksn9G"
   },
   "source": [
    "### 2. Remove duplicate data "
   ]
  },
  {
   "cell_type": "code",
   "execution_count": 13,
   "metadata": {
    "colab": {
     "base_uri": "https://localhost:8080/"
    },
    "id": "cGYaHaP4sn9G",
    "outputId": "71ae500c-275e-40fa-a7b3-526dcd7f2dbb"
   },
   "outputs": [
    {
     "data": {
      "text/plain": [
       "3591"
      ]
     },
     "execution_count": 13,
     "metadata": {},
     "output_type": "execute_result"
    }
   ],
   "source": [
    "#Checking for duplicated entries\n",
    "sum(data.duplicated(data.columns))"
   ]
  },
  {
   "cell_type": "code",
   "execution_count": 14,
   "metadata": {
    "colab": {
     "base_uri": "https://localhost:8080/"
    },
    "id": "g2k_WAN7sn9H",
    "outputId": "185aebb2-c83a-4f5e-8455-15768c643092"
   },
   "outputs": [
    {
     "data": {
      "text/plain": [
       "0"
      ]
     },
     "execution_count": 14,
     "metadata": {},
     "output_type": "execute_result"
    }
   ],
   "source": [
    "#Delete the duplicates and check that it worked\n",
    "data = data.drop_duplicates(data.columns, keep='last')\n",
    "sum(data.duplicated(data.columns))"
   ]
  },
  {
   "cell_type": "code",
   "execution_count": 15,
   "metadata": {
    "colab": {
     "base_uri": "https://localhost:8080/"
    },
    "id": "daVhJlX4sn9H",
    "outputId": "96fd3248-4c15-4614-8f56-7ef2a2234e87"
   },
   "outputs": [
    {
     "data": {
      "text/plain": [
       "(28970, 14)"
      ]
     },
     "execution_count": 15,
     "metadata": {},
     "output_type": "execute_result"
    }
   ],
   "source": [
    "data.shape"
   ]
  },
  {
   "cell_type": "code",
   "execution_count": 16,
   "metadata": {
    "colab": {
     "base_uri": "https://localhost:8080/"
    },
    "id": "kaDebLqAsn9I",
    "outputId": "77af7280-95e4-403a-b124-0abbdff2bca9",
    "scrolled": true
   },
   "outputs": [
    {
     "data": {
      "text/plain": [
       "Index(['age', 'workclass', 'education', 'education-num', 'marital-status',\n",
       "       'occupation', 'relationship', 'race', 'sex', 'capital-gain',\n",
       "       'capital-loss', 'hours-per-week', 'native-country', 'salary'],\n",
       "      dtype='object')"
      ]
     },
     "execution_count": 16,
     "metadata": {},
     "output_type": "execute_result"
    }
   ],
   "source": [
    "data.columns"
   ]
  },
  {
   "cell_type": "markdown",
   "metadata": {
    "id": "IE8Z-1Lrsn9J"
   },
   "source": [
    "### 3. Handling Outliers"
   ]
  },
  {
   "cell_type": "code",
   "execution_count": 17,
   "metadata": {
    "colab": {
     "base_uri": "https://localhost:8080/",
     "height": 1000
    },
    "id": "ALhirEabsn9J",
    "outputId": "6e594250-0b81-4bbb-94ca-aecc9d734015",
    "scrolled": true
   },
   "outputs": [
    {
     "data": {
      "image/png": "[encoded data removed]",
      "text/plain": [
       "<Figure size 432x288 with 1 Axes>"
      ]
     },
     "metadata": {
      "needs_background": "light"
     },
     "output_type": "display_data"
    },
    {
     "data": {
      "image/png": "[encoded data removed]",
      "text/plain": [
       "<Figure size 432x288 with 1 Axes>"
      ]
     },
     "metadata": {
      "needs_background": "light"
     },
     "output_type": "display_data"
    },
    {
     "data": {
      "image/png": "[encoded data removed]",
      "text/plain": [
       "<Figure size 432x288 with 1 Axes>"
      ]
     },
     "metadata": {
      "needs_background": "light"
     },
     "output_type": "display_data"
    },
    {
     "data": {
      "image/png": "[encoded data removed]",
      "text/plain": [
       "<Figure size 432x288 with 1 Axes>"
      ]
     },
     "metadata": {
      "needs_background": "light"
     },
     "output_type": "display_data"
    }
   ],
   "source": [
    "## checking outliers\n",
    "for i in ['age',\n",
    "       'capital-gain','capital-loss','hours-per-week'] :\n",
    "    plt.title(i)\n",
    "    sns.boxplot(data=data[i])\n",
    "    plt.show()  \n"
   ]
  },
  {
   "cell_type": "markdown",
   "metadata": {
    "id": "Kwk-b2uSsn9K"
   },
   "source": [
    "### Handling Outliers with age"
   ]
  },
  {
   "cell_type": "code",
   "execution_count": 18,
   "metadata": {
    "id": "wiePXQLisn9K"
   },
   "outputs": [],
   "source": [
    "q1 = np.percentile(data['age'],25,interpolation='midpoint')\n",
    "q3 = np.percentile(data['age'],75,interpolation='midpoint')\n",
    "\n",
    "IQR = q3-q1\n",
    "low_limit=q1-1.5*IQR\n",
    "high_limit=q3+1.5*IQR\n",
    "\n",
    "index=data['age'][(data['age']<low_limit)|(data['age']>high_limit)].index\n",
    "data.drop(index,inplace=True)"
   ]
  },
  {
   "cell_type": "markdown",
   "metadata": {
    "id": "7cfmEfpasn9M"
   },
   "source": [
    "### Handling Outliers with capital_gain"
   ]
  },
  {
   "cell_type": "code",
   "execution_count": 19,
   "metadata": {
    "id": "Da-VnQBusn9N"
   },
   "outputs": [],
   "source": [
    "q1 = np.percentile(data['hours-per-week'],25,interpolation='midpoint')\n",
    "q3 = np.percentile(data['hours-per-week'],75,interpolation='midpoint')\n",
    "\n",
    "IQR = q3-q1\n",
    "low_limit=q1-1.5*IQR\n",
    "high_limit=q3+1.5*IQR\n",
    "\n",
    "index=data['hours-per-week'][(data['hours-per-week']<low_limit)|(data['hours-per-week']>high_limit)].index\n",
    "data.drop(index,inplace=True)"
   ]
  },
  {
   "cell_type": "markdown",
   "metadata": {
    "id": "S5uCEaNEsn9O"
   },
   "source": [
    "### 5. Exploratory Data analysis"
   ]
  },
  {
   "cell_type": "code",
   "execution_count": 20,
   "metadata": {
    "scrolled": true
   },
   "outputs": [
    {
     "data": {
      "image/png": "[encoded data removed]",
      "text/plain": [
       "<Figure size 432x288 with 1 Axes>"
      ]
     },
     "metadata": {
      "needs_background": "light"
     },
     "output_type": "display_data"
    }
   ],
   "source": [
    "sns.countplot(x=data[\"salary\"])\n",
    "plt.title(\"Countplot of salary\")\n",
    "plt.xlabel(\"salary\")\n",
    "plt.ylabel(\"Count\")\n",
    "plt.show()"
   ]
  },
  {
   "cell_type": "markdown",
   "metadata": {},
   "source": [
    "Most of the people got salary less than or equal to 50k"
   ]
  },
  {
   "cell_type": "code",
   "execution_count": 21,
   "metadata": {},
   "outputs": [
    {
     "data": {
      "image/png": "[encoded data removed]",
      "text/plain": [
       "<Figure size 432x288 with 1 Axes>"
      ]
     },
     "metadata": {
      "needs_background": "light"
     },
     "output_type": "display_data"
    }
   ],
   "source": [
    "sns.countplot(x=data[\"sex\"])\n",
    "plt.title(\"Countplot of sex\")\n",
    "plt.xlabel(\"sex\")\n",
    "plt.ylabel(\"Count\")\n",
    "plt.show()"
   ]
  },
  {
   "cell_type": "code",
   "execution_count": 22,
   "metadata": {},
   "outputs": [
    {
     "data": {
      "text/plain": [
       "Male      0.673832\n",
       "Female    0.326168\n",
       "Name: sex, dtype: float64"
      ]
     },
     "execution_count": 22,
     "metadata": {},
     "output_type": "execute_result"
    }
   ],
   "source": [
    "data[\"sex\"].value_counts(normalize=True)"
   ]
  },
  {
   "cell_type": "markdown",
   "metadata": {},
   "source": [
    "In this dataset male count is more than female. Arount 67% are males.Others are females."
   ]
  },
  {
   "cell_type": "code",
   "execution_count": 23,
   "metadata": {},
   "outputs": [
    {
     "data": {
      "image/png": "[encoded data removed]",
      "text/plain": [
       "<Figure size 432x288 with 1 Axes>"
      ]
     },
     "metadata": {},
     "output_type": "display_data"
    }
   ],
   "source": [
    "#Checking race\n",
    "\n",
    "data['race'].value_counts().plot(kind = 'pie')\n",
    "plt.legend()\n",
    "plt.rcParams['figure.figsize'] = (10,10)\n",
    "plt.show()"
   ]
  },
  {
   "cell_type": "markdown",
   "metadata": {},
   "source": [
    "Most of the are from white race"
   ]
  },
  {
   "cell_type": "code",
   "execution_count": 24,
   "metadata": {},
   "outputs": [
    {
     "data": {
      "image/png": "[encoded data removed]",
      "text/plain": [
       "<Figure size 720x720 with 1 Axes>"
      ]
     },
     "metadata": {
      "needs_background": "light"
     },
     "output_type": "display_data"
    }
   ],
   "source": [
    "sns.countplot(x=data[\"relationship\"])\n",
    "plt.title(\"Countplot of relationship\")\n",
    "plt.xlabel(\"Relationship\")\n",
    "plt.ylabel(\"Count\")\n",
    "plt.xticks(rotation=90)\n",
    "plt.show()"
   ]
  },
  {
   "cell_type": "markdown",
   "metadata": {},
   "source": [
    "Above 12k people in this dataset having a relationship as husband.More than 8k people under the category of not-in-family."
   ]
  },
  {
   "cell_type": "code",
   "execution_count": 25,
   "metadata": {},
   "outputs": [
    {
     "data": {
      "image/png": "[encoded data removed]",
      "text/plain": [
       "<Figure size 720x720 with 1 Axes>"
      ]
     },
     "metadata": {},
     "output_type": "display_data"
    }
   ],
   "source": [
    "#Checking race\n",
    "\n",
    "data['occupation'].value_counts().plot(kind = 'pie')\n",
    "plt.legend()\n",
    "plt.rcParams['figure.figsize'] = (15,10)\n",
    "plt.show()"
   ]
  },
  {
   "cell_type": "code",
   "execution_count": 26,
   "metadata": {},
   "outputs": [
    {
     "data": {
      "image/png": "[encoded data removed]",
      "text/plain": [
       "<Figure size 1080x720 with 1 Axes>"
      ]
     },
     "metadata": {
      "needs_background": "light"
     },
     "output_type": "display_data"
    }
   ],
   "source": [
    "sns.countplot(x=data[\"marital-status\"])\n",
    "plt.title(\"Countplot of marital-status\")\n",
    "plt.xlabel(\"Marital-status\")\n",
    "plt.ylabel(\"Count\")\n",
    "plt.xticks(rotation=90)\n",
    "plt.show()"
   ]
  },
  {
   "cell_type": "code",
   "execution_count": 27,
   "metadata": {},
   "outputs": [
    {
     "data": {
      "image/png": "[encoded data removed]",
      "text/plain": [
       "<Figure size 1080x720 with 1 Axes>"
      ]
     },
     "metadata": {
      "needs_background": "light"
     },
     "output_type": "display_data"
    }
   ],
   "source": [
    "sns.countplot(x=data[\"education\"])\n",
    "plt.title(\"Countplot of education\")\n",
    "plt.xlabel(\"Education\")\n",
    "plt.ylabel(\"Count\")\n",
    "plt.xticks(rotation=90)\n",
    "plt.show()"
   ]
  },
  {
   "cell_type": "code",
   "execution_count": 28,
   "metadata": {},
   "outputs": [
    {
     "data": {
      "image/png": "[encoded data removed]",
      "text/plain": [
       "<Figure size 1080x720 with 1 Axes>"
      ]
     },
     "metadata": {
      "needs_background": "light"
     },
     "output_type": "display_data"
    }
   ],
   "source": [
    "sns.countplot(x=data[\"workclass\"])\n",
    "plt.title(\"Countplot of workclass\")\n",
    "plt.xlabel(\"Workclass\")\n",
    "plt.ylabel(\"Count\")\n",
    "plt.xticks(rotation=90)\n",
    "plt.show()"
   ]
  },
  {
   "cell_type": "code",
   "execution_count": 29,
   "metadata": {},
   "outputs": [
    {
     "data": {
      "image/png": "[encoded data removed]",
      "text/plain": [
       "<Figure size 1080x720 with 1 Axes>"
      ]
     },
     "metadata": {
      "needs_background": "light"
     },
     "output_type": "display_data"
    }
   ],
   "source": [
    "sns.lineplot(x=data['salary'],y=data['age'],marker='o')\n",
    "plt.title('Lineplot of salary Vs age')\n",
    "plt.show()"
   ]
  },
  {
   "cell_type": "code",
   "execution_count": 30,
   "metadata": {},
   "outputs": [
    {
     "data": {
      "image/png": "[encoded data removed]",
      "text/plain": [
       "<Figure size 576x432 with 1 Axes>"
      ]
     },
     "metadata": {
      "needs_background": "light"
     },
     "output_type": "display_data"
    }
   ],
   "source": [
    "plt.figure(figsize=(8,6))\n",
    "sns.histplot(data[\"age\"],binwidth=5)\n",
    "plt.title(\"Distribution of age\")\n",
    "plt.show()"
   ]
  },
  {
   "cell_type": "code",
   "execution_count": 31,
   "metadata": {},
   "outputs": [
    {
     "data": {
      "image/png": "[encoded data removed]",
      "text/plain": [
       "<Figure size 576x432 with 1 Axes>"
      ]
     },
     "metadata": {
      "needs_background": "light"
     },
     "output_type": "display_data"
    }
   ],
   "source": [
    "plt.figure(figsize=(8,6))\n",
    "sns.histplot(data[\"education-num\"],binwidth=5)\n",
    "plt.title(\"Distribution of education-num\")\n",
    "plt.show()"
   ]
  },
  {
   "cell_type": "code",
   "execution_count": 32,
   "metadata": {},
   "outputs": [
    {
     "data": {
      "image/png": "[encoded data removed]",
      "text/plain": [
       "<Figure size 576x432 with 1 Axes>"
      ]
     },
     "metadata": {
      "needs_background": "light"
     },
     "output_type": "display_data"
    }
   ],
   "source": [
    "plt.figure(figsize=(8,6))\n",
    "sns.histplot(data[\"capital-gain\"])\n",
    "plt.title(\"Distribution of capital-gain\")\n",
    "plt.show()"
   ]
  },
  {
   "cell_type": "code",
   "execution_count": 33,
   "metadata": {},
   "outputs": [
    {
     "data": {
      "image/png": "[encoded data removed]",
      "text/plain": [
       "<Figure size 576x432 with 1 Axes>"
      ]
     },
     "metadata": {
      "needs_background": "light"
     },
     "output_type": "display_data"
    }
   ],
   "source": [
    "plt.figure(figsize=(8,6))\n",
    "sns.histplot(data[\"capital-loss\"])\n",
    "plt.title(\"Distribution of capital-loss\")\n",
    "plt.show()"
   ]
  },
  {
   "cell_type": "code",
   "execution_count": 34,
   "metadata": {},
   "outputs": [
    {
     "data": {
      "image/png": "[encoded data removed]",
      "text/plain": [
       "<Figure size 576x432 with 1 Axes>"
      ]
     },
     "metadata": {
      "needs_background": "light"
     },
     "output_type": "display_data"
    }
   ],
   "source": [
    "plt.figure(figsize=(8,6))\n",
    "sns.histplot(data[\"hours-per-week\"],binwidth=5)\n",
    "plt.title(\"Distribution of hours-per-week\")\n",
    "plt.show()"
   ]
  },
  {
   "cell_type": "code",
   "execution_count": 35,
   "metadata": {},
   "outputs": [
    {
     "data": {
      "image/png": "[encoded data removed]",
      "text/plain": [
       "<Figure size 360x360 with 1 Axes>"
      ]
     },
     "metadata": {
      "needs_background": "light"
     },
     "output_type": "display_data"
    }
   ],
   "source": [
    "#Plotting Salary vs age\n",
    "sns.catplot(x=\"salary\", y= \"age\", kind=\"box\", data=data)\n",
    "plt.show()"
   ]
  },
  {
   "cell_type": "code",
   "execution_count": 36,
   "metadata": {},
   "outputs": [
    {
     "data": {
      "text/plain": [
       "<seaborn.axisgrid.FacetGrid at 0x1cefbc7b4c0>"
      ]
     },
     "execution_count": 36,
     "metadata": {},
     "output_type": "execute_result"
    },
    {
     "data": {
      "image/png": "[encoded data removed]",
      "text/plain": [
       "<Figure size 360x360 with 1 Axes>"
      ]
     },
     "metadata": {
      "needs_background": "light"
     },
     "output_type": "display_data"
    }
   ],
   "source": [
    "# Plotting Salary vs fnlwgt\n",
    "sns.catplot(x=\"age\", y= \"race\", kind=\"box\", data=data)"
   ]
  },
  {
   "cell_type": "code",
   "execution_count": 37,
   "metadata": {},
   "outputs": [
    {
     "data": {
      "text/plain": [
       "<seaborn.axisgrid.FacetGrid at 0x1cefbd7d4f0>"
      ]
     },
     "execution_count": 37,
     "metadata": {},
     "output_type": "execute_result"
    },
    {
     "data": {
      "image/png": "[encoded data removed]",
      "text/plain": [
       "<Figure size 360x360 with 1 Axes>"
      ]
     },
     "metadata": {
      "needs_background": "light"
     },
     "output_type": "display_data"
    }
   ],
   "source": [
    "# Plotting Salary vs hours_per_week\n",
    "sns.catplot(x=\"sex\", y= \"hours-per-week\", kind=\"violin\", data=data)"
   ]
  },
  {
   "cell_type": "code",
   "execution_count": 38,
   "metadata": {},
   "outputs": [
    {
     "data": {
      "image/png": "[encoded data removed]",
      "text/plain": [
       "<Figure size 1440x1440 with 5 Axes>"
      ]
     },
     "metadata": {
      "needs_background": "light"
     },
     "output_type": "display_data"
    }
   ],
   "source": [
    "#setting the required plot style\n",
    "plt.style.use('bmh')\n",
    "#Defining a function graph()\n",
    "def graph(x):\n",
    "    sns.countplot(x = x,hue= 'salary', data = data )\n",
    "    #adding labels for x and y axis\n",
    "    plt.xlabel(x, fontsize = 15)\n",
    "    plt.ylabel('Count', fontsize = 15)\n",
    "    plt.xticks(fontsize=9)\n",
    "    plt.yticks(fontsize=9)\n",
    "plt.figure(figsize=(20,20))\n",
    "#plotting subplots using the function graph()\n",
    "plt.subplot(421)\n",
    "graph('age')\n",
    "plt.subplot(422)\n",
    "graph('education-num')\n",
    "plt.subplot(423)\n",
    "graph('capital-gain')\n",
    "plt.subplot(424)\n",
    "graph('capital-loss')\n",
    "plt.subplot(425)\n",
    "graph('hours-per-week')\n"
   ]
  },
  {
   "cell_type": "markdown",
   "metadata": {
    "id": "4n9NsiA2sn9S"
   },
   "source": [
    "### 6. Feature Reduction "
   ]
  },
  {
   "cell_type": "markdown",
   "metadata": {
    "id": "UE3vs3p-sn9T"
   },
   "source": [
    "- we can drop 'capital-gain'& 'capital-loss' both columns. \n",
    "- The column,education-num is the numerical version of the column education, so we also drop it."
   ]
  },
  {
   "cell_type": "code",
   "execution_count": 39,
   "metadata": {
    "colab": {
     "base_uri": "https://localhost:8080/",
     "height": 206
    },
    "id": "74pqK5Nhsn9T",
    "outputId": "f7dc1feb-8d65-4a13-abd7-0c1822b2ab89"
   },
   "outputs": [
    {
     "data": {
      "text/html": [
       "<div>\n",
       "<style scoped>\n",
       "    .dataframe tbody tr th:only-of-type {\n",
       "        vertical-align: middle;\n",
       "    }\n",
       "\n",
       "    .dataframe tbody tr th {\n",
       "        vertical-align: top;\n",
       "    }\n",
       "\n",
       "    .dataframe thead th {\n",
       "        text-align: right;\n",
       "    }\n",
       "</style>\n",
       "<table border=\"1\" class=\"dataframe\">\n",
       "  <thead>\n",
       "    <tr style=\"text-align: right;\">\n",
       "      <th></th>\n",
       "      <th>age</th>\n",
       "      <th>workclass</th>\n",
       "      <th>education</th>\n",
       "      <th>marital-status</th>\n",
       "      <th>occupation</th>\n",
       "      <th>relationship</th>\n",
       "      <th>race</th>\n",
       "      <th>sex</th>\n",
       "      <th>hours-per-week</th>\n",
       "      <th>native-country</th>\n",
       "      <th>salary</th>\n",
       "    </tr>\n",
       "  </thead>\n",
       "  <tbody>\n",
       "    <tr>\n",
       "      <th>0</th>\n",
       "      <td>39</td>\n",
       "      <td>State-gov</td>\n",
       "      <td>Bachelors</td>\n",
       "      <td>Never-married</td>\n",
       "      <td>Adm-clerical</td>\n",
       "      <td>Not-in-family</td>\n",
       "      <td>White</td>\n",
       "      <td>Male</td>\n",
       "      <td>40</td>\n",
       "      <td>United-States</td>\n",
       "      <td>&lt;=50K</td>\n",
       "    </tr>\n",
       "    <tr>\n",
       "      <th>2</th>\n",
       "      <td>38</td>\n",
       "      <td>Private</td>\n",
       "      <td>HS-grad</td>\n",
       "      <td>Divorced</td>\n",
       "      <td>Handlers-cleaners</td>\n",
       "      <td>Not-in-family</td>\n",
       "      <td>White</td>\n",
       "      <td>Male</td>\n",
       "      <td>40</td>\n",
       "      <td>United-States</td>\n",
       "      <td>&lt;=50K</td>\n",
       "    </tr>\n",
       "    <tr>\n",
       "      <th>3</th>\n",
       "      <td>53</td>\n",
       "      <td>Private</td>\n",
       "      <td>11th</td>\n",
       "      <td>Married-civ-spouse</td>\n",
       "      <td>Handlers-cleaners</td>\n",
       "      <td>Husband</td>\n",
       "      <td>Black</td>\n",
       "      <td>Male</td>\n",
       "      <td>40</td>\n",
       "      <td>United-States</td>\n",
       "      <td>&lt;=50K</td>\n",
       "    </tr>\n",
       "    <tr>\n",
       "      <th>4</th>\n",
       "      <td>28</td>\n",
       "      <td>Private</td>\n",
       "      <td>Bachelors</td>\n",
       "      <td>Married-civ-spouse</td>\n",
       "      <td>Prof-specialty</td>\n",
       "      <td>Wife</td>\n",
       "      <td>Black</td>\n",
       "      <td>Female</td>\n",
       "      <td>40</td>\n",
       "      <td>Cuba</td>\n",
       "      <td>&lt;=50K</td>\n",
       "    </tr>\n",
       "    <tr>\n",
       "      <th>5</th>\n",
       "      <td>37</td>\n",
       "      <td>Private</td>\n",
       "      <td>Masters</td>\n",
       "      <td>Married-civ-spouse</td>\n",
       "      <td>Exec-managerial</td>\n",
       "      <td>Wife</td>\n",
       "      <td>White</td>\n",
       "      <td>Female</td>\n",
       "      <td>40</td>\n",
       "      <td>United-States</td>\n",
       "      <td>&lt;=50K</td>\n",
       "    </tr>\n",
       "  </tbody>\n",
       "</table>\n",
       "</div>"
      ],
      "text/plain": [
       "   age  workclass  education      marital-status         occupation  \\\n",
       "0   39  State-gov  Bachelors       Never-married       Adm-clerical   \n",
       "2   38    Private    HS-grad            Divorced  Handlers-cleaners   \n",
       "3   53    Private       11th  Married-civ-spouse  Handlers-cleaners   \n",
       "4   28    Private  Bachelors  Married-civ-spouse     Prof-specialty   \n",
       "5   37    Private    Masters  Married-civ-spouse    Exec-managerial   \n",
       "\n",
       "    relationship   race     sex  hours-per-week native-country salary  \n",
       "0  Not-in-family  White    Male              40  United-States  <=50K  \n",
       "2  Not-in-family  White    Male              40  United-States  <=50K  \n",
       "3        Husband  Black    Male              40  United-States  <=50K  \n",
       "4           Wife  Black  Female              40           Cuba  <=50K  \n",
       "5           Wife  White  Female              40  United-States  <=50K  "
      ]
     },
     "execution_count": 39,
     "metadata": {},
     "output_type": "execute_result"
    }
   ],
   "source": [
    "data.drop(['capital-gain','capital-loss','education-num'], axis = 1,inplace = True)\n",
    "data.head()"
   ]
  },
  {
   "cell_type": "code",
   "execution_count": 40,
   "metadata": {
    "colab": {
     "base_uri": "https://localhost:8080/"
    },
    "id": "36bCbrHosn9T",
    "outputId": "f2977c49-6192-4294-c962-97403164c403"
   },
   "outputs": [
    {
     "data": {
      "text/plain": [
       "(20468, 11)"
      ]
     },
     "execution_count": 40,
     "metadata": {},
     "output_type": "execute_result"
    }
   ],
   "source": [
    "data.shape"
   ]
  },
  {
   "cell_type": "markdown",
   "metadata": {
    "id": "RUDYa3Sqsn9U"
   },
   "source": [
    "Now, we need to convert the categorical values to numeric for modeling. Looking at the Marital-status col, there are nearly 6 different values which would mean the same as two values of being married ot no married, therefore we convert them into only two values."
   ]
  },
  {
   "cell_type": "code",
   "execution_count": 41,
   "metadata": {
    "id": "2vmqPtHfsn9U"
   },
   "outputs": [],
   "source": [
    "data.replace(['Divorced', 'Married-AF-spouse', 'Married-civ-spouse', 'Married-spouse-absent','Never-married','Separated','Widowed'],\n",
    "             ['divorced','married','married','married','not married','not married','not married'], inplace = True)"
   ]
  },
  {
   "cell_type": "code",
   "execution_count": 42,
   "metadata": {
    "colab": {
     "base_uri": "https://localhost:8080/"
    },
    "id": "7k4ooLznsn9V",
    "outputId": "9941a510-99d8-41de-a8d1-c5a7284772c3"
   },
   "outputs": [
    {
     "data": {
      "text/plain": [
       "married        9946\n",
       "not married    7246\n",
       "divorced       3276\n",
       "Name: marital-status, dtype: int64"
      ]
     },
     "execution_count": 42,
     "metadata": {},
     "output_type": "execute_result"
    }
   ],
   "source": [
    "data['marital-status'].value_counts()"
   ]
  },
  {
   "cell_type": "markdown",
   "metadata": {
    "id": "BgL5CV3Csn9V"
   },
   "source": [
    "Before we do further analysis, we will separate the data as numeric and categorical so that our analysis becomes easy."
   ]
  },
  {
   "cell_type": "markdown",
   "metadata": {
    "id": "ioZGSblxsn9d"
   },
   "source": [
    "## 7. Feature Engineering"
   ]
  },
  {
   "cell_type": "code",
   "execution_count": 43,
   "metadata": {
    "id": "z8o7UZEYsn9d"
   },
   "outputs": [],
   "source": [
    "# education Category\n",
    "data.education= data.education.replace(['Preschool', '1st-4th', '5th-6th', '7th-8th', '9th','10th', '11th', '12th'], 'school')\n",
    "data.education = data.education.replace('HS-grad', 'high school')\n",
    "data.education = data.education.replace(['Assoc-voc', 'Assoc-acdm', 'Prof-school', 'Some-college'], 'higher')\n",
    "data.education = data.education.replace('Bachelors', 'undergrad')\n",
    "data.education = data.education.replace('Masters', 'grad')\n",
    "data.education = data.education.replace('Doctorate', 'doc')"
   ]
  },
  {
   "cell_type": "code",
   "execution_count": 44,
   "metadata": {
    "id": "z1Jcuxprsn9e"
   },
   "outputs": [],
   "source": [
    "# Salary\n",
    "data.Salary = data.salary.replace('<=50K', 0)\n",
    "data.Salary = data.salary.replace('>50K', 1)"
   ]
  },
  {
   "cell_type": "code",
   "execution_count": 45,
   "metadata": {
    "colab": {
     "base_uri": "https://localhost:8080/",
     "height": 175
    },
    "id": "oxAzvDHGsn9e",
    "outputId": "6d3f1cd9-bf88-49df-c7df-e22f136f1ea0",
    "scrolled": true
   },
   "outputs": [
    {
     "data": {
      "text/html": [
       "<div>\n",
       "<style scoped>\n",
       "    .dataframe tbody tr th:only-of-type {\n",
       "        vertical-align: middle;\n",
       "    }\n",
       "\n",
       "    .dataframe tbody tr th {\n",
       "        vertical-align: top;\n",
       "    }\n",
       "\n",
       "    .dataframe thead th {\n",
       "        text-align: right;\n",
       "    }\n",
       "</style>\n",
       "<table border=\"1\" class=\"dataframe\">\n",
       "  <thead>\n",
       "    <tr style=\"text-align: right;\">\n",
       "      <th></th>\n",
       "      <th>age</th>\n",
       "      <th>hours-per-week</th>\n",
       "    </tr>\n",
       "  </thead>\n",
       "  <tbody>\n",
       "    <tr>\n",
       "      <th>age</th>\n",
       "      <td>1.000000</td>\n",
       "      <td>0.036539</td>\n",
       "    </tr>\n",
       "    <tr>\n",
       "      <th>hours-per-week</th>\n",
       "      <td>0.036539</td>\n",
       "      <td>1.000000</td>\n",
       "    </tr>\n",
       "  </tbody>\n",
       "</table>\n",
       "</div>"
      ],
      "text/plain": [
       "                     age  hours-per-week\n",
       "age             1.000000        0.036539\n",
       "hours-per-week  0.036539        1.000000"
      ]
     },
     "execution_count": 45,
     "metadata": {},
     "output_type": "execute_result"
    }
   ],
   "source": [
    "data.corr()"
   ]
  },
  {
   "cell_type": "code",
   "execution_count": 46,
   "metadata": {
    "id": "bi2a0ax-sn9f"
   },
   "outputs": [],
   "source": [
    "# Salary\n",
    "data.Salary = data.Salary.replace( 0,'<=50K')\n",
    "data.Salary = data.Salary.replace( 1,'>50K')"
   ]
  },
  {
   "cell_type": "code",
   "execution_count": 47,
   "metadata": {
    "colab": {
     "base_uri": "https://localhost:8080/"
    },
    "id": "yMzL5Cx2sn9g",
    "outputId": "d7f5dd45-89cf-48ec-c5f5-cc100f4af32c",
    "scrolled": true
   },
   "outputs": [
    {
     "data": {
      "text/plain": [
       "<=50K    15092\n",
       ">50K      5376\n",
       "Name: salary, dtype: int64"
      ]
     },
     "execution_count": 47,
     "metadata": {},
     "output_type": "execute_result"
    }
   ],
   "source": [
    "data['salary'].value_counts()"
   ]
  },
  {
   "cell_type": "markdown",
   "metadata": {},
   "source": [
    "Dataset is unbalanced type"
   ]
  },
  {
   "cell_type": "code",
   "execution_count": 48,
   "metadata": {
    "id": "NwWkCCu9sn9h"
   },
   "outputs": [],
   "source": [
    "#Covert workclass Columns Datatype To Category Datatype\n",
    "data['workclass'] = data['workclass'].astype('category')"
   ]
  },
  {
   "cell_type": "markdown",
   "metadata": {
    "id": "Orkm51i_sn9l"
   },
   "source": [
    "### 8.Label Encoding"
   ]
  },
  {
   "cell_type": "code",
   "execution_count": 49,
   "metadata": {
    "id": "zthkwyR8sn9l"
   },
   "outputs": [
    {
     "data": {
      "text/html": [
       "<div>\n",
       "<style scoped>\n",
       "    .dataframe tbody tr th:only-of-type {\n",
       "        vertical-align: middle;\n",
       "    }\n",
       "\n",
       "    .dataframe tbody tr th {\n",
       "        vertical-align: top;\n",
       "    }\n",
       "\n",
       "    .dataframe thead th {\n",
       "        text-align: right;\n",
       "    }\n",
       "</style>\n",
       "<table border=\"1\" class=\"dataframe\">\n",
       "  <thead>\n",
       "    <tr style=\"text-align: right;\">\n",
       "      <th></th>\n",
       "      <th>age</th>\n",
       "      <th>workclass</th>\n",
       "      <th>education</th>\n",
       "      <th>marital-status</th>\n",
       "      <th>occupation</th>\n",
       "      <th>relationship</th>\n",
       "      <th>race</th>\n",
       "      <th>sex</th>\n",
       "      <th>hours-per-week</th>\n",
       "      <th>native-country</th>\n",
       "      <th>salary</th>\n",
       "    </tr>\n",
       "  </thead>\n",
       "  <tbody>\n",
       "    <tr>\n",
       "      <th>0</th>\n",
       "      <td>39</td>\n",
       "      <td>6</td>\n",
       "      <td>5</td>\n",
       "      <td>2</td>\n",
       "      <td>0</td>\n",
       "      <td>1</td>\n",
       "      <td>4</td>\n",
       "      <td>1</td>\n",
       "      <td>40</td>\n",
       "      <td>38</td>\n",
       "      <td>&lt;=50K</td>\n",
       "    </tr>\n",
       "    <tr>\n",
       "      <th>2</th>\n",
       "      <td>38</td>\n",
       "      <td>3</td>\n",
       "      <td>2</td>\n",
       "      <td>0</td>\n",
       "      <td>5</td>\n",
       "      <td>1</td>\n",
       "      <td>4</td>\n",
       "      <td>1</td>\n",
       "      <td>40</td>\n",
       "      <td>38</td>\n",
       "      <td>&lt;=50K</td>\n",
       "    </tr>\n",
       "    <tr>\n",
       "      <th>3</th>\n",
       "      <td>53</td>\n",
       "      <td>3</td>\n",
       "      <td>4</td>\n",
       "      <td>1</td>\n",
       "      <td>5</td>\n",
       "      <td>0</td>\n",
       "      <td>2</td>\n",
       "      <td>1</td>\n",
       "      <td>40</td>\n",
       "      <td>38</td>\n",
       "      <td>&lt;=50K</td>\n",
       "    </tr>\n",
       "    <tr>\n",
       "      <th>4</th>\n",
       "      <td>28</td>\n",
       "      <td>3</td>\n",
       "      <td>5</td>\n",
       "      <td>1</td>\n",
       "      <td>9</td>\n",
       "      <td>5</td>\n",
       "      <td>2</td>\n",
       "      <td>0</td>\n",
       "      <td>40</td>\n",
       "      <td>4</td>\n",
       "      <td>&lt;=50K</td>\n",
       "    </tr>\n",
       "    <tr>\n",
       "      <th>5</th>\n",
       "      <td>37</td>\n",
       "      <td>3</td>\n",
       "      <td>1</td>\n",
       "      <td>1</td>\n",
       "      <td>3</td>\n",
       "      <td>5</td>\n",
       "      <td>4</td>\n",
       "      <td>0</td>\n",
       "      <td>40</td>\n",
       "      <td>38</td>\n",
       "      <td>&lt;=50K</td>\n",
       "    </tr>\n",
       "  </tbody>\n",
       "</table>\n",
       "</div>"
      ],
      "text/plain": [
       "   age  workclass  education  marital-status  occupation  relationship  race  \\\n",
       "0   39          6          5               2           0             1     4   \n",
       "2   38          3          2               0           5             1     4   \n",
       "3   53          3          4               1           5             0     2   \n",
       "4   28          3          5               1           9             5     2   \n",
       "5   37          3          1               1           3             5     4   \n",
       "\n",
       "   sex  hours-per-week  native-country salary  \n",
       "0    1              40              38  <=50K  \n",
       "2    1              40              38  <=50K  \n",
       "3    1              40              38  <=50K  \n",
       "4    0              40               4  <=50K  \n",
       "5    0              40              38  <=50K  "
      ]
     },
     "execution_count": 49,
     "metadata": {},
     "output_type": "execute_result"
    }
   ],
   "source": [
    "#apply label encoding\n",
    "from sklearn.preprocessing import LabelEncoder\n",
    "columns =[\"workclass\",\"education\",\"marital-status\",\"occupation\",\"relationship\",\"race\",\"sex\",\"native-country\"]\n",
    "label_encoder = LabelEncoder()\n",
    "for i in columns:\n",
    "    data[i]=label_encoder.fit_transform(data[i])\n",
    "data.head()"
   ]
  },
  {
   "cell_type": "code",
   "execution_count": 50,
   "metadata": {
    "colab": {
     "base_uri": "https://localhost:8080/",
     "height": 288
    },
    "id": "PXLJ01uhsn9l",
    "outputId": "33f40aa8-ac96-4f0b-bb10-3b4f6311cde2"
   },
   "outputs": [
    {
     "data": {
      "text/html": [
       "<div>\n",
       "<style scoped>\n",
       "    .dataframe tbody tr th:only-of-type {\n",
       "        vertical-align: middle;\n",
       "    }\n",
       "\n",
       "    .dataframe tbody tr th {\n",
       "        vertical-align: top;\n",
       "    }\n",
       "\n",
       "    .dataframe thead th {\n",
       "        text-align: right;\n",
       "    }\n",
       "</style>\n",
       "<table border=\"1\" class=\"dataframe\">\n",
       "  <thead>\n",
       "    <tr style=\"text-align: right;\">\n",
       "      <th></th>\n",
       "      <th>age</th>\n",
       "      <th>workclass</th>\n",
       "      <th>education</th>\n",
       "      <th>marital-status</th>\n",
       "      <th>occupation</th>\n",
       "      <th>relationship</th>\n",
       "      <th>race</th>\n",
       "      <th>sex</th>\n",
       "      <th>hours-per-week</th>\n",
       "      <th>native-country</th>\n",
       "      <th>salary</th>\n",
       "    </tr>\n",
       "  </thead>\n",
       "  <tbody>\n",
       "    <tr>\n",
       "      <th>0</th>\n",
       "      <td>39</td>\n",
       "      <td>6</td>\n",
       "      <td>5</td>\n",
       "      <td>2</td>\n",
       "      <td>0</td>\n",
       "      <td>1</td>\n",
       "      <td>4</td>\n",
       "      <td>1</td>\n",
       "      <td>40</td>\n",
       "      <td>38</td>\n",
       "      <td>&lt;=50K</td>\n",
       "    </tr>\n",
       "    <tr>\n",
       "      <th>2</th>\n",
       "      <td>38</td>\n",
       "      <td>3</td>\n",
       "      <td>2</td>\n",
       "      <td>0</td>\n",
       "      <td>5</td>\n",
       "      <td>1</td>\n",
       "      <td>4</td>\n",
       "      <td>1</td>\n",
       "      <td>40</td>\n",
       "      <td>38</td>\n",
       "      <td>&lt;=50K</td>\n",
       "    </tr>\n",
       "    <tr>\n",
       "      <th>3</th>\n",
       "      <td>53</td>\n",
       "      <td>3</td>\n",
       "      <td>4</td>\n",
       "      <td>1</td>\n",
       "      <td>5</td>\n",
       "      <td>0</td>\n",
       "      <td>2</td>\n",
       "      <td>1</td>\n",
       "      <td>40</td>\n",
       "      <td>38</td>\n",
       "      <td>&lt;=50K</td>\n",
       "    </tr>\n",
       "    <tr>\n",
       "      <th>4</th>\n",
       "      <td>28</td>\n",
       "      <td>3</td>\n",
       "      <td>5</td>\n",
       "      <td>1</td>\n",
       "      <td>9</td>\n",
       "      <td>5</td>\n",
       "      <td>2</td>\n",
       "      <td>0</td>\n",
       "      <td>40</td>\n",
       "      <td>4</td>\n",
       "      <td>&lt;=50K</td>\n",
       "    </tr>\n",
       "    <tr>\n",
       "      <th>5</th>\n",
       "      <td>37</td>\n",
       "      <td>3</td>\n",
       "      <td>1</td>\n",
       "      <td>1</td>\n",
       "      <td>3</td>\n",
       "      <td>5</td>\n",
       "      <td>4</td>\n",
       "      <td>0</td>\n",
       "      <td>40</td>\n",
       "      <td>38</td>\n",
       "      <td>&lt;=50K</td>\n",
       "    </tr>\n",
       "  </tbody>\n",
       "</table>\n",
       "</div>"
      ],
      "text/plain": [
       "   age  workclass  education  marital-status  occupation  relationship  race  \\\n",
       "0   39          6          5               2           0             1     4   \n",
       "2   38          3          2               0           5             1     4   \n",
       "3   53          3          4               1           5             0     2   \n",
       "4   28          3          5               1           9             5     2   \n",
       "5   37          3          1               1           3             5     4   \n",
       "\n",
       "   sex  hours-per-week  native-country salary  \n",
       "0    1              40              38  <=50K  \n",
       "2    1              40              38  <=50K  \n",
       "3    1              40              38  <=50K  \n",
       "4    0              40               4  <=50K  \n",
       "5    0              40              38  <=50K  "
      ]
     },
     "execution_count": 50,
     "metadata": {},
     "output_type": "execute_result"
    }
   ],
   "source": [
    "data.head()"
   ]
  },
  {
   "cell_type": "code",
   "execution_count": 51,
   "metadata": {},
   "outputs": [
    {
     "data": {
      "text/html": [
       "<div>\n",
       "<style scoped>\n",
       "    .dataframe tbody tr th:only-of-type {\n",
       "        vertical-align: middle;\n",
       "    }\n",
       "\n",
       "    .dataframe tbody tr th {\n",
       "        vertical-align: top;\n",
       "    }\n",
       "\n",
       "    .dataframe thead th {\n",
       "        text-align: right;\n",
       "    }\n",
       "</style>\n",
       "<table border=\"1\" class=\"dataframe\">\n",
       "  <thead>\n",
       "    <tr style=\"text-align: right;\">\n",
       "      <th></th>\n",
       "      <th>age</th>\n",
       "      <th>workclass</th>\n",
       "      <th>education</th>\n",
       "      <th>marital-status</th>\n",
       "      <th>occupation</th>\n",
       "      <th>relationship</th>\n",
       "      <th>race</th>\n",
       "      <th>sex</th>\n",
       "      <th>hours-per-week</th>\n",
       "      <th>native-country</th>\n",
       "    </tr>\n",
       "  </thead>\n",
       "  <tbody>\n",
       "    <tr>\n",
       "      <th>0</th>\n",
       "      <td>39</td>\n",
       "      <td>6</td>\n",
       "      <td>5</td>\n",
       "      <td>2</td>\n",
       "      <td>0</td>\n",
       "      <td>1</td>\n",
       "      <td>4</td>\n",
       "      <td>1</td>\n",
       "      <td>40</td>\n",
       "      <td>38</td>\n",
       "    </tr>\n",
       "    <tr>\n",
       "      <th>2</th>\n",
       "      <td>38</td>\n",
       "      <td>3</td>\n",
       "      <td>2</td>\n",
       "      <td>0</td>\n",
       "      <td>5</td>\n",
       "      <td>1</td>\n",
       "      <td>4</td>\n",
       "      <td>1</td>\n",
       "      <td>40</td>\n",
       "      <td>38</td>\n",
       "    </tr>\n",
       "    <tr>\n",
       "      <th>3</th>\n",
       "      <td>53</td>\n",
       "      <td>3</td>\n",
       "      <td>4</td>\n",
       "      <td>1</td>\n",
       "      <td>5</td>\n",
       "      <td>0</td>\n",
       "      <td>2</td>\n",
       "      <td>1</td>\n",
       "      <td>40</td>\n",
       "      <td>38</td>\n",
       "    </tr>\n",
       "    <tr>\n",
       "      <th>4</th>\n",
       "      <td>28</td>\n",
       "      <td>3</td>\n",
       "      <td>5</td>\n",
       "      <td>1</td>\n",
       "      <td>9</td>\n",
       "      <td>5</td>\n",
       "      <td>2</td>\n",
       "      <td>0</td>\n",
       "      <td>40</td>\n",
       "      <td>4</td>\n",
       "    </tr>\n",
       "    <tr>\n",
       "      <th>5</th>\n",
       "      <td>37</td>\n",
       "      <td>3</td>\n",
       "      <td>1</td>\n",
       "      <td>1</td>\n",
       "      <td>3</td>\n",
       "      <td>5</td>\n",
       "      <td>4</td>\n",
       "      <td>0</td>\n",
       "      <td>40</td>\n",
       "      <td>38</td>\n",
       "    </tr>\n",
       "  </tbody>\n",
       "</table>\n",
       "</div>"
      ],
      "text/plain": [
       "   age  workclass  education  marital-status  occupation  relationship  race  \\\n",
       "0   39          6          5               2           0             1     4   \n",
       "2   38          3          2               0           5             1     4   \n",
       "3   53          3          4               1           5             0     2   \n",
       "4   28          3          5               1           9             5     2   \n",
       "5   37          3          1               1           3             5     4   \n",
       "\n",
       "   sex  hours-per-week  native-country  \n",
       "0    1              40              38  \n",
       "2    1              40              38  \n",
       "3    1              40              38  \n",
       "4    0              40               4  \n",
       "5    0              40              38  "
      ]
     },
     "execution_count": 51,
     "metadata": {},
     "output_type": "execute_result"
    }
   ],
   "source": [
    "#Moved the salary column to another variable\n",
    "target_salary = data.pop('salary')\n",
    "data.head()"
   ]
  },
  {
   "cell_type": "markdown",
   "metadata": {
    "id": "GhMAyYEksn9m"
   },
   "source": [
    "# Models"
   ]
  },
  {
   "cell_type": "markdown",
   "metadata": {},
   "source": [
    "# 1.Logistic regression"
   ]
  },
  {
   "cell_type": "code",
   "execution_count": 52,
   "metadata": {},
   "outputs": [
    {
     "data": {
      "text/plain": [
       "LogisticRegression()"
      ]
     },
     "execution_count": 52,
     "metadata": {},
     "output_type": "execute_result"
    }
   ],
   "source": [
    "x_train, x_test, y_train, y_test = train_test_split(data, target_salary,test_size=0.2, random_state=42)\n",
    "\n",
    "clf = LogisticRegression().fit(x_train,y_train)\n",
    "clf"
   ]
  },
  {
   "cell_type": "code",
   "execution_count": 53,
   "metadata": {},
   "outputs": [
    {
     "data": {
      "text/plain": [
       "0.73961895456766"
      ]
     },
     "execution_count": 53,
     "metadata": {},
     "output_type": "execute_result"
    }
   ],
   "source": [
    "clf.score(x_test,y_test)"
   ]
  },
  {
   "cell_type": "code",
   "execution_count": 54,
   "metadata": {},
   "outputs": [
    {
     "name": "stdout",
     "output_type": "stream",
     "text": [
      "              precision    recall  f1-score   support\n",
      "\n",
      "       <=50K       0.76      0.95      0.84      3021\n",
      "        >50K       0.51      0.15      0.24      1073\n",
      "\n",
      "    accuracy                           0.74      4094\n",
      "   macro avg       0.63      0.55      0.54      4094\n",
      "weighted avg       0.69      0.74      0.68      4094\n",
      "\n"
     ]
    }
   ],
   "source": [
    "print(classification_report(y_test, clf.predict(x_test)))"
   ]
  },
  {
   "cell_type": "code",
   "execution_count": 55,
   "metadata": {},
   "outputs": [
    {
     "name": "stdout",
     "output_type": "stream",
     "text": [
      "Accuracy for Logistic Regression is 0.7396\n",
      "Precision for Logistic Regression is 0.635\n",
      "Recall for Logistic Regression is 0.5504\n",
      "F1-Score for Logistic Regression is 0.5392\n"
     ]
    }
   ],
   "source": [
    "print(\"Accuracy for Logistic Regression is\",round(accuracy_score(y_test,clf.predict(x_test)),4))\n",
    "print(\"Precision for Logistic Regression is\",round(precision_score(y_test,clf.predict(x_test),average='macro'),4))\n",
    "print(\"Recall for Logistic Regression is\",round(recall_score(y_test,clf.predict(x_test),average='macro'),4))\n",
    "print(\"F1-Score for Logistic Regression is\",round(f1_score(y_test,clf.predict(x_test),average='macro'),4))"
   ]
  },
  {
   "cell_type": "code",
   "execution_count": 56,
   "metadata": {},
   "outputs": [],
   "source": [
    "y_pred1 = clf.predict(x_test)"
   ]
  },
  {
   "cell_type": "markdown",
   "metadata": {},
   "source": [
    "# 2. SVM"
   ]
  },
  {
   "cell_type": "code",
   "execution_count": 57,
   "metadata": {},
   "outputs": [
    {
     "name": "stdout",
     "output_type": "stream",
     "text": [
      "Accuracy on training data is: 0.7372053255160621\n",
      "Accuracy is: 0.7379091353199805\n",
      "Precision is: 0.5445098919886812\n",
      "Recall is: 0.7379091353199805\n",
      "f1 score is: 0.6266264224319497\n",
      "              precision    recall  f1-score   support\n",
      "\n",
      "       <=50K       0.74      1.00      0.85      3021\n",
      "        >50K       0.00      0.00      0.00      1073\n",
      "\n",
      "    accuracy                           0.74      4094\n",
      "   macro avg       0.37      0.50      0.42      4094\n",
      "weighted avg       0.54      0.74      0.63      4094\n",
      "\n",
      "[[3021    0]\n",
      " [1073    0]]\n"
     ]
    }
   ],
   "source": [
    "from sklearn.svm import SVC\n",
    "svc=SVC(kernel='linear')\n",
    "svc.fit(x_train,y_train)\n",
    "y_pred=svc.predict(x_test)\n",
    "print('Accuracy on training data is:',svc.score(x_train,y_train))\n",
    "print('Accuracy is:',accuracy_score(y_test,y_pred))\n",
    "print('Precision is:',precision_score(y_test,y_pred,average='weighted'))\n",
    "print('Recall is:',recall_score(y_test,y_pred,average='weighted'))\n",
    "print('f1 score is:',f1_score(y_test,y_pred,average='weighted'))\n",
    "print(classification_report(y_test,y_pred))\n",
    "print(confusion_matrix(y_test,y_pred))"
   ]
  },
  {
   "cell_type": "markdown",
   "metadata": {},
   "source": [
    "# 3.kNN"
   ]
  },
  {
   "cell_type": "code",
   "execution_count": 58,
   "metadata": {},
   "outputs": [],
   "source": [
    "from sklearn.neighbors import KNeighborsClassifier\n",
    "acc_values=[]\n",
    "n_neighbors=np.arange(2,18)\n",
    "for i in n_neighbors:\n",
    "  knn_model=KNeighborsClassifier(n_neighbors=i,metric='minkowski')\n",
    "  knn_model.fit(x_train,y_train)\n",
    "  y_pred=knn_model.predict(x_test)\n",
    "  acc=accuracy_score(y_test,y_pred)\n",
    "  acc_values.append(acc)"
   ]
  },
  {
   "cell_type": "code",
   "execution_count": 59,
   "metadata": {},
   "outputs": [
    {
     "data": {
      "text/plain": [
       "Text(0, 0.5, 'Accuracy values')"
      ]
     },
     "execution_count": 59,
     "metadata": {},
     "output_type": "execute_result"
    },
    {
     "data": {
      "image/png": "[encoded data removed]",
      "text/plain": [
       "<Figure size 1080x720 with 1 Axes>"
      ]
     },
     "metadata": {
      "needs_background": "light"
     },
     "output_type": "display_data"
    }
   ],
   "source": [
    "plt.plot(n_neighbors,acc_values,'o-')\n",
    "plt.xlabel('Number of Neighbors')\n",
    "plt.ylabel('Accuracy values')"
   ]
  },
  {
   "cell_type": "code",
   "execution_count": 60,
   "metadata": {},
   "outputs": [
    {
     "name": "stdout",
     "output_type": "stream",
     "text": [
      "Accuracy on training data is: 0.8056675216807133\n",
      "Accuracy is: 0.7594040058622374\n",
      "Precision is: 0.7360759202748519\n",
      "Recall is: 0.7594040058622374\n",
      "f1 score is: 0.7381571185558445\n",
      "              precision    recall  f1-score   support\n",
      "\n",
      "       <=50K       0.80      0.91      0.85      3021\n",
      "        >50K       0.57      0.35      0.43      1073\n",
      "\n",
      "    accuracy                           0.76      4094\n",
      "   macro avg       0.68      0.63      0.64      4094\n",
      "weighted avg       0.74      0.76      0.74      4094\n",
      "\n",
      "[[2737  284]\n",
      " [ 701  372]]\n"
     ]
    }
   ],
   "source": [
    "knn_model=KNeighborsClassifier(n_neighbors=10,metric='minkowski')\n",
    "knn_model.fit(x_train,y_train)\n",
    "y_pred=knn_model.predict(x_test)\n",
    "print('Accuracy on training data is:',knn_model.score(x_train,y_train))\n",
    "print('Accuracy is:',accuracy_score(y_test,y_pred))\n",
    "print('Precision is:',precision_score(y_test,y_pred,average='weighted'))\n",
    "print('Recall is:',recall_score(y_test,y_pred,average='weighted'))\n",
    "print('f1 score is:',f1_score(y_test,y_pred,average='weighted'))\n",
    "print(classification_report(y_test,y_pred))\n",
    "print(confusion_matrix(y_test,y_pred))"
   ]
  },
  {
   "cell_type": "markdown",
   "metadata": {},
   "source": [
    "# 4.Decision tree"
   ]
  },
  {
   "cell_type": "code",
   "execution_count": 61,
   "metadata": {},
   "outputs": [
    {
     "name": "stdout",
     "output_type": "stream",
     "text": [
      "Accuracy on training data is: 0.9601807743984365\n",
      "Accuracy is: 0.7427943331704934\n",
      "Precision is: 0.7375951234641024\n",
      "Recall is: 0.7427943331704934\n",
      "f1 score is: 0.7399740887964001\n",
      "              precision    recall  f1-score   support\n",
      "\n",
      "       <=50K       0.82      0.84      0.83      3021\n",
      "        >50K       0.51      0.48      0.49      1073\n",
      "\n",
      "    accuracy                           0.74      4094\n",
      "   macro avg       0.66      0.66      0.66      4094\n",
      "weighted avg       0.74      0.74      0.74      4094\n",
      "\n",
      "[[2529  492]\n",
      " [ 561  512]]\n"
     ]
    }
   ],
   "source": [
    "from sklearn.tree import DecisionTreeClassifier\n",
    "dt_model=DecisionTreeClassifier()\n",
    "dt_model.fit(x_train,y_train)\n",
    "y_pred=dt_model.predict(x_test)\n",
    "print('Accuracy on training data is:',dt_model.score(x_train,y_train))\n",
    "print('Accuracy is:',accuracy_score(y_test,y_pred))\n",
    "print('Precision is:',precision_score(y_test,y_pred,average='weighted'))\n",
    "print('Recall is:',recall_score(y_test,y_pred,average='weighted'))\n",
    "print('f1 score is:',f1_score(y_test,y_pred,average='weighted'))\n",
    "print(classification_report(y_test,y_pred))\n",
    "print(confusion_matrix(y_test,y_pred))"
   ]
  },
  {
   "cell_type": "markdown",
   "metadata": {},
   "source": [
    "# 5.Random forest "
   ]
  },
  {
   "cell_type": "code",
   "execution_count": 62,
   "metadata": {},
   "outputs": [
    {
     "name": "stdout",
     "output_type": "stream",
     "text": [
      "Accuracy on training data is: 0.9601807743984365\n",
      "Accuracy is: 0.7804103566194431\n",
      "Precision is: 0.7722779169431007\n",
      "Recall is: 0.7804103566194431\n",
      "f1 score is: 0.7753574607551019\n",
      "              precision    recall  f1-score   support\n",
      "\n",
      "       <=50K       0.84      0.87      0.85      3021\n",
      "        >50K       0.59      0.52      0.55      1073\n",
      "\n",
      "    accuracy                           0.78      4094\n",
      "   macro avg       0.71      0.70      0.70      4094\n",
      "weighted avg       0.77      0.78      0.78      4094\n",
      "\n",
      "[[2640  381]\n",
      " [ 518  555]]\n"
     ]
    }
   ],
   "source": [
    "from sklearn.ensemble import RandomForestClassifier\n",
    "rf_model=RandomForestClassifier()\n",
    "rf_model.fit(x_train,y_train)\n",
    "y_pred=rf_model.predict(x_test)\n",
    "print('Accuracy on training data is:',rf_model.score(x_train,y_train))\n",
    "print('Accuracy is:',accuracy_score(y_test,y_pred))\n",
    "print('Precision is:',precision_score(y_test,y_pred,average='weighted'))\n",
    "print('Recall is:',recall_score(y_test,y_pred,average='weighted'))\n",
    "print('f1 score is:',f1_score(y_test,y_pred,average='weighted'))\n",
    "print(classification_report(y_test,y_pred))\n",
    "print(confusion_matrix(y_test,y_pred))"
   ]
  },
  {
   "cell_type": "markdown",
   "metadata": {},
   "source": [
    "# 6.Gradient Boost"
   ]
  },
  {
   "cell_type": "code",
   "execution_count": 63,
   "metadata": {},
   "outputs": [
    {
     "name": "stdout",
     "output_type": "stream",
     "text": [
      "Accuracy on training data is: 0.9601807743984365\n",
      "Accuracy is: 0.8229115779189057\n",
      "Precision is: 0.815303298284436\n",
      "Recall is: 0.8229115779189057\n",
      "f1 score is: 0.816757586785598\n",
      "              precision    recall  f1-score   support\n",
      "\n",
      "       <=50K       0.86      0.91      0.88      3021\n",
      "        >50K       0.70      0.57      0.63      1073\n",
      "\n",
      "    accuracy                           0.82      4094\n",
      "   macro avg       0.78      0.74      0.76      4094\n",
      "weighted avg       0.82      0.82      0.82      4094\n",
      "\n",
      "[[2757  264]\n",
      " [ 461  612]]\n"
     ]
    }
   ],
   "source": [
    "from sklearn.ensemble import GradientBoostingClassifier\n",
    "gb = GradientBoostingClassifier()\n",
    "gb.fit(x_train,y_train)\n",
    "y_pred = gb.predict(x_test)\n",
    "print('Accuracy on training data is:',rf_model.score(x_train,y_train))\n",
    "print('Accuracy is:',accuracy_score(y_test,y_pred))\n",
    "print('Precision is:',precision_score(y_test,y_pred,average='weighted'))\n",
    "print('Recall is:',recall_score(y_test,y_pred,average='weighted'))\n",
    "print('f1 score is:',f1_score(y_test,y_pred,average='weighted'))\n",
    "print(classification_report(y_test,y_pred))\n",
    "print(confusion_matrix(y_test,y_pred))"
   ]
  },
  {
   "cell_type": "markdown",
   "metadata": {},
   "source": [
    "# Naive bias"
   ]
  },
  {
   "cell_type": "code",
   "execution_count": 64,
   "metadata": {},
   "outputs": [
    {
     "name": "stdout",
     "output_type": "stream",
     "text": [
      "Accuracy on training data is: 0.9601807743984365\n",
      "Accuracy is: 0.7410845139228138\n",
      "Precision is: 0.762952711513866\n",
      "Recall is: 0.7410845139228138\n",
      "f1 score is: 0.7491540193603919\n",
      "              precision    recall  f1-score   support\n",
      "\n",
      "       <=50K       0.85      0.78      0.82      3021\n",
      "        >50K       0.50      0.63      0.56      1073\n",
      "\n",
      "    accuracy                           0.74      4094\n",
      "   macro avg       0.68      0.70      0.69      4094\n",
      "weighted avg       0.76      0.74      0.75      4094\n",
      "\n",
      "[[2363  658]\n",
      " [ 402  671]]\n"
     ]
    }
   ],
   "source": [
    "from sklearn.naive_bayes import GaussianNB\n",
    "#Create a Gaussian Classifier\n",
    "model = GaussianNB()\n",
    "gnb = model.fit(x_train,y_train)\n",
    "y_pred = gnb.predict(x_test)\n",
    "print('Accuracy on training data is:',rf_model.score(x_train,y_train))\n",
    "print('Accuracy is:',accuracy_score(y_test,y_pred))\n",
    "print('Precision is:',precision_score(y_test,y_pred,average='weighted'))\n",
    "print('Recall is:',recall_score(y_test,y_pred,average='weighted'))\n",
    "print('f1 score is:',f1_score(y_test,y_pred,average='weighted'))\n",
    "print(classification_report(y_test,y_pred))\n",
    "print(confusion_matrix(y_test,y_pred))"
   ]
  },
  {
   "cell_type": "code",
   "execution_count": 65,
   "metadata": {},
   "outputs": [],
   "source": [
    "data1=data"
   ]
  },
  {
   "cell_type": "code",
   "execution_count": 66,
   "metadata": {},
   "outputs": [
    {
     "data": {
      "text/html": [
       "<div>\n",
       "<style scoped>\n",
       "    .dataframe tbody tr th:only-of-type {\n",
       "        vertical-align: middle;\n",
       "    }\n",
       "\n",
       "    .dataframe tbody tr th {\n",
       "        vertical-align: top;\n",
       "    }\n",
       "\n",
       "    .dataframe thead th {\n",
       "        text-align: right;\n",
       "    }\n",
       "</style>\n",
       "<table border=\"1\" class=\"dataframe\">\n",
       "  <thead>\n",
       "    <tr style=\"text-align: right;\">\n",
       "      <th></th>\n",
       "      <th>age</th>\n",
       "      <th>workclass</th>\n",
       "      <th>education</th>\n",
       "      <th>marital-status</th>\n",
       "      <th>occupation</th>\n",
       "      <th>relationship</th>\n",
       "      <th>race</th>\n",
       "      <th>sex</th>\n",
       "      <th>hours-per-week</th>\n",
       "      <th>native-country</th>\n",
       "    </tr>\n",
       "  </thead>\n",
       "  <tbody>\n",
       "    <tr>\n",
       "      <th>0</th>\n",
       "      <td>39</td>\n",
       "      <td>6</td>\n",
       "      <td>5</td>\n",
       "      <td>2</td>\n",
       "      <td>0</td>\n",
       "      <td>1</td>\n",
       "      <td>4</td>\n",
       "      <td>1</td>\n",
       "      <td>40</td>\n",
       "      <td>38</td>\n",
       "    </tr>\n",
       "    <tr>\n",
       "      <th>2</th>\n",
       "      <td>38</td>\n",
       "      <td>3</td>\n",
       "      <td>2</td>\n",
       "      <td>0</td>\n",
       "      <td>5</td>\n",
       "      <td>1</td>\n",
       "      <td>4</td>\n",
       "      <td>1</td>\n",
       "      <td>40</td>\n",
       "      <td>38</td>\n",
       "    </tr>\n",
       "    <tr>\n",
       "      <th>3</th>\n",
       "      <td>53</td>\n",
       "      <td>3</td>\n",
       "      <td>4</td>\n",
       "      <td>1</td>\n",
       "      <td>5</td>\n",
       "      <td>0</td>\n",
       "      <td>2</td>\n",
       "      <td>1</td>\n",
       "      <td>40</td>\n",
       "      <td>38</td>\n",
       "    </tr>\n",
       "    <tr>\n",
       "      <th>4</th>\n",
       "      <td>28</td>\n",
       "      <td>3</td>\n",
       "      <td>5</td>\n",
       "      <td>1</td>\n",
       "      <td>9</td>\n",
       "      <td>5</td>\n",
       "      <td>2</td>\n",
       "      <td>0</td>\n",
       "      <td>40</td>\n",
       "      <td>4</td>\n",
       "    </tr>\n",
       "    <tr>\n",
       "      <th>5</th>\n",
       "      <td>37</td>\n",
       "      <td>3</td>\n",
       "      <td>1</td>\n",
       "      <td>1</td>\n",
       "      <td>3</td>\n",
       "      <td>5</td>\n",
       "      <td>4</td>\n",
       "      <td>0</td>\n",
       "      <td>40</td>\n",
       "      <td>38</td>\n",
       "    </tr>\n",
       "    <tr>\n",
       "      <th>...</th>\n",
       "      <td>...</td>\n",
       "      <td>...</td>\n",
       "      <td>...</td>\n",
       "      <td>...</td>\n",
       "      <td>...</td>\n",
       "      <td>...</td>\n",
       "      <td>...</td>\n",
       "      <td>...</td>\n",
       "      <td>...</td>\n",
       "      <td>...</td>\n",
       "    </tr>\n",
       "    <tr>\n",
       "      <th>32555</th>\n",
       "      <td>22</td>\n",
       "      <td>3</td>\n",
       "      <td>3</td>\n",
       "      <td>2</td>\n",
       "      <td>10</td>\n",
       "      <td>1</td>\n",
       "      <td>4</td>\n",
       "      <td>1</td>\n",
       "      <td>40</td>\n",
       "      <td>38</td>\n",
       "    </tr>\n",
       "    <tr>\n",
       "      <th>32556</th>\n",
       "      <td>27</td>\n",
       "      <td>3</td>\n",
       "      <td>3</td>\n",
       "      <td>1</td>\n",
       "      <td>12</td>\n",
       "      <td>5</td>\n",
       "      <td>4</td>\n",
       "      <td>0</td>\n",
       "      <td>38</td>\n",
       "      <td>38</td>\n",
       "    </tr>\n",
       "    <tr>\n",
       "      <th>32557</th>\n",
       "      <td>40</td>\n",
       "      <td>3</td>\n",
       "      <td>2</td>\n",
       "      <td>1</td>\n",
       "      <td>6</td>\n",
       "      <td>0</td>\n",
       "      <td>4</td>\n",
       "      <td>1</td>\n",
       "      <td>40</td>\n",
       "      <td>38</td>\n",
       "    </tr>\n",
       "    <tr>\n",
       "      <th>32558</th>\n",
       "      <td>58</td>\n",
       "      <td>3</td>\n",
       "      <td>2</td>\n",
       "      <td>2</td>\n",
       "      <td>0</td>\n",
       "      <td>4</td>\n",
       "      <td>4</td>\n",
       "      <td>0</td>\n",
       "      <td>40</td>\n",
       "      <td>38</td>\n",
       "    </tr>\n",
       "    <tr>\n",
       "      <th>32560</th>\n",
       "      <td>52</td>\n",
       "      <td>4</td>\n",
       "      <td>2</td>\n",
       "      <td>1</td>\n",
       "      <td>3</td>\n",
       "      <td>5</td>\n",
       "      <td>4</td>\n",
       "      <td>0</td>\n",
       "      <td>40</td>\n",
       "      <td>38</td>\n",
       "    </tr>\n",
       "  </tbody>\n",
       "</table>\n",
       "<p>20468 rows × 10 columns</p>\n",
       "</div>"
      ],
      "text/plain": [
       "       age  workclass  education  marital-status  occupation  relationship  \\\n",
       "0       39          6          5               2           0             1   \n",
       "2       38          3          2               0           5             1   \n",
       "3       53          3          4               1           5             0   \n",
       "4       28          3          5               1           9             5   \n",
       "5       37          3          1               1           3             5   \n",
       "...    ...        ...        ...             ...         ...           ...   \n",
       "32555   22          3          3               2          10             1   \n",
       "32556   27          3          3               1          12             5   \n",
       "32557   40          3          2               1           6             0   \n",
       "32558   58          3          2               2           0             4   \n",
       "32560   52          4          2               1           3             5   \n",
       "\n",
       "       race  sex  hours-per-week  native-country  \n",
       "0         4    1              40              38  \n",
       "2         4    1              40              38  \n",
       "3         2    1              40              38  \n",
       "4         2    0              40               4  \n",
       "5         4    0              40              38  \n",
       "...     ...  ...             ...             ...  \n",
       "32555     4    1              40              38  \n",
       "32556     4    0              38              38  \n",
       "32557     4    1              40              38  \n",
       "32558     4    0              40              38  \n",
       "32560     4    0              40              38  \n",
       "\n",
       "[20468 rows x 10 columns]"
      ]
     },
     "execution_count": 66,
     "metadata": {},
     "output_type": "execute_result"
    }
   ],
   "source": [
    "data1"
   ]
  },
  {
   "cell_type": "markdown",
   "metadata": {
    "id": "pGr2tbLTsn9n"
   },
   "source": [
    "# Standardisation"
   ]
  },
  {
   "cell_type": "code",
   "execution_count": 67,
   "metadata": {
    "id": "kPYhV6DQsn9n"
   },
   "outputs": [],
   "source": [
    "#since this is a binary classification we will use logistic reg\n",
    "\n",
    "#normalizing data\n",
    "scaler = StandardScaler()\n",
    "data1 = scaler.fit_transform(data.values)"
   ]
  },
  {
   "cell_type": "markdown",
   "metadata": {},
   "source": [
    "# Logistic Regression"
   ]
  },
  {
   "cell_type": "code",
   "execution_count": 68,
   "metadata": {
    "colab": {
     "base_uri": "https://localhost:8080/"
    },
    "id": "KLRSPaQ-sn9o",
    "outputId": "2ccd7f96-954d-43d7-b514-51475f44b690"
   },
   "outputs": [
    {
     "data": {
      "text/plain": [
       "LogisticRegression()"
      ]
     },
     "execution_count": 68,
     "metadata": {},
     "output_type": "execute_result"
    }
   ],
   "source": [
    "x_train, x_test, y_train, y_test = train_test_split(data1, target_salary,test_size=0.2, random_state=42)\n",
    "\n",
    "clf = LogisticRegression().fit(x_train,y_train)\n",
    "clf"
   ]
  },
  {
   "cell_type": "code",
   "execution_count": 69,
   "metadata": {
    "colab": {
     "base_uri": "https://localhost:8080/"
    },
    "id": "GV1itktesn9o",
    "outputId": "60930614-8dcb-4e43-f234-495dc4673455"
   },
   "outputs": [
    {
     "data": {
      "text/plain": [
       "0.7447484123106985"
      ]
     },
     "execution_count": 69,
     "metadata": {},
     "output_type": "execute_result"
    }
   ],
   "source": [
    "clf.score(x_test,y_test)"
   ]
  },
  {
   "cell_type": "code",
   "execution_count": 70,
   "metadata": {
    "colab": {
     "base_uri": "https://localhost:8080/"
    },
    "id": "ngY0TH70sn9p",
    "outputId": "87cbc8ac-cb1f-49ff-812c-cdb2f27a0768"
   },
   "outputs": [
    {
     "name": "stdout",
     "output_type": "stream",
     "text": [
      "              precision    recall  f1-score   support\n",
      "\n",
      "       <=50K       0.77      0.94      0.84      3021\n",
      "        >50K       0.53      0.20      0.30      1073\n",
      "\n",
      "    accuracy                           0.74      4094\n",
      "   macro avg       0.65      0.57      0.57      4094\n",
      "weighted avg       0.71      0.74      0.70      4094\n",
      "\n"
     ]
    }
   ],
   "source": [
    "print(classification_report(y_test, clf.predict(x_test)))"
   ]
  },
  {
   "cell_type": "code",
   "execution_count": 71,
   "metadata": {
    "colab": {
     "base_uri": "https://localhost:8080/"
    },
    "id": "cSYsal5Gsn9p",
    "outputId": "ec3ba61c-8568-476c-aa38-7350fa0519f3"
   },
   "outputs": [
    {
     "name": "stdout",
     "output_type": "stream",
     "text": [
      "Accuracy for Logistic Regression is 0.7447\n",
      "Precision for Logistic Regression is 0.6512\n",
      "Recall for Logistic Regression is 0.5704\n",
      "F1-Score for Logistic Regression is 0.5697\n"
     ]
    }
   ],
   "source": [
    "\n",
    "print(\"Accuracy for Logistic Regression is\",round(accuracy_score(y_test,clf.predict(x_test)),4))\n",
    "print(\"Precision for Logistic Regression is\",round(precision_score(y_test,clf.predict(x_test),average='macro'),4))\n",
    "print(\"Recall for Logistic Regression is\",round(recall_score(y_test,clf.predict(x_test),average='macro'),4))\n",
    "print(\"F1-Score for Logistic Regression is\",round(f1_score(y_test,clf.predict(x_test),average='macro'),4))"
   ]
  },
  {
   "cell_type": "code",
   "execution_count": 72,
   "metadata": {
    "id": "ythuksIOsn9p"
   },
   "outputs": [],
   "source": [
    "y_pred1 = clf.predict(x_test)"
   ]
  },
  {
   "cell_type": "markdown",
   "metadata": {
    "id": "uxTk1ZQhsn9q"
   },
   "source": [
    "### Support Vector Classifier"
   ]
  },
  {
   "cell_type": "code",
   "execution_count": 73,
   "metadata": {
    "colab": {
     "base_uri": "https://localhost:8080/"
    },
    "id": "nVt3SmI5sn9r",
    "outputId": "959767a9-a246-40d1-a51b-9a3be4c81d49"
   },
   "outputs": [
    {
     "name": "stdout",
     "output_type": "stream",
     "text": [
      "Accuracy on training data is: 0.7372053255160621\n",
      "Accuracy is: 0.7379091353199805\n",
      "Precision is: 0.5445098919886812\n",
      "Recall is: 0.7379091353199805\n",
      "f1 score is: 0.6266264224319497\n",
      "              precision    recall  f1-score   support\n",
      "\n",
      "       <=50K       0.74      1.00      0.85      3021\n",
      "        >50K       0.00      0.00      0.00      1073\n",
      "\n",
      "    accuracy                           0.74      4094\n",
      "   macro avg       0.37      0.50      0.42      4094\n",
      "weighted avg       0.54      0.74      0.63      4094\n",
      "\n",
      "[[3021    0]\n",
      " [1073    0]]\n"
     ]
    }
   ],
   "source": [
    "from sklearn.svm import SVC\n",
    "svc=SVC(kernel='linear')\n",
    "svc.fit(x_train,y_train)\n",
    "y_pred=svc.predict(x_test)\n",
    "print('Accuracy on training data is:',svc.score(x_train,y_train))\n",
    "print('Accuracy is:',accuracy_score(y_test,y_pred))\n",
    "print('Precision is:',precision_score(y_test,y_pred,average='weighted'))\n",
    "print('Recall is:',recall_score(y_test,y_pred,average='weighted'))\n",
    "print('f1 score is:',f1_score(y_test,y_pred,average='weighted'))\n",
    "print(classification_report(y_test,y_pred))\n",
    "print(confusion_matrix(y_test,y_pred))"
   ]
  },
  {
   "cell_type": "markdown",
   "metadata": {
    "id": "zKpiJDzhsn9r"
   },
   "source": [
    "### Decision Tree Classifier"
   ]
  },
  {
   "cell_type": "code",
   "execution_count": 74,
   "metadata": {
    "colab": {
     "base_uri": "https://localhost:8080/"
    },
    "id": "iJAiPQSssn9r",
    "outputId": "ed4d0c09-77d4-4b48-f717-ae806a0490c5"
   },
   "outputs": [
    {
     "name": "stdout",
     "output_type": "stream",
     "text": [
      "Accuracy on training data is: 0.9601807743984365\n",
      "Accuracy is: 0.7454811919882756\n",
      "Precision is: 0.7398386262933426\n",
      "Recall is: 0.7454811919882756\n",
      "f1 score is: 0.7423897282056624\n",
      "              precision    recall  f1-score   support\n",
      "\n",
      "       <=50K       0.82      0.84      0.83      3021\n",
      "        >50K       0.52      0.48      0.50      1073\n",
      "\n",
      "    accuracy                           0.75      4094\n",
      "   macro avg       0.67      0.66      0.66      4094\n",
      "weighted avg       0.74      0.75      0.74      4094\n",
      "\n",
      "[[2538  483]\n",
      " [ 559  514]]\n"
     ]
    }
   ],
   "source": [
    "from sklearn.tree import DecisionTreeClassifier\n",
    "dt_model=DecisionTreeClassifier()\n",
    "dt_model.fit(x_train,y_train)\n",
    "y_pred=dt_model.predict(x_test)\n",
    "print('Accuracy on training data is:',dt_model.score(x_train,y_train))\n",
    "print('Accuracy is:',accuracy_score(y_test,y_pred))\n",
    "print('Precision is:',precision_score(y_test,y_pred,average='weighted'))\n",
    "print('Recall is:',recall_score(y_test,y_pred,average='weighted'))\n",
    "print('f1 score is:',f1_score(y_test,y_pred,average='weighted'))\n",
    "print(classification_report(y_test,y_pred))\n",
    "print(confusion_matrix(y_test,y_pred))"
   ]
  },
  {
   "cell_type": "markdown",
   "metadata": {
    "id": "-KOvZKugsn9s"
   },
   "source": [
    "### KNN Model"
   ]
  },
  {
   "cell_type": "code",
   "execution_count": 75,
   "metadata": {
    "id": "nisr76yzsn9s"
   },
   "outputs": [],
   "source": [
    "from sklearn.neighbors import KNeighborsClassifier\n",
    "acc_values=[]\n",
    "n_neighbors=np.arange(2,18)\n",
    "for i in n_neighbors:\n",
    "  knn_model=KNeighborsClassifier(n_neighbors=i,metric='minkowski')\n",
    "  knn_model.fit(x_train,y_train)\n",
    "  y_pred=knn_model.predict(x_test)\n",
    "  acc=accuracy_score(y_test,y_pred)\n",
    "  acc_values.append(acc)"
   ]
  },
  {
   "cell_type": "code",
   "execution_count": 76,
   "metadata": {
    "colab": {
     "base_uri": "https://localhost:8080/",
     "height": 296
    },
    "id": "lM0z9PYzsn9t",
    "outputId": "8aa47401-4c75-43ea-a287-b9ba6ccde859"
   },
   "outputs": [
    {
     "data": {
      "text/plain": [
       "Text(0, 0.5, 'Accuracy values')"
      ]
     },
     "execution_count": 76,
     "metadata": {},
     "output_type": "execute_result"
    },
    {
     "data": {
      "image/png": "[encoded data removed]",
      "text/plain": [
       "<Figure size 1080x720 with 1 Axes>"
      ]
     },
     "metadata": {
      "needs_background": "light"
     },
     "output_type": "display_data"
    }
   ],
   "source": [
    "plt.plot(n_neighbors,acc_values,'o-')\n",
    "plt.xlabel('Number of Neighbors')\n",
    "plt.ylabel('Accuracy values')"
   ]
  },
  {
   "cell_type": "code",
   "execution_count": 77,
   "metadata": {
    "colab": {
     "base_uri": "https://localhost:8080/"
    },
    "id": "mbbARdfisn9u",
    "outputId": "10f87100-f9ec-49bb-d78a-4815bdbf7c16"
   },
   "outputs": [
    {
     "name": "stdout",
     "output_type": "stream",
     "text": [
      "Accuracy on training data is: 0.835287651154269\n",
      "Accuracy is: 0.790180752320469\n",
      "Precision is: 0.7816159762148495\n",
      "Recall is: 0.790180752320469\n",
      "f1 score is: 0.7845568125804867\n",
      "              precision    recall  f1-score   support\n",
      "\n",
      "       <=50K       0.84      0.88      0.86      3021\n",
      "        >50K       0.62      0.53      0.57      1073\n",
      "\n",
      "    accuracy                           0.79      4094\n",
      "   macro avg       0.73      0.71      0.71      4094\n",
      "weighted avg       0.78      0.79      0.78      4094\n",
      "\n",
      "[[2670  351]\n",
      " [ 508  565]]\n"
     ]
    }
   ],
   "source": [
    "knn_model=KNeighborsClassifier(n_neighbors=7,metric='minkowski')\n",
    "knn_model.fit(x_train,y_train)\n",
    "y_pred=knn_model.predict(x_test)\n",
    "print('Accuracy on training data is:',knn_model.score(x_train,y_train))\n",
    "print('Accuracy is:',accuracy_score(y_test,y_pred))\n",
    "print('Precision is:',precision_score(y_test,y_pred,average='weighted'))\n",
    "print('Recall is:',recall_score(y_test,y_pred,average='weighted'))\n",
    "print('f1 score is:',f1_score(y_test,y_pred,average='weighted'))\n",
    "print(classification_report(y_test,y_pred))\n",
    "print(confusion_matrix(y_test,y_pred))"
   ]
  },
  {
   "cell_type": "markdown",
   "metadata": {
    "id": "IIG5m7Tvsn9v"
   },
   "source": [
    "### Random Forest Classifier"
   ]
  },
  {
   "cell_type": "code",
   "execution_count": 78,
   "metadata": {
    "colab": {
     "base_uri": "https://localhost:8080/"
    },
    "id": "3qCqrgdMsn9v",
    "outputId": "078fb4d3-76ff-43ff-a0c9-7ce9ee0c9942"
   },
   "outputs": [
    {
     "name": "stdout",
     "output_type": "stream",
     "text": [
      "Accuracy on training data is: 0.9601807743984365\n",
      "Accuracy is: 0.7874938935026868\n",
      "Precision is: 0.7790962399449175\n",
      "Recall is: 0.7874938935026868\n",
      "f1 score is: 0.7820829042345264\n",
      "              precision    recall  f1-score   support\n",
      "\n",
      "       <=50K       0.84      0.88      0.86      3021\n",
      "        >50K       0.61      0.52      0.56      1073\n",
      "\n",
      "    accuracy                           0.79      4094\n",
      "   macro avg       0.72      0.70      0.71      4094\n",
      "weighted avg       0.78      0.79      0.78      4094\n",
      "\n",
      "[[2661  360]\n",
      " [ 510  563]]\n"
     ]
    }
   ],
   "source": [
    "from sklearn.ensemble import RandomForestClassifier\n",
    "rf_model=RandomForestClassifier()\n",
    "rf_model.fit(x_train,y_train)\n",
    "y_pred=rf_model.predict(x_test)\n",
    "print('Accuracy on training data is:',rf_model.score(x_train,y_train))\n",
    "print('Accuracy is:',accuracy_score(y_test,y_pred))\n",
    "print('Precision is:',precision_score(y_test,y_pred,average='weighted'))\n",
    "print('Recall is:',recall_score(y_test,y_pred,average='weighted'))\n",
    "print('f1 score is:',f1_score(y_test,y_pred,average='weighted'))\n",
    "print(classification_report(y_test,y_pred))\n",
    "print(confusion_matrix(y_test,y_pred))"
   ]
  },
  {
   "cell_type": "markdown",
   "metadata": {
    "id": "p3mxoWp-sn9w"
   },
   "source": [
    "# Gradient Boosting"
   ]
  },
  {
   "cell_type": "code",
   "execution_count": 79,
   "metadata": {
    "colab": {
     "base_uri": "https://localhost:8080/"
    },
    "id": "HHUWF_zSsn9w",
    "outputId": "eb9c832a-d4ad-4728-d483-ddd0dcf69d38"
   },
   "outputs": [
    {
     "name": "stdout",
     "output_type": "stream",
     "text": [
      "Accuracy on training data is: 0.9601807743984365\n",
      "Accuracy is: 0.8229115779189057\n",
      "Precision is: 0.815303298284436\n",
      "Recall is: 0.8229115779189057\n",
      "f1 score is: 0.816757586785598\n",
      "              precision    recall  f1-score   support\n",
      "\n",
      "       <=50K       0.86      0.91      0.88      3021\n",
      "        >50K       0.70      0.57      0.63      1073\n",
      "\n",
      "    accuracy                           0.82      4094\n",
      "   macro avg       0.78      0.74      0.76      4094\n",
      "weighted avg       0.82      0.82      0.82      4094\n",
      "\n",
      "[[2757  264]\n",
      " [ 461  612]]\n"
     ]
    }
   ],
   "source": [
    "from sklearn.ensemble import GradientBoostingClassifier\n",
    "gb = GradientBoostingClassifier()\n",
    "gb.fit(x_train,y_train)\n",
    "y_pred = gb.predict(x_test)\n",
    "print('Accuracy on training data is:',rf_model.score(x_train,y_train))\n",
    "print('Accuracy is:',accuracy_score(y_test,y_pred))\n",
    "print('Precision is:',precision_score(y_test,y_pred,average='weighted'))\n",
    "print('Recall is:',recall_score(y_test,y_pred,average='weighted'))\n",
    "print('f1 score is:',f1_score(y_test,y_pred,average='weighted'))\n",
    "print(classification_report(y_test,y_pred))\n",
    "print(confusion_matrix(y_test,y_pred))"
   ]
  },
  {
   "cell_type": "markdown",
   "metadata": {
    "id": "oXPlDZgesn9x"
   },
   "source": [
    "### Naive Bayes"
   ]
  },
  {
   "cell_type": "code",
   "execution_count": 80,
   "metadata": {
    "colab": {
     "base_uri": "https://localhost:8080/"
    },
    "id": "NLydM5mvsn9x",
    "outputId": "c7f14d0c-64cc-4eab-83ae-81a69bf9cd9b"
   },
   "outputs": [
    {
     "name": "stdout",
     "output_type": "stream",
     "text": [
      "Accuracy on training data is: 0.9601807743984365\n",
      "Accuracy is: 0.7410845139228138\n",
      "Precision is: 0.762952711513866\n",
      "Recall is: 0.7410845139228138\n",
      "f1 score is: 0.7491540193603919\n",
      "              precision    recall  f1-score   support\n",
      "\n",
      "       <=50K       0.85      0.78      0.82      3021\n",
      "        >50K       0.50      0.63      0.56      1073\n",
      "\n",
      "    accuracy                           0.74      4094\n",
      "   macro avg       0.68      0.70      0.69      4094\n",
      "weighted avg       0.76      0.74      0.75      4094\n",
      "\n",
      "[[2363  658]\n",
      " [ 402  671]]\n"
     ]
    }
   ],
   "source": [
    "from sklearn.naive_bayes import GaussianNB\n",
    "#Create a Gaussian Classifier\n",
    "model = GaussianNB()\n",
    "gnb = model.fit(x_train,y_train)\n",
    "y_pred = gnb.predict(x_test)\n",
    "print('Accuracy on training data is:',rf_model.score(x_train,y_train))\n",
    "print('Accuracy is:',accuracy_score(y_test,y_pred))\n",
    "print('Precision is:',precision_score(y_test,y_pred,average='weighted'))\n",
    "print('Recall is:',recall_score(y_test,y_pred,average='weighted'))\n",
    "print('f1 score is:',f1_score(y_test,y_pred,average='weighted'))\n",
    "print(classification_report(y_test,y_pred))\n",
    "print(confusion_matrix(y_test,y_pred))"
   ]
  },
  {
   "cell_type": "code",
   "execution_count": 81,
   "metadata": {
    "colab": {
     "base_uri": "https://localhost:8080/"
    },
    "id": "3vC6WvPvddku",
    "outputId": "e0b0d943-0b3f-43dd-a943-f1055ee30f96"
   },
   "outputs": [
    {
     "data": {
      "text/plain": [
       "0.8194919394235467"
      ]
     },
     "execution_count": 81,
     "metadata": {},
     "output_type": "execute_result"
    }
   ],
   "source": [
    "from sklearn.ensemble import GradientBoostingClassifier\n",
    "clf = GradientBoostingClassifier(n_estimators=100, learning_rate=1.0, max_depth=1, random_state=0).fit(x_train, y_train)\n",
    "clf.score(x_test, y_test)"
   ]
  },
  {
   "cell_type": "markdown",
   "metadata": {
    "id": "F2N25f1Psn9y"
   },
   "source": [
    "Models do not fit well when there is a class imbalance. So there are some methods like oversampling, undersampling and mixture.SMOTE(Synthetic Minority Oversampling Technique). It creates new samples along the lines of the existing samples."
   ]
  },
  {
   "cell_type": "markdown",
   "metadata": {
    "id": "V39qhgWxkVEN"
   },
   "source": [
    "## Sampling"
   ]
  },
  {
   "cell_type": "code",
   "execution_count": 82,
   "metadata": {
    "id": "HEzrHCYzsn9y"
   },
   "outputs": [
    {
     "name": "stdout",
     "output_type": "stream",
     "text": [
      "Requirement already satisfied: imblearn in c:\\users\\dell\\anaconda3\\lib\\site-packages (0.0)\n",
      "Requirement already satisfied: imbalanced-learn in c:\\users\\dell\\anaconda3\\lib\\site-packages (from imblearn) (0.10.1)\n",
      "Requirement already satisfied: threadpoolctl>=2.0.0 in c:\\users\\dell\\anaconda3\\lib\\site-packages (from imbalanced-learn->imblearn) (2.2.0)\n",
      "Requirement already satisfied: scikit-learn>=1.0.2 in c:\\users\\dell\\anaconda3\\lib\\site-packages (from imbalanced-learn->imblearn) (1.0.2)\n",
      "Requirement already satisfied: numpy>=1.17.3 in c:\\users\\dell\\anaconda3\\lib\\site-packages (from imbalanced-learn->imblearn) (1.21.5)\n",
      "Requirement already satisfied: joblib>=1.1.1 in c:\\users\\dell\\anaconda3\\lib\\site-packages (from imbalanced-learn->imblearn) (1.2.0)\n",
      "Requirement already satisfied: scipy>=1.3.2 in c:\\users\\dell\\anaconda3\\lib\\site-packages (from imbalanced-learn->imblearn) (1.7.3)\n",
      "Note: you may need to restart the kernel to use updated packages.\n"
     ]
    }
   ],
   "source": [
    "pip install imblearn"
   ]
  },
  {
   "cell_type": "code",
   "execution_count": 83,
   "metadata": {
    "id": "IiQJh64Lsn9z",
    "scrolled": false
   },
   "outputs": [],
   "source": [
    "from imblearn.over_sampling import SMOTE"
   ]
  },
  {
   "cell_type": "code",
   "execution_count": 86,
   "metadata": {
    "colab": {
     "base_uri": "https://localhost:8080/"
    },
    "id": "k6b4DXJ-gpWA",
    "outputId": "d2a478fd-96fe-4995-f201-e0b2548ca298"
   },
   "outputs": [
    {
     "name": "stdout",
     "output_type": "stream",
     "text": [
      "Counter({'<=50K': 15092, '>50K': 15092})\n"
     ]
    }
   ],
   "source": [
    "oversample=SMOTE()\n",
    "x,y=oversample.fit_resample(data,target_salary)\n",
    "counter=Counter(y)\n",
    "print(counter)"
   ]
  },
  {
   "cell_type": "code",
   "execution_count": 87,
   "metadata": {
    "colab": {
     "base_uri": "https://localhost:8080/",
     "height": 282
    },
    "id": "iH3uKAxcJj3l",
    "outputId": "cac8b76a-cc3d-4383-910b-159af8bd73e3"
   },
   "outputs": [
    {
     "data": {
      "text/plain": [
       "<BarContainer object of 2 artists>"
      ]
     },
     "execution_count": 87,
     "metadata": {},
     "output_type": "execute_result"
    },
    {
     "data": {
      "image/png": "[encoded data removed]",
      "text/plain": [
       "<Figure size 432x288 with 1 Axes>"
      ]
     },
     "metadata": {
      "needs_background": "light"
     },
     "output_type": "display_data"
    }
   ],
   "source": [
    "plt.bar(counter.keys(),counter.values())"
   ]
  },
  {
   "cell_type": "code",
   "execution_count": 88,
   "metadata": {
    "id": "r96ZJ3o-hSFo"
   },
   "outputs": [],
   "source": [
    "#Standardisation\n",
    "scale=StandardScaler()\n",
    "X=scale.fit_transform(x)"
   ]
  },
  {
   "cell_type": "code",
   "execution_count": 89,
   "metadata": {
    "id": "YMN-H8GBsn90"
   },
   "outputs": [],
   "source": [
    "X_train, X_test, Y_train, Y_test = train_test_split(X, y, test_size=0.2, random_state=24) # 80% training and 20% test"
   ]
  },
  {
   "cell_type": "markdown",
   "metadata": {
    "id": "pAiCFspXkyQn"
   },
   "source": [
    "## Logistic Regression"
   ]
  },
  {
   "cell_type": "code",
   "execution_count": 90,
   "metadata": {
    "colab": {
     "base_uri": "https://localhost:8080/"
    },
    "id": "b1vAee8xe5mP",
    "outputId": "4022064d-8bd9-4586-c9dd-66308199c8bb"
   },
   "outputs": [
    {
     "data": {
      "text/plain": [
       "0.7074705979791287"
      ]
     },
     "execution_count": 90,
     "metadata": {},
     "output_type": "execute_result"
    }
   ],
   "source": [
    "logmodel = LogisticRegression()\n",
    "logmodel.fit(X_train, Y_train)\n",
    "logmodel.score(X_test,Y_test)\n"
   ]
  },
  {
   "cell_type": "markdown",
   "metadata": {
    "id": "bhqLE1Yth_45"
   },
   "source": [
    "## SVM"
   ]
  },
  {
   "cell_type": "code",
   "execution_count": 91,
   "metadata": {
    "colab": {
     "base_uri": "https://localhost:8080/"
    },
    "id": "5pDZtFmOh5w1",
    "outputId": "db57d3e7-51c0-4a4b-a02e-18a67fd49c69"
   },
   "outputs": [
    {
     "name": "stdout",
     "output_type": "stream",
     "text": [
      "Accuracy on training data is: 0.7015364227440262\n",
      "Accuracy is: 0.7132681795593838\n",
      "Precision is: 0.72648027181611\n",
      "Recall is: 0.7132681795593838\n",
      "f1 score is: 0.7081549485996395\n",
      "              precision    recall  f1-score   support\n",
      "\n",
      "       <=50K       0.78      0.58      0.67      2974\n",
      "        >50K       0.67      0.84      0.75      3063\n",
      "\n",
      "    accuracy                           0.71      6037\n",
      "   macro avg       0.73      0.71      0.71      6037\n",
      "weighted avg       0.73      0.71      0.71      6037\n",
      "\n",
      "[[1731 1243]\n",
      " [ 488 2575]]\n"
     ]
    }
   ],
   "source": [
    "from sklearn.svm import SVC\n",
    "svc=SVC(kernel='linear')\n",
    "svc.fit(X_train,Y_train)\n",
    "Y_pred=svc.predict(X_test)\n",
    "print('Accuracy on training data is:',svc.score(X_train,Y_train))\n",
    "print('Accuracy is:',accuracy_score(Y_test,Y_pred))\n",
    "print('Precision is:',precision_score(Y_test,Y_pred,average='weighted'))\n",
    "print('Recall is:',recall_score(Y_test,Y_pred,average='weighted'))\n",
    "print('f1 score is:',f1_score(Y_test,Y_pred,average='weighted'))\n",
    "print(classification_report(Y_test,Y_pred))\n",
    "print(confusion_matrix(Y_test,Y_pred))"
   ]
  },
  {
   "cell_type": "markdown",
   "metadata": {
    "id": "2nNk5nSwjkzr"
   },
   "source": [
    "### Decision Tree Classifier"
   ]
  },
  {
   "cell_type": "code",
   "execution_count": 92,
   "metadata": {
    "colab": {
     "base_uri": "https://localhost:8080/"
    },
    "id": "mUbnJuSBjsur",
    "outputId": "871746a2-a89e-4e95-d0f6-182bfad2c66d"
   },
   "outputs": [
    {
     "name": "stdout",
     "output_type": "stream",
     "text": [
      "Accuracy on training data is: 0.7015364227440262\n",
      "Accuracy is: 0.8002319032632103\n",
      "Precision is: 0.8004214300644806\n",
      "Recall is: 0.8002319032632103\n",
      "f1 score is: 0.8001405464906642\n",
      "              precision    recall  f1-score   support\n",
      "\n",
      "       <=50K       0.81      0.78      0.79      2974\n",
      "        >50K       0.79      0.82      0.81      3063\n",
      "\n",
      "    accuracy                           0.80      6037\n",
      "   macro avg       0.80      0.80      0.80      6037\n",
      "weighted avg       0.80      0.80      0.80      6037\n",
      "\n",
      "[[2325  649]\n",
      " [ 557 2506]]\n"
     ]
    }
   ],
   "source": [
    "dt_model=DecisionTreeClassifier()\n",
    "dt_model.fit(X_train,Y_train)\n",
    "Y_pred=dt_model.predict(X_test)\n",
    "print('Accuracy on training data is:',svc.score(X_train,Y_train))\n",
    "print('Accuracy is:',accuracy_score(Y_test,Y_pred))\n",
    "print('Precision is:',precision_score(Y_test,Y_pred,average='weighted'))\n",
    "print('Recall is:',recall_score(Y_test,Y_pred,average='weighted'))\n",
    "print('f1 score is:',f1_score(Y_test,Y_pred,average='weighted'))\n",
    "print(classification_report(Y_test,Y_pred))\n",
    "print(confusion_matrix(Y_test,Y_pred))"
   ]
  },
  {
   "cell_type": "markdown",
   "metadata": {
    "id": "TmZC1TDdk8YJ"
   },
   "source": [
    "## KNN"
   ]
  },
  {
   "cell_type": "code",
   "execution_count": 93,
   "metadata": {
    "id": "T9qzxW9jk63e"
   },
   "outputs": [],
   "source": [
    "from sklearn.neighbors import KNeighborsClassifier\n",
    "acc_values=[]\n",
    "n_neighbors=np.arange(2,18)\n",
    "for i in n_neighbors:\n",
    "  knn_model=KNeighborsClassifier(n_neighbors=i,metric='minkowski')\n",
    "  knn_model.fit(X_train,Y_train)\n",
    "  Y_pred=knn_model.predict(X_test)\n",
    "  acc=accuracy_score(Y_test,Y_pred)\n",
    "  acc_values.append(acc)"
   ]
  },
  {
   "cell_type": "code",
   "execution_count": 94,
   "metadata": {
    "colab": {
     "base_uri": "https://localhost:8080/",
     "height": 296
    },
    "id": "Oyv-SKcilX4W",
    "outputId": "df128ec6-d595-4b58-c503-d6101e4b2ab9"
   },
   "outputs": [
    {
     "data": {
      "text/plain": [
       "Text(0, 0.5, 'Accuracy values')"
      ]
     },
     "execution_count": 94,
     "metadata": {},
     "output_type": "execute_result"
    },
    {
     "data": {
      "image/png": "[encoded data removed]",
      "text/plain": [
       "<Figure size 432x288 with 1 Axes>"
      ]
     },
     "metadata": {
      "needs_background": "light"
     },
     "output_type": "display_data"
    }
   ],
   "source": [
    "plt.plot(n_neighbors,acc_values,'o-')\n",
    "plt.xlabel('Number of Neighbors')\n",
    "plt.ylabel('Accuracy values')"
   ]
  },
  {
   "cell_type": "code",
   "execution_count": 95,
   "metadata": {
    "colab": {
     "base_uri": "https://localhost:8080/"
    },
    "id": "TWgWOfmulc5h",
    "outputId": "a871b667-b1e0-431c-f6e8-4fc3b0d042a7"
   },
   "outputs": [
    {
     "name": "stdout",
     "output_type": "stream",
     "text": [
      "Accuracy on training data is: 0.886031391063072\n",
      "Accuracy is: 0.8091767434156037\n",
      "Precision is: 0.8108612835944154\n",
      "Recall is: 0.8091767434156037\n",
      "f1 score is: 0.8087739848331541\n",
      "              precision    recall  f1-score   support\n",
      "\n",
      "       <=50K       0.83      0.77      0.80      2974\n",
      "        >50K       0.79      0.85      0.82      3063\n",
      "\n",
      "    accuracy                           0.81      6037\n",
      "   macro avg       0.81      0.81      0.81      6037\n",
      "weighted avg       0.81      0.81      0.81      6037\n",
      "\n",
      "[[2280  694]\n",
      " [ 458 2605]]\n"
     ]
    }
   ],
   "source": [
    "knn_model=KNeighborsClassifier(n_neighbors=3,metric='minkowski')\n",
    "knn_model.fit(X_train,Y_train)\n",
    "Y_pred=knn_model.predict(X_test)\n",
    "print('Accuracy on training data is:',knn_model.score(X_train,Y_train))\n",
    "print('Accuracy is:',accuracy_score(Y_test,Y_pred))\n",
    "print('Precision is:',precision_score(Y_test,Y_pred,average='weighted'))\n",
    "print('Recall is:',recall_score(Y_test,Y_pred,average='weighted'))\n",
    "print('f1 score is:',f1_score(Y_test,Y_pred,average='weighted'))\n",
    "print(classification_report(Y_test,Y_pred))\n",
    "print(confusion_matrix(Y_test,Y_pred))"
   ]
  },
  {
   "cell_type": "markdown",
   "metadata": {
    "id": "dru9oTrYk_02"
   },
   "source": [
    "## RANDOM FOREST"
   ]
  },
  {
   "cell_type": "code",
   "execution_count": 96,
   "metadata": {
    "colab": {
     "base_uri": "https://localhost:8080/"
    },
    "id": "mRNGHen0lDub",
    "outputId": "d4fdc0e9-4f4b-478e-8627-17226fd45bb8"
   },
   "outputs": [
    {
     "name": "stdout",
     "output_type": "stream",
     "text": [
      "Accuracy on training data is: 0.962189920072887\n",
      "Accuracy is: 0.8409806195130032\n",
      "Precision is: 0.8417958235937911\n",
      "Recall is: 0.8409806195130032\n",
      "f1 score is: 0.8408100547334416\n",
      "              precision    recall  f1-score   support\n",
      "\n",
      "       <=50K       0.86      0.81      0.83      2974\n",
      "        >50K       0.83      0.87      0.85      3063\n",
      "\n",
      "    accuracy                           0.84      6037\n",
      "   macro avg       0.84      0.84      0.84      6037\n",
      "weighted avg       0.84      0.84      0.84      6037\n",
      "\n",
      "[[2415  559]\n",
      " [ 401 2662]]\n"
     ]
    }
   ],
   "source": [
    "rf_model=RandomForestClassifier()\n",
    "rf_model.fit(X_train,Y_train)\n",
    "Y_pred=rf_model.predict(X_test)\n",
    "print('Accuracy on training data is:',rf_model.score(X_train,Y_train))\n",
    "print('Accuracy is:',accuracy_score(Y_test,Y_pred))\n",
    "print('Precision is:',precision_score(Y_test,Y_pred,average='weighted'))\n",
    "print('Recall is:',recall_score(Y_test,Y_pred,average='weighted'))\n",
    "print('f1 score is:',f1_score(Y_test,Y_pred,average='weighted'))\n",
    "print(classification_report(Y_test,Y_pred))\n",
    "print(confusion_matrix(Y_test,Y_pred))"
   ]
  },
  {
   "cell_type": "markdown",
   "metadata": {
    "id": "iEDCc2pZlLDM"
   },
   "source": [
    "## GRADIENT BOOSTING"
   ]
  },
  {
   "cell_type": "code",
   "execution_count": 97,
   "metadata": {
    "colab": {
     "base_uri": "https://localhost:8080/"
    },
    "id": "FCC1oflYlpMj",
    "outputId": "f5c3399a-2a70-44fe-c206-720c32392eb1"
   },
   "outputs": [
    {
     "name": "stdout",
     "output_type": "stream",
     "text": [
      "Accuracy on training data is: 0.962189920072887\n",
      "Accuracy is: 0.8182872287560047\n",
      "Precision is: 0.8203184564088616\n",
      "Recall is: 0.8182872287560047\n",
      "f1 score is: 0.8178544302545384\n",
      "              precision    recall  f1-score   support\n",
      "\n",
      "       <=50K       0.84      0.77      0.81      2974\n",
      "        >50K       0.80      0.86      0.83      3063\n",
      "\n",
      "    accuracy                           0.82      6037\n",
      "   macro avg       0.82      0.82      0.82      6037\n",
      "weighted avg       0.82      0.82      0.82      6037\n",
      "\n",
      "[[2299  675]\n",
      " [ 422 2641]]\n"
     ]
    }
   ],
   "source": [
    "gb = GradientBoostingClassifier()\n",
    "gb.fit(X_train,Y_train)\n",
    "Y_pred = gb.predict(X_test)\n",
    "print('Accuracy on training data is:',rf_model.score(X_train,Y_train))\n",
    "print('Accuracy is:',accuracy_score(Y_test,Y_pred))\n",
    "print('Precision is:',precision_score(Y_test,Y_pred,average='weighted'))\n",
    "print('Recall is:',recall_score(Y_test,Y_pred,average='weighted'))\n",
    "print('f1 score is:',f1_score(Y_test,Y_pred,average='weighted'))\n",
    "print(classification_report(Y_test,Y_pred))\n",
    "print(confusion_matrix(Y_test,Y_pred))"
   ]
  },
  {
   "cell_type": "code",
   "execution_count": 98,
   "metadata": {
    "colab": {
     "base_uri": "https://localhost:8080/"
    },
    "id": "rjiowT5dpn7b",
    "outputId": "8f98dd9f-09b4-4e5f-b543-54d720ccff7f"
   },
   "outputs": [
    {
     "data": {
      "text/plain": [
       "0.8134835183037933"
      ]
     },
     "execution_count": 98,
     "metadata": {},
     "output_type": "execute_result"
    }
   ],
   "source": [
    "from sklearn.ensemble import GradientBoostingClassifier\n",
    "clf = GradientBoostingClassifier(n_estimators=100, learning_rate=1.0, max_depth=1, random_state=0).fit(X_train, Y_train)\n",
    "clf.score(X_test, Y_test)"
   ]
  },
  {
   "cell_type": "markdown",
   "metadata": {},
   "source": [
    "BEST MODEL IS RANDOM FOREST MODEL"
   ]
  },
  {
   "cell_type": "code",
   "execution_count": 99,
   "metadata": {
    "id": "ptsh4A2kwiE_"
   },
   "outputs": [],
   "source": [
    "# save the model\n",
    "import pickle\n",
    "filename = 'model.pkl'\n",
    "pickle.dump(rf_model, open(filename, 'wb'))"
   ]
  },
  {
   "cell_type": "code",
   "execution_count": 100,
   "metadata": {},
   "outputs": [],
   "source": [
    "load_model = pickle.load(open(filename,'rb'))"
   ]
  },
  {
   "cell_type": "code",
   "execution_count": 101,
   "metadata": {},
   "outputs": [
    {
     "data": {
      "text/plain": [
       "array(['<=50K'], dtype=object)"
      ]
     },
     "execution_count": 101,
     "metadata": {},
     "output_type": "execute_result"
    }
   ],
   "source": [
    "load_model.predict([[39,6,5,2,0,1,4,1,40,38]])"
   ]
  },
  {
   "cell_type": "code",
   "execution_count": null,
   "metadata": {},
   "outputs": [],
   "source": []
  }
 ],
 "metadata": {
  "colab": {
   "collapsed_sections": [
    "n0D1suJm6_uS",
    "RlNdKdh1sn9W"
   ],
   "name": "HR_Salary_Prediction_shiffa.ipynb",
   "provenance": []
  },
  "kernelspec": {
   "display_name": "Python 3 (ipykernel)",
   "language": "python",
   "name": "python3"
  },
  "language_info": {
   "codemirror_mode": {
    "name": "ipython",
    "version": 3
   },
   "file_extension": ".py",
   "mimetype": "text/x-python",
   "name": "python",
   "nbconvert_exporter": "python",
   "pygments_lexer": "ipython3",
   "version": "3.9.12"
  }
 },
 "nbformat": 4,
 "nbformat_minor": 1
}
